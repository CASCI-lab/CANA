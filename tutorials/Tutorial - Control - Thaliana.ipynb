{
 "cells": [
  {
   "cell_type": "markdown",
   "metadata": {},
   "source": [
    "# Network Control - Thaliana\n",
    "control measures for the Arabidobis Thaliana Boolean Model"
   ]
  },
  {
   "cell_type": "code",
   "execution_count": 1,
   "metadata": {
    "collapsed": true
   },
   "outputs": [],
   "source": [
    "%load_ext autoreload\n",
    "%autoreload 2\n",
    "%matplotlib inline"
   ]
  },
  {
   "cell_type": "code",
   "execution_count": 5,
   "metadata": {
    "collapsed": true
   },
   "outputs": [],
   "source": [
    "from __future__ import division\n",
    "import numpy as np\n",
    "from itertools import product\n",
    "from cana.control import fvs, mds, sc\n",
    "from cana.datasets.bio import THALIANA\n",
    "from IPython.display import display\n",
    "from IPython.core.display import HTML"
   ]
  },
  {
   "cell_type": "code",
   "execution_count": 59,
   "metadata": {
    "collapsed": false
   },
   "outputs": [],
   "source": [
    "N = THALIANA()"
   ]
  },
  {
   "cell_type": "markdown",
   "metadata": {},
   "source": [
    "## Discovering Driver Nodes / Control Nodes"
   ]
  },
  {
   "cell_type": "code",
   "execution_count": null,
   "metadata": {
    "collapsed": false
   },
   "outputs": [],
   "source": [
    "display(HTML('<h3>Control State Transition Graph (CSTG)</h3>'))\n",
    "# THIS MIGHT TAKE A LONG TIME, it is here for demo purposes.\n",
    "driver_nodes = N.attractor_driver_nodes(min_dvs=1, max_dvs=6, verbose=True)\n",
    "print N.get_node_name(driver_nodes)\n",
    "#> ['AP2', 'EMF1', 'LFY', 'TFL1', 'UFO', 'WUS'], ['AG', 'EMF1', 'LFY', 'TFL1', 'UFO', 'WUS']"
   ]
  },
  {
   "cell_type": "code",
   "execution_count": 86,
   "metadata": {
    "collapsed": false
   },
   "outputs": [
    {
     "data": {
      "text/html": [
       "<h3>Structural Controlability (SC)</h3>"
      ],
      "text/plain": [
       "<IPython.core.display.HTML object>"
      ]
     },
     "metadata": {},
     "output_type": "display_data"
    },
    {
     "name": "stdout",
     "output_type": "stream",
     "text": [
      "[['EMF1'], ['SEP']]\n"
     ]
    }
   ],
   "source": [
    "display(HTML('<h3>Structural Controlability (SC)</h3>'))\n",
    "SC = N.structural_controllability_driver_nodes()\n",
    "print N.get_node_name(SC)"
   ]
  },
  {
   "cell_type": "code",
   "execution_count": 87,
   "metadata": {
    "collapsed": false
   },
   "outputs": [
    {
     "data": {
      "text/html": [
       "<h3>Minimum Dominating Set (MDS)</h3>"
      ],
      "text/plain": [
       "<IPython.core.display.HTML object>"
      ]
     },
     "metadata": {},
     "output_type": "display_data"
    },
    {
     "name": "stdout",
     "output_type": "stream",
     "text": [
      "[['UFO', 'TFL1', 'EMF1', 'SEP']]\n"
     ]
    }
   ],
   "source": [
    "display(HTML('<h3>Minimum Dominating Set (MDS)</h3>'))\n",
    "MDS = N.minimum_dominating_set_driver_nodes(max_search=10)\n",
    "print N.get_node_name(MDS)"
   ]
  },
  {
   "cell_type": "code",
   "execution_count": 88,
   "metadata": {
    "collapsed": false
   },
   "outputs": [
    {
     "data": {
      "text/html": [
       "<h3>Pinning Control (PC)</h3>"
      ],
      "text/plain": [
       "<IPython.core.display.HTML object>"
      ]
     },
     "metadata": {},
     "output_type": "display_data"
    }
   ],
   "source": [
    "display(HTML('<h3>Pinning Control (PC)</h3>'))\n"
   ]
  },
  {
   "cell_type": "code",
   "execution_count": 91,
   "metadata": {
    "collapsed": false
   },
   "outputs": [
    {
     "data": {
      "text/html": [
       "<h3>Feedback Vertex Control (FVS)</h3>"
      ],
      "text/plain": [
       "<IPython.core.display.HTML object>"
      ]
     },
     "metadata": {},
     "output_type": "display_data"
    },
    {
     "name": "stdout",
     "output_type": "stream",
     "text": [
      "[['AP3', 'UFO', 'LFY', 'WUS', 'AG', 'TFL1', 'PI']] (grasp)\n",
      "[['AP3', 'UFO', 'LFY', 'WUS', 'AG', 'TFL1', 'PI']] (bruteforce)\n"
     ]
    }
   ],
   "source": [
    "display(HTML('<h3>Feedback Vertex Control (FVS)</h3>'))\n",
    "FVS_g = N.feedback_vertex_set_driver_nodes(graph='structural', method='grasp', remove_constants=True)\n",
    "print N.get_node_name(FVS_g) , '(grasp)'\n",
    "FVS_bf = N.feedback_vertex_set_driver_nodes(graph='structural', method='bruteforce', remove_constants=True)\n",
    "print N.get_node_name(FVS_bf) , '(bruteforce)'"
   ]
  },
  {
   "cell_type": "markdown",
   "metadata": {},
   "source": [
    "## Differences between the Control Methods"
   ]
  },
  {
   "cell_type": "code",
   "execution_count": 3,
   "metadata": {
    "collapsed": false
   },
   "outputs": [],
   "source": [
    "# Control via State Transition Graph (CSTG)\n",
    "CSTGs = [['AP2', 'EMF1', 'LFY', 'TFL1', 'UFO', 'WUS'],\n",
    "         ['AG', 'EMF1', 'LFY', 'TFL1', 'UFO', 'WUS']\n",
    "        ]\n",
    "\n",
    "# Pinning Control\n",
    "PCs = [['AP3', 'UFO', 'AP1', 'LFY', 'WUS', 'AG'],\n",
    "       ['AP3', 'UFO', 'EMF1', 'WUS', 'AG', 'TFL1'],\n",
    "       ['AP3', 'UFO', 'LFY', 'WUS', 'AG', 'TFL1']\n",
    "      ]\n",
    "\n",
    "# Feedback Vertex Control\n",
    "# (threshold,loops,[control sets])\n",
    "FVC_Objs = [\n",
    "    ('original',49, [['AP3','UFO','LFY','WUS','AG','TFL1','PI']]),\n",
    "    ('0',19, [['AP3','UFO','AP1','LFY','WUS' 'AG','PI'],['AP3','UFO','EMF1','WUS','AG','TFL1','PI'],['AP3','UFO','LFY','WUS','AG','TFL1','PI']]),\n",
    "    ('0.0078125',17,[['AP3', 'UFO', 'AP1', 'LFY', 'WUS', 'PI']]),\n",
    "    ('0.0234375',14,[['AP3', 'UFO', 'AP1', 'LFY', 'WUS', 'PI'],['AP3', 'UFO', 'EMF1', 'WUS', 'TFL1', 'PI'],['AP3', 'UFO', 'LFY', 'WUS', 'TFL1', 'PI']]),\n",
    "    ('0.03125',14,[['AP3', 'UFO', 'AP1', 'LFY', 'WUS', 'PI'],['AP3', 'UFO', 'EMF1', 'WUS', 'TFL1', 'PI'],['AP3', 'UFO', 'LFY', 'WUS', 'TFL1', 'PI']]),\n",
    "    ('0.046875',14,[['AP3', 'UFO', 'AP1', 'LFY', 'WUS', 'PI'],['AP3', 'UFO', 'EMF1', 'WUS', 'TFL1', 'PI'],['AP3', 'UFO', 'LFY', 'WUS', 'TFL1', 'PI']]),\n",
    "    ('0.09375',13,[['AP3', 'UFO', 'AP1', 'LFY', 'WUS'],['AP3', 'UFO', 'EMF1', 'WUS', 'TFL1'],['AP3', 'UFO', 'LFY', 'WUS', 'TFL1']]),\n",
    "    ('0.125',10,[['AP3', 'UFO', 'AP1', 'LFY', 'WUS'],['AP3', 'UFO', 'EMF1', 'WUS', 'TFL1'],['AP3', 'UFO', 'LFY', 'WUS', 'AG'],['AP3', 'UFO', 'LFY', 'WUS', 'TFL1']]),\n",
    "    ('0.140625',8,[['UFO', 'AP1', 'LFY', 'WUS'],['UFO', 'EMF1', 'WUS', 'TFL1'],['UFO', 'LFY', 'WUS', 'AG'],['UFO', 'LFY', 'WUS', 'TFL1']]),\n",
    "    ('0.25',3,[['UFO', 'EMF1', 'WUS', 'TFL1'],['UFO', 'LFY', 'WUS', 'TFL1']]),\n",
    "    ('0.2734375',3,[['UFO', 'EMF1', 'WUS', 'TFL1'],['UFO', 'LFY', 'WUS', 'TFL1']]),\n",
    "    ('0.28125',3,[['UFO', 'EMF1', 'WUS', 'TFL1'],['UFO', 'LFY', 'WUS', 'TFL1']]),\n",
    "    ('0.34375',3,[['UFO', 'EMF1', 'WUS', 'TFL1'],['UFO', 'LFY', 'WUS', 'TFL1']]),\n",
    "    ('0.453125',3,[['AP3', 'UFO', 'EMF1', 'WUS', 'TFL1'],['AP3', 'UFO', 'LFY', 'WUS', 'TFL1']]),\n",
    "    ('0.5',2,[['AP3', 'UFO', 'FUL', 'LFY', 'WUS', 'TFL1']]),\n",
    "    ('0.65625',2,[['AP3', 'UFO', 'FUL', 'LFY', 'WUS', 'TFL1', 'PI']]),\n",
    "    ('0.7265625',2,[['AP3', 'UFO', 'FUL', 'LFY', 'WUS', 'AG', 'TFL1', 'PI']]),\n",
    "    ('0.75',1,[['AP3', 'UFO', 'FUL', 'LFY', 'WUS', 'AG', 'TFL1', 'PI']]),\n",
    "    ('0.875',1,[['AP3', 'UFO', 'FUL', 'AP1', 'LFY', 'WUS', 'AG', 'TFL1', 'PI']])\n",
    "    ]\n",
    "\n",
    "# Sort sets by alphabetical order\n",
    "CSTGs = [sorted(x) for x in CSTGs]\n",
    "PCs = [sorted(x) for x in PCs]\n",
    "FVC_Objs = [(name,loops,[sorted(x) for x in sets]) for (name,loops,sets) in FVC_Objs]"
   ]
  },
  {
   "cell_type": "code",
   "execution_count": 64,
   "metadata": {
    "collapsed": false
   },
   "outputs": [],
   "source": []
  },
  {
   "cell_type": "code",
   "execution_count": 65,
   "metadata": {
    "collapsed": false
   },
   "outputs": [],
   "source": [
    "def jaccard(u,v):\n",
    "    return len(u.intersection(v)) / len(u.union(v))"
   ]
  },
  {
   "cell_type": "code",
   "execution_count": 66,
   "metadata": {
    "collapsed": false,
    "scrolled": false
   },
   "outputs": [
    {
     "data": {
      "text/html": [
       "<h2>PC vs FVC</h2>"
      ],
      "text/plain": [
       "<IPython.core.display.HTML object>"
      ]
     },
     "metadata": {},
     "output_type": "display_data"
    },
    {
     "name": "stdout",
     "output_type": "stream",
     "text": [
      "T: original\n",
      "PC in FVC=0 ; J=0.625 [AG,AP1,AP3,LFY,UFO,WUS <-> AG,AP3,LFY,PI,TFL1,UFO,WUS]\n",
      "PC in FVC=0 ; J=0.625 [AG,AP3,EMF1,TFL1,UFO,WUS <-> AG,AP3,LFY,PI,TFL1,UFO,WUS]\n",
      "PC in FVC=1 ; J=0.857 [AG,AP3,LFY,TFL1,UFO,WUS <-> AG,AP3,LFY,PI,TFL1,UFO,WUS]\n",
      "\n",
      "T: 0\n",
      "PC in FVC=0 ; J=0.500 [AG,AP1,AP3,LFY,UFO,WUS <-> AP1,AP3,LFY,PI,UFO,WUSAG]\n",
      "PC in FVC=0 ; J=0.444 [AG,AP1,AP3,LFY,UFO,WUS <-> AG,AP3,EMF1,PI,TFL1,UFO,WUS]\n",
      "PC in FVC=0 ; J=0.625 [AG,AP1,AP3,LFY,UFO,WUS <-> AG,AP3,LFY,PI,TFL1,UFO,WUS]\n",
      "PC in FVC=0 ; J=0.200 [AG,AP3,EMF1,TFL1,UFO,WUS <-> AP1,AP3,LFY,PI,UFO,WUSAG]\n",
      "PC in FVC=1 ; J=0.857 [AG,AP3,EMF1,TFL1,UFO,WUS <-> AG,AP3,EMF1,PI,TFL1,UFO,WUS]\n",
      "PC in FVC=0 ; J=0.625 [AG,AP3,EMF1,TFL1,UFO,WUS <-> AG,AP3,LFY,PI,TFL1,UFO,WUS]\n",
      "PC in FVC=0 ; J=0.333 [AG,AP3,LFY,TFL1,UFO,WUS <-> AP1,AP3,LFY,PI,UFO,WUSAG]\n",
      "PC in FVC=0 ; J=0.625 [AG,AP3,LFY,TFL1,UFO,WUS <-> AG,AP3,EMF1,PI,TFL1,UFO,WUS]\n",
      "PC in FVC=1 ; J=0.857 [AG,AP3,LFY,TFL1,UFO,WUS <-> AG,AP3,LFY,PI,TFL1,UFO,WUS]\n",
      "\n",
      "T: 0.0078125\n",
      "PC in FVC=0 ; J=0.714 [AG,AP1,AP3,LFY,UFO,WUS <-> AP1,AP3,LFY,PI,UFO,WUS]\n",
      "PC in FVC=0 ; J=0.333 [AG,AP3,EMF1,TFL1,UFO,WUS <-> AP1,AP3,LFY,PI,UFO,WUS]\n",
      "PC in FVC=0 ; J=0.500 [AG,AP3,LFY,TFL1,UFO,WUS <-> AP1,AP3,LFY,PI,UFO,WUS]\n",
      "\n",
      "T: 0.0234375\n",
      "PC in FVC=0 ; J=0.714 [AG,AP1,AP3,LFY,UFO,WUS <-> AP1,AP3,LFY,PI,UFO,WUS]\n",
      "PC in FVC=0 ; J=0.333 [AG,AP1,AP3,LFY,UFO,WUS <-> AP3,EMF1,PI,TFL1,UFO,WUS]\n",
      "PC in FVC=0 ; J=0.500 [AG,AP1,AP3,LFY,UFO,WUS <-> AP3,LFY,PI,TFL1,UFO,WUS]\n",
      "PC in FVC=0 ; J=0.333 [AG,AP3,EMF1,TFL1,UFO,WUS <-> AP1,AP3,LFY,PI,UFO,WUS]\n",
      "PC in FVC=0 ; J=0.714 [AG,AP3,EMF1,TFL1,UFO,WUS <-> AP3,EMF1,PI,TFL1,UFO,WUS]\n",
      "PC in FVC=0 ; J=0.500 [AG,AP3,EMF1,TFL1,UFO,WUS <-> AP3,LFY,PI,TFL1,UFO,WUS]\n",
      "PC in FVC=0 ; J=0.500 [AG,AP3,LFY,TFL1,UFO,WUS <-> AP1,AP3,LFY,PI,UFO,WUS]\n",
      "PC in FVC=0 ; J=0.500 [AG,AP3,LFY,TFL1,UFO,WUS <-> AP3,EMF1,PI,TFL1,UFO,WUS]\n",
      "PC in FVC=0 ; J=0.714 [AG,AP3,LFY,TFL1,UFO,WUS <-> AP3,LFY,PI,TFL1,UFO,WUS]\n",
      "\n",
      "T: 0.03125\n",
      "PC in FVC=0 ; J=0.714 [AG,AP1,AP3,LFY,UFO,WUS <-> AP1,AP3,LFY,PI,UFO,WUS]\n",
      "PC in FVC=0 ; J=0.333 [AG,AP1,AP3,LFY,UFO,WUS <-> AP3,EMF1,PI,TFL1,UFO,WUS]\n",
      "PC in FVC=0 ; J=0.500 [AG,AP1,AP3,LFY,UFO,WUS <-> AP3,LFY,PI,TFL1,UFO,WUS]\n",
      "PC in FVC=0 ; J=0.333 [AG,AP3,EMF1,TFL1,UFO,WUS <-> AP1,AP3,LFY,PI,UFO,WUS]\n",
      "PC in FVC=0 ; J=0.714 [AG,AP3,EMF1,TFL1,UFO,WUS <-> AP3,EMF1,PI,TFL1,UFO,WUS]\n",
      "PC in FVC=0 ; J=0.500 [AG,AP3,EMF1,TFL1,UFO,WUS <-> AP3,LFY,PI,TFL1,UFO,WUS]\n",
      "PC in FVC=0 ; J=0.500 [AG,AP3,LFY,TFL1,UFO,WUS <-> AP1,AP3,LFY,PI,UFO,WUS]\n",
      "PC in FVC=0 ; J=0.500 [AG,AP3,LFY,TFL1,UFO,WUS <-> AP3,EMF1,PI,TFL1,UFO,WUS]\n",
      "PC in FVC=0 ; J=0.714 [AG,AP3,LFY,TFL1,UFO,WUS <-> AP3,LFY,PI,TFL1,UFO,WUS]\n",
      "\n",
      "T: 0.046875\n",
      "PC in FVC=0 ; J=0.714 [AG,AP1,AP3,LFY,UFO,WUS <-> AP1,AP3,LFY,PI,UFO,WUS]\n",
      "PC in FVC=0 ; J=0.333 [AG,AP1,AP3,LFY,UFO,WUS <-> AP3,EMF1,PI,TFL1,UFO,WUS]\n",
      "PC in FVC=0 ; J=0.500 [AG,AP1,AP3,LFY,UFO,WUS <-> AP3,LFY,PI,TFL1,UFO,WUS]\n",
      "PC in FVC=0 ; J=0.333 [AG,AP3,EMF1,TFL1,UFO,WUS <-> AP1,AP3,LFY,PI,UFO,WUS]\n",
      "PC in FVC=0 ; J=0.714 [AG,AP3,EMF1,TFL1,UFO,WUS <-> AP3,EMF1,PI,TFL1,UFO,WUS]\n",
      "PC in FVC=0 ; J=0.500 [AG,AP3,EMF1,TFL1,UFO,WUS <-> AP3,LFY,PI,TFL1,UFO,WUS]\n",
      "PC in FVC=0 ; J=0.500 [AG,AP3,LFY,TFL1,UFO,WUS <-> AP1,AP3,LFY,PI,UFO,WUS]\n",
      "PC in FVC=0 ; J=0.500 [AG,AP3,LFY,TFL1,UFO,WUS <-> AP3,EMF1,PI,TFL1,UFO,WUS]\n",
      "PC in FVC=0 ; J=0.714 [AG,AP3,LFY,TFL1,UFO,WUS <-> AP3,LFY,PI,TFL1,UFO,WUS]\n",
      "\n",
      "T: 0.09375\n",
      "PC in FVC=0 ; J=0.833 [AG,AP1,AP3,LFY,UFO,WUS <-> AP1,AP3,LFY,UFO,WUS]\n",
      "PC in FVC=0 ; J=0.375 [AG,AP1,AP3,LFY,UFO,WUS <-> AP3,EMF1,TFL1,UFO,WUS]\n",
      "PC in FVC=0 ; J=0.571 [AG,AP1,AP3,LFY,UFO,WUS <-> AP3,LFY,TFL1,UFO,WUS]\n",
      "PC in FVC=0 ; J=0.375 [AG,AP3,EMF1,TFL1,UFO,WUS <-> AP1,AP3,LFY,UFO,WUS]\n",
      "PC in FVC=0 ; J=0.833 [AG,AP3,EMF1,TFL1,UFO,WUS <-> AP3,EMF1,TFL1,UFO,WUS]\n",
      "PC in FVC=0 ; J=0.571 [AG,AP3,EMF1,TFL1,UFO,WUS <-> AP3,LFY,TFL1,UFO,WUS]\n",
      "PC in FVC=0 ; J=0.571 [AG,AP3,LFY,TFL1,UFO,WUS <-> AP1,AP3,LFY,UFO,WUS]\n",
      "PC in FVC=0 ; J=0.571 [AG,AP3,LFY,TFL1,UFO,WUS <-> AP3,EMF1,TFL1,UFO,WUS]\n",
      "PC in FVC=0 ; J=0.833 [AG,AP3,LFY,TFL1,UFO,WUS <-> AP3,LFY,TFL1,UFO,WUS]\n",
      "\n",
      "T: 0.125\n",
      "PC in FVC=0 ; J=0.833 [AG,AP1,AP3,LFY,UFO,WUS <-> AP1,AP3,LFY,UFO,WUS]\n",
      "PC in FVC=0 ; J=0.375 [AG,AP1,AP3,LFY,UFO,WUS <-> AP3,EMF1,TFL1,UFO,WUS]\n",
      "PC in FVC=0 ; J=0.833 [AG,AP1,AP3,LFY,UFO,WUS <-> AG,AP3,LFY,UFO,WUS]\n",
      "PC in FVC=0 ; J=0.571 [AG,AP1,AP3,LFY,UFO,WUS <-> AP3,LFY,TFL1,UFO,WUS]\n",
      "PC in FVC=0 ; J=0.375 [AG,AP3,EMF1,TFL1,UFO,WUS <-> AP1,AP3,LFY,UFO,WUS]\n",
      "PC in FVC=0 ; J=0.833 [AG,AP3,EMF1,TFL1,UFO,WUS <-> AP3,EMF1,TFL1,UFO,WUS]\n",
      "PC in FVC=0 ; J=0.571 [AG,AP3,EMF1,TFL1,UFO,WUS <-> AG,AP3,LFY,UFO,WUS]\n",
      "PC in FVC=0 ; J=0.571 [AG,AP3,EMF1,TFL1,UFO,WUS <-> AP3,LFY,TFL1,UFO,WUS]\n",
      "PC in FVC=0 ; J=0.571 [AG,AP3,LFY,TFL1,UFO,WUS <-> AP1,AP3,LFY,UFO,WUS]\n",
      "PC in FVC=0 ; J=0.571 [AG,AP3,LFY,TFL1,UFO,WUS <-> AP3,EMF1,TFL1,UFO,WUS]\n",
      "PC in FVC=0 ; J=0.833 [AG,AP3,LFY,TFL1,UFO,WUS <-> AG,AP3,LFY,UFO,WUS]\n",
      "PC in FVC=0 ; J=0.833 [AG,AP3,LFY,TFL1,UFO,WUS <-> AP3,LFY,TFL1,UFO,WUS]\n",
      "\n",
      "T: 0.140625\n",
      "PC in FVC=0 ; J=0.667 [AG,AP1,AP3,LFY,UFO,WUS <-> AP1,LFY,UFO,WUS]\n",
      "PC in FVC=0 ; J=0.250 [AG,AP1,AP3,LFY,UFO,WUS <-> EMF1,TFL1,UFO,WUS]\n",
      "PC in FVC=0 ; J=0.667 [AG,AP1,AP3,LFY,UFO,WUS <-> AG,LFY,UFO,WUS]\n",
      "PC in FVC=0 ; J=0.429 [AG,AP1,AP3,LFY,UFO,WUS <-> LFY,TFL1,UFO,WUS]\n",
      "PC in FVC=0 ; J=0.250 [AG,AP3,EMF1,TFL1,UFO,WUS <-> AP1,LFY,UFO,WUS]\n",
      "PC in FVC=0 ; J=0.667 [AG,AP3,EMF1,TFL1,UFO,WUS <-> EMF1,TFL1,UFO,WUS]\n",
      "PC in FVC=0 ; J=0.429 [AG,AP3,EMF1,TFL1,UFO,WUS <-> AG,LFY,UFO,WUS]\n",
      "PC in FVC=0 ; J=0.429 [AG,AP3,EMF1,TFL1,UFO,WUS <-> LFY,TFL1,UFO,WUS]\n",
      "PC in FVC=0 ; J=0.429 [AG,AP3,LFY,TFL1,UFO,WUS <-> AP1,LFY,UFO,WUS]\n",
      "PC in FVC=0 ; J=0.429 [AG,AP3,LFY,TFL1,UFO,WUS <-> EMF1,TFL1,UFO,WUS]\n",
      "PC in FVC=0 ; J=0.667 [AG,AP3,LFY,TFL1,UFO,WUS <-> AG,LFY,UFO,WUS]\n",
      "PC in FVC=0 ; J=0.667 [AG,AP3,LFY,TFL1,UFO,WUS <-> LFY,TFL1,UFO,WUS]\n",
      "\n",
      "T: 0.25\n",
      "PC in FVC=0 ; J=0.250 [AG,AP1,AP3,LFY,UFO,WUS <-> EMF1,TFL1,UFO,WUS]\n",
      "PC in FVC=0 ; J=0.429 [AG,AP1,AP3,LFY,UFO,WUS <-> LFY,TFL1,UFO,WUS]\n",
      "PC in FVC=0 ; J=0.667 [AG,AP3,EMF1,TFL1,UFO,WUS <-> EMF1,TFL1,UFO,WUS]\n",
      "PC in FVC=0 ; J=0.429 [AG,AP3,EMF1,TFL1,UFO,WUS <-> LFY,TFL1,UFO,WUS]\n",
      "PC in FVC=0 ; J=0.429 [AG,AP3,LFY,TFL1,UFO,WUS <-> EMF1,TFL1,UFO,WUS]\n",
      "PC in FVC=0 ; J=0.667 [AG,AP3,LFY,TFL1,UFO,WUS <-> LFY,TFL1,UFO,WUS]\n",
      "\n",
      "T: 0.2734375\n",
      "PC in FVC=0 ; J=0.250 [AG,AP1,AP3,LFY,UFO,WUS <-> EMF1,TFL1,UFO,WUS]\n",
      "PC in FVC=0 ; J=0.429 [AG,AP1,AP3,LFY,UFO,WUS <-> LFY,TFL1,UFO,WUS]\n",
      "PC in FVC=0 ; J=0.667 [AG,AP3,EMF1,TFL1,UFO,WUS <-> EMF1,TFL1,UFO,WUS]\n",
      "PC in FVC=0 ; J=0.429 [AG,AP3,EMF1,TFL1,UFO,WUS <-> LFY,TFL1,UFO,WUS]\n",
      "PC in FVC=0 ; J=0.429 [AG,AP3,LFY,TFL1,UFO,WUS <-> EMF1,TFL1,UFO,WUS]\n",
      "PC in FVC=0 ; J=0.667 [AG,AP3,LFY,TFL1,UFO,WUS <-> LFY,TFL1,UFO,WUS]\n",
      "\n",
      "T: 0.28125\n",
      "PC in FVC=0 ; J=0.250 [AG,AP1,AP3,LFY,UFO,WUS <-> EMF1,TFL1,UFO,WUS]\n",
      "PC in FVC=0 ; J=0.429 [AG,AP1,AP3,LFY,UFO,WUS <-> LFY,TFL1,UFO,WUS]\n",
      "PC in FVC=0 ; J=0.667 [AG,AP3,EMF1,TFL1,UFO,WUS <-> EMF1,TFL1,UFO,WUS]\n",
      "PC in FVC=0 ; J=0.429 [AG,AP3,EMF1,TFL1,UFO,WUS <-> LFY,TFL1,UFO,WUS]\n",
      "PC in FVC=0 ; J=0.429 [AG,AP3,LFY,TFL1,UFO,WUS <-> EMF1,TFL1,UFO,WUS]\n",
      "PC in FVC=0 ; J=0.667 [AG,AP3,LFY,TFL1,UFO,WUS <-> LFY,TFL1,UFO,WUS]\n",
      "\n",
      "T: 0.34375\n",
      "PC in FVC=0 ; J=0.250 [AG,AP1,AP3,LFY,UFO,WUS <-> EMF1,TFL1,UFO,WUS]\n",
      "PC in FVC=0 ; J=0.429 [AG,AP1,AP3,LFY,UFO,WUS <-> LFY,TFL1,UFO,WUS]\n",
      "PC in FVC=0 ; J=0.667 [AG,AP3,EMF1,TFL1,UFO,WUS <-> EMF1,TFL1,UFO,WUS]\n",
      "PC in FVC=0 ; J=0.429 [AG,AP3,EMF1,TFL1,UFO,WUS <-> LFY,TFL1,UFO,WUS]\n",
      "PC in FVC=0 ; J=0.429 [AG,AP3,LFY,TFL1,UFO,WUS <-> EMF1,TFL1,UFO,WUS]\n",
      "PC in FVC=0 ; J=0.667 [AG,AP3,LFY,TFL1,UFO,WUS <-> LFY,TFL1,UFO,WUS]\n",
      "\n",
      "T: 0.453125\n",
      "PC in FVC=0 ; J=0.375 [AG,AP1,AP3,LFY,UFO,WUS <-> AP3,EMF1,TFL1,UFO,WUS]\n",
      "PC in FVC=0 ; J=0.571 [AG,AP1,AP3,LFY,UFO,WUS <-> AP3,LFY,TFL1,UFO,WUS]\n",
      "PC in FVC=0 ; J=0.833 [AG,AP3,EMF1,TFL1,UFO,WUS <-> AP3,EMF1,TFL1,UFO,WUS]\n",
      "PC in FVC=0 ; J=0.571 [AG,AP3,EMF1,TFL1,UFO,WUS <-> AP3,LFY,TFL1,UFO,WUS]\n",
      "PC in FVC=0 ; J=0.571 [AG,AP3,LFY,TFL1,UFO,WUS <-> AP3,EMF1,TFL1,UFO,WUS]\n",
      "PC in FVC=0 ; J=0.833 [AG,AP3,LFY,TFL1,UFO,WUS <-> AP3,LFY,TFL1,UFO,WUS]\n",
      "\n",
      "T: 0.5\n",
      "PC in FVC=0 ; J=0.500 [AG,AP1,AP3,LFY,UFO,WUS <-> AP3,FUL,LFY,TFL1,UFO,WUS]\n",
      "PC in FVC=0 ; J=0.500 [AG,AP3,EMF1,TFL1,UFO,WUS <-> AP3,FUL,LFY,TFL1,UFO,WUS]\n",
      "PC in FVC=0 ; J=0.714 [AG,AP3,LFY,TFL1,UFO,WUS <-> AP3,FUL,LFY,TFL1,UFO,WUS]\n",
      "\n",
      "T: 0.65625\n",
      "PC in FVC=0 ; J=0.444 [AG,AP1,AP3,LFY,UFO,WUS <-> AP3,FUL,LFY,PI,TFL1,UFO,WUS]\n",
      "PC in FVC=0 ; J=0.444 [AG,AP3,EMF1,TFL1,UFO,WUS <-> AP3,FUL,LFY,PI,TFL1,UFO,WUS]\n",
      "PC in FVC=0 ; J=0.625 [AG,AP3,LFY,TFL1,UFO,WUS <-> AP3,FUL,LFY,PI,TFL1,UFO,WUS]\n",
      "\n",
      "T: 0.7265625\n",
      "PC in FVC=0 ; J=0.556 [AG,AP1,AP3,LFY,UFO,WUS <-> AG,AP3,FUL,LFY,PI,TFL1,UFO,WUS]\n",
      "PC in FVC=0 ; J=0.556 [AG,AP3,EMF1,TFL1,UFO,WUS <-> AG,AP3,FUL,LFY,PI,TFL1,UFO,WUS]\n",
      "PC in FVC=1 ; J=0.750 [AG,AP3,LFY,TFL1,UFO,WUS <-> AG,AP3,FUL,LFY,PI,TFL1,UFO,WUS]\n",
      "\n",
      "T: 0.75\n",
      "PC in FVC=0 ; J=0.556 [AG,AP1,AP3,LFY,UFO,WUS <-> AG,AP3,FUL,LFY,PI,TFL1,UFO,WUS]\n",
      "PC in FVC=0 ; J=0.556 [AG,AP3,EMF1,TFL1,UFO,WUS <-> AG,AP3,FUL,LFY,PI,TFL1,UFO,WUS]\n",
      "PC in FVC=1 ; J=0.750 [AG,AP3,LFY,TFL1,UFO,WUS <-> AG,AP3,FUL,LFY,PI,TFL1,UFO,WUS]\n",
      "\n",
      "T: 0.875\n",
      "PC in FVC=1 ; J=0.667 [AG,AP1,AP3,LFY,UFO,WUS <-> AG,AP1,AP3,FUL,LFY,PI,TFL1,UFO,WUS]\n",
      "PC in FVC=0 ; J=0.500 [AG,AP3,EMF1,TFL1,UFO,WUS <-> AG,AP1,AP3,FUL,LFY,PI,TFL1,UFO,WUS]\n",
      "PC in FVC=1 ; J=0.667 [AG,AP3,LFY,TFL1,UFO,WUS <-> AG,AP1,AP3,FUL,LFY,PI,TFL1,UFO,WUS]\n",
      "\n"
     ]
    }
   ],
   "source": [
    "display(HTML(\"<h2>PC vs FVC</h2>\"))\n",
    "for FVC_O in FVC_Objs:\n",
    "    print 'T: %s' % (FVC_O[0])\n",
    "    for PC, FVC in product(PCs,FVC_O[2]):\n",
    "        FVCset, PCset = set(FVC), set(PC)\n",
    "        FVCstr, PCstr = ','.join(FVC), ','.join(PC)\n",
    "        inclusion = PCset.issubset(FVCset)\n",
    "        print 'PC in FVC=%i ; J=%.3f [%s <-> %s]' % (inclusion, jaccard(PCset,FVCset) , PCstr , FVCstr)\n",
    "    print"
   ]
  },
  {
   "cell_type": "code",
   "execution_count": 67,
   "metadata": {
    "collapsed": false
   },
   "outputs": [
    {
     "data": {
      "text/html": [
       "<h2>CSTG vs FVC</h2>"
      ],
      "text/plain": [
       "<IPython.core.display.HTML object>"
      ]
     },
     "metadata": {},
     "output_type": "display_data"
    },
    {
     "name": "stdout",
     "output_type": "stream",
     "text": [
      "T: original\n",
      "CSTG in FVC=0 ; J=0.444 [AP2,EMF1,LFY,TFL1,UFO,WUS <-> AG,AP3,LFY,PI,TFL1,UFO,WUS]\n",
      "CSTG in FVC=0 ; J=0.625 [AG,EMF1,LFY,TFL1,UFO,WUS <-> AG,AP3,LFY,PI,TFL1,UFO,WUS]\n",
      "\n",
      "T: 0\n",
      "CSTG in FVC=0 ; J=0.200 [AP2,EMF1,LFY,TFL1,UFO,WUS <-> AP1,AP3,LFY,PI,UFO,WUSAG]\n",
      "CSTG in FVC=0 ; J=0.444 [AP2,EMF1,LFY,TFL1,UFO,WUS <-> AG,AP3,EMF1,PI,TFL1,UFO,WUS]\n",
      "CSTG in FVC=0 ; J=0.444 [AP2,EMF1,LFY,TFL1,UFO,WUS <-> AG,AP3,LFY,PI,TFL1,UFO,WUS]\n",
      "CSTG in FVC=0 ; J=0.200 [AG,EMF1,LFY,TFL1,UFO,WUS <-> AP1,AP3,LFY,PI,UFO,WUSAG]\n",
      "CSTG in FVC=0 ; J=0.625 [AG,EMF1,LFY,TFL1,UFO,WUS <-> AG,AP3,EMF1,PI,TFL1,UFO,WUS]\n",
      "CSTG in FVC=0 ; J=0.625 [AG,EMF1,LFY,TFL1,UFO,WUS <-> AG,AP3,LFY,PI,TFL1,UFO,WUS]\n",
      "\n",
      "T: 0.0078125\n",
      "CSTG in FVC=0 ; J=0.333 [AP2,EMF1,LFY,TFL1,UFO,WUS <-> AP1,AP3,LFY,PI,UFO,WUS]\n",
      "CSTG in FVC=0 ; J=0.333 [AG,EMF1,LFY,TFL1,UFO,WUS <-> AP1,AP3,LFY,PI,UFO,WUS]\n",
      "\n",
      "T: 0.0234375\n",
      "CSTG in FVC=0 ; J=0.333 [AP2,EMF1,LFY,TFL1,UFO,WUS <-> AP1,AP3,LFY,PI,UFO,WUS]\n",
      "CSTG in FVC=0 ; J=0.500 [AP2,EMF1,LFY,TFL1,UFO,WUS <-> AP3,EMF1,PI,TFL1,UFO,WUS]\n",
      "CSTG in FVC=0 ; J=0.500 [AP2,EMF1,LFY,TFL1,UFO,WUS <-> AP3,LFY,PI,TFL1,UFO,WUS]\n",
      "CSTG in FVC=0 ; J=0.333 [AG,EMF1,LFY,TFL1,UFO,WUS <-> AP1,AP3,LFY,PI,UFO,WUS]\n",
      "CSTG in FVC=0 ; J=0.500 [AG,EMF1,LFY,TFL1,UFO,WUS <-> AP3,EMF1,PI,TFL1,UFO,WUS]\n",
      "CSTG in FVC=0 ; J=0.500 [AG,EMF1,LFY,TFL1,UFO,WUS <-> AP3,LFY,PI,TFL1,UFO,WUS]\n",
      "\n",
      "T: 0.03125\n",
      "CSTG in FVC=0 ; J=0.333 [AP2,EMF1,LFY,TFL1,UFO,WUS <-> AP1,AP3,LFY,PI,UFO,WUS]\n",
      "CSTG in FVC=0 ; J=0.500 [AP2,EMF1,LFY,TFL1,UFO,WUS <-> AP3,EMF1,PI,TFL1,UFO,WUS]\n",
      "CSTG in FVC=0 ; J=0.500 [AP2,EMF1,LFY,TFL1,UFO,WUS <-> AP3,LFY,PI,TFL1,UFO,WUS]\n",
      "CSTG in FVC=0 ; J=0.333 [AG,EMF1,LFY,TFL1,UFO,WUS <-> AP1,AP3,LFY,PI,UFO,WUS]\n",
      "CSTG in FVC=0 ; J=0.500 [AG,EMF1,LFY,TFL1,UFO,WUS <-> AP3,EMF1,PI,TFL1,UFO,WUS]\n",
      "CSTG in FVC=0 ; J=0.500 [AG,EMF1,LFY,TFL1,UFO,WUS <-> AP3,LFY,PI,TFL1,UFO,WUS]\n",
      "\n",
      "T: 0.046875\n",
      "CSTG in FVC=0 ; J=0.333 [AP2,EMF1,LFY,TFL1,UFO,WUS <-> AP1,AP3,LFY,PI,UFO,WUS]\n",
      "CSTG in FVC=0 ; J=0.500 [AP2,EMF1,LFY,TFL1,UFO,WUS <-> AP3,EMF1,PI,TFL1,UFO,WUS]\n",
      "CSTG in FVC=0 ; J=0.500 [AP2,EMF1,LFY,TFL1,UFO,WUS <-> AP3,LFY,PI,TFL1,UFO,WUS]\n",
      "CSTG in FVC=0 ; J=0.333 [AG,EMF1,LFY,TFL1,UFO,WUS <-> AP1,AP3,LFY,PI,UFO,WUS]\n",
      "CSTG in FVC=0 ; J=0.500 [AG,EMF1,LFY,TFL1,UFO,WUS <-> AP3,EMF1,PI,TFL1,UFO,WUS]\n",
      "CSTG in FVC=0 ; J=0.500 [AG,EMF1,LFY,TFL1,UFO,WUS <-> AP3,LFY,PI,TFL1,UFO,WUS]\n",
      "\n",
      "T: 0.09375\n",
      "CSTG in FVC=0 ; J=0.375 [AP2,EMF1,LFY,TFL1,UFO,WUS <-> AP1,AP3,LFY,UFO,WUS]\n",
      "CSTG in FVC=0 ; J=0.571 [AP2,EMF1,LFY,TFL1,UFO,WUS <-> AP3,EMF1,TFL1,UFO,WUS]\n",
      "CSTG in FVC=0 ; J=0.571 [AP2,EMF1,LFY,TFL1,UFO,WUS <-> AP3,LFY,TFL1,UFO,WUS]\n",
      "CSTG in FVC=0 ; J=0.375 [AG,EMF1,LFY,TFL1,UFO,WUS <-> AP1,AP3,LFY,UFO,WUS]\n",
      "CSTG in FVC=0 ; J=0.571 [AG,EMF1,LFY,TFL1,UFO,WUS <-> AP3,EMF1,TFL1,UFO,WUS]\n",
      "CSTG in FVC=0 ; J=0.571 [AG,EMF1,LFY,TFL1,UFO,WUS <-> AP3,LFY,TFL1,UFO,WUS]\n",
      "\n",
      "T: 0.125\n",
      "CSTG in FVC=0 ; J=0.375 [AP2,EMF1,LFY,TFL1,UFO,WUS <-> AP1,AP3,LFY,UFO,WUS]\n",
      "CSTG in FVC=0 ; J=0.571 [AP2,EMF1,LFY,TFL1,UFO,WUS <-> AP3,EMF1,TFL1,UFO,WUS]\n",
      "CSTG in FVC=0 ; J=0.375 [AP2,EMF1,LFY,TFL1,UFO,WUS <-> AG,AP3,LFY,UFO,WUS]\n",
      "CSTG in FVC=0 ; J=0.571 [AP2,EMF1,LFY,TFL1,UFO,WUS <-> AP3,LFY,TFL1,UFO,WUS]\n",
      "CSTG in FVC=0 ; J=0.375 [AG,EMF1,LFY,TFL1,UFO,WUS <-> AP1,AP3,LFY,UFO,WUS]\n",
      "CSTG in FVC=0 ; J=0.571 [AG,EMF1,LFY,TFL1,UFO,WUS <-> AP3,EMF1,TFL1,UFO,WUS]\n",
      "CSTG in FVC=0 ; J=0.571 [AG,EMF1,LFY,TFL1,UFO,WUS <-> AG,AP3,LFY,UFO,WUS]\n",
      "CSTG in FVC=0 ; J=0.571 [AG,EMF1,LFY,TFL1,UFO,WUS <-> AP3,LFY,TFL1,UFO,WUS]\n",
      "\n",
      "T: 0.140625\n",
      "CSTG in FVC=0 ; J=0.429 [AP2,EMF1,LFY,TFL1,UFO,WUS <-> AP1,LFY,UFO,WUS]\n",
      "CSTG in FVC=0 ; J=0.667 [AP2,EMF1,LFY,TFL1,UFO,WUS <-> EMF1,TFL1,UFO,WUS]\n",
      "CSTG in FVC=0 ; J=0.429 [AP2,EMF1,LFY,TFL1,UFO,WUS <-> AG,LFY,UFO,WUS]\n",
      "CSTG in FVC=0 ; J=0.667 [AP2,EMF1,LFY,TFL1,UFO,WUS <-> LFY,TFL1,UFO,WUS]\n",
      "CSTG in FVC=0 ; J=0.429 [AG,EMF1,LFY,TFL1,UFO,WUS <-> AP1,LFY,UFO,WUS]\n",
      "CSTG in FVC=0 ; J=0.667 [AG,EMF1,LFY,TFL1,UFO,WUS <-> EMF1,TFL1,UFO,WUS]\n",
      "CSTG in FVC=0 ; J=0.667 [AG,EMF1,LFY,TFL1,UFO,WUS <-> AG,LFY,UFO,WUS]\n",
      "CSTG in FVC=0 ; J=0.667 [AG,EMF1,LFY,TFL1,UFO,WUS <-> LFY,TFL1,UFO,WUS]\n",
      "\n",
      "T: 0.25\n",
      "CSTG in FVC=0 ; J=0.667 [AP2,EMF1,LFY,TFL1,UFO,WUS <-> EMF1,TFL1,UFO,WUS]\n",
      "CSTG in FVC=0 ; J=0.667 [AP2,EMF1,LFY,TFL1,UFO,WUS <-> LFY,TFL1,UFO,WUS]\n",
      "CSTG in FVC=0 ; J=0.667 [AG,EMF1,LFY,TFL1,UFO,WUS <-> EMF1,TFL1,UFO,WUS]\n",
      "CSTG in FVC=0 ; J=0.667 [AG,EMF1,LFY,TFL1,UFO,WUS <-> LFY,TFL1,UFO,WUS]\n",
      "\n",
      "T: 0.2734375\n",
      "CSTG in FVC=0 ; J=0.667 [AP2,EMF1,LFY,TFL1,UFO,WUS <-> EMF1,TFL1,UFO,WUS]\n",
      "CSTG in FVC=0 ; J=0.667 [AP2,EMF1,LFY,TFL1,UFO,WUS <-> LFY,TFL1,UFO,WUS]\n",
      "CSTG in FVC=0 ; J=0.667 [AG,EMF1,LFY,TFL1,UFO,WUS <-> EMF1,TFL1,UFO,WUS]\n",
      "CSTG in FVC=0 ; J=0.667 [AG,EMF1,LFY,TFL1,UFO,WUS <-> LFY,TFL1,UFO,WUS]\n",
      "\n",
      "T: 0.28125\n",
      "CSTG in FVC=0 ; J=0.667 [AP2,EMF1,LFY,TFL1,UFO,WUS <-> EMF1,TFL1,UFO,WUS]\n",
      "CSTG in FVC=0 ; J=0.667 [AP2,EMF1,LFY,TFL1,UFO,WUS <-> LFY,TFL1,UFO,WUS]\n",
      "CSTG in FVC=0 ; J=0.667 [AG,EMF1,LFY,TFL1,UFO,WUS <-> EMF1,TFL1,UFO,WUS]\n",
      "CSTG in FVC=0 ; J=0.667 [AG,EMF1,LFY,TFL1,UFO,WUS <-> LFY,TFL1,UFO,WUS]\n",
      "\n",
      "T: 0.34375\n",
      "CSTG in FVC=0 ; J=0.667 [AP2,EMF1,LFY,TFL1,UFO,WUS <-> EMF1,TFL1,UFO,WUS]\n",
      "CSTG in FVC=0 ; J=0.667 [AP2,EMF1,LFY,TFL1,UFO,WUS <-> LFY,TFL1,UFO,WUS]\n",
      "CSTG in FVC=0 ; J=0.667 [AG,EMF1,LFY,TFL1,UFO,WUS <-> EMF1,TFL1,UFO,WUS]\n",
      "CSTG in FVC=0 ; J=0.667 [AG,EMF1,LFY,TFL1,UFO,WUS <-> LFY,TFL1,UFO,WUS]\n",
      "\n",
      "T: 0.453125\n",
      "CSTG in FVC=0 ; J=0.571 [AP2,EMF1,LFY,TFL1,UFO,WUS <-> AP3,EMF1,TFL1,UFO,WUS]\n",
      "CSTG in FVC=0 ; J=0.571 [AP2,EMF1,LFY,TFL1,UFO,WUS <-> AP3,LFY,TFL1,UFO,WUS]\n",
      "CSTG in FVC=0 ; J=0.571 [AG,EMF1,LFY,TFL1,UFO,WUS <-> AP3,EMF1,TFL1,UFO,WUS]\n",
      "CSTG in FVC=0 ; J=0.571 [AG,EMF1,LFY,TFL1,UFO,WUS <-> AP3,LFY,TFL1,UFO,WUS]\n",
      "\n",
      "T: 0.5\n",
      "CSTG in FVC=0 ; J=0.500 [AP2,EMF1,LFY,TFL1,UFO,WUS <-> AP3,FUL,LFY,TFL1,UFO,WUS]\n",
      "CSTG in FVC=0 ; J=0.500 [AG,EMF1,LFY,TFL1,UFO,WUS <-> AP3,FUL,LFY,TFL1,UFO,WUS]\n",
      "\n",
      "T: 0.65625\n",
      "CSTG in FVC=0 ; J=0.444 [AP2,EMF1,LFY,TFL1,UFO,WUS <-> AP3,FUL,LFY,PI,TFL1,UFO,WUS]\n",
      "CSTG in FVC=0 ; J=0.444 [AG,EMF1,LFY,TFL1,UFO,WUS <-> AP3,FUL,LFY,PI,TFL1,UFO,WUS]\n",
      "\n",
      "T: 0.7265625\n",
      "CSTG in FVC=0 ; J=0.400 [AP2,EMF1,LFY,TFL1,UFO,WUS <-> AG,AP3,FUL,LFY,PI,TFL1,UFO,WUS]\n",
      "CSTG in FVC=0 ; J=0.556 [AG,EMF1,LFY,TFL1,UFO,WUS <-> AG,AP3,FUL,LFY,PI,TFL1,UFO,WUS]\n",
      "\n",
      "T: 0.75\n",
      "CSTG in FVC=0 ; J=0.400 [AP2,EMF1,LFY,TFL1,UFO,WUS <-> AG,AP3,FUL,LFY,PI,TFL1,UFO,WUS]\n",
      "CSTG in FVC=0 ; J=0.556 [AG,EMF1,LFY,TFL1,UFO,WUS <-> AG,AP3,FUL,LFY,PI,TFL1,UFO,WUS]\n",
      "\n",
      "T: 0.875\n",
      "CSTG in FVC=0 ; J=0.364 [AP2,EMF1,LFY,TFL1,UFO,WUS <-> AG,AP1,AP3,FUL,LFY,PI,TFL1,UFO,WUS]\n",
      "CSTG in FVC=0 ; J=0.500 [AG,EMF1,LFY,TFL1,UFO,WUS <-> AG,AP1,AP3,FUL,LFY,PI,TFL1,UFO,WUS]\n",
      "\n"
     ]
    }
   ],
   "source": [
    "display(HTML(\"<h2>CSTG vs FVC</h2>\"))\n",
    "for FVC_O in FVC_Objs:\n",
    "    print 'T: %s' % (FVC_O[0])\n",
    "    for CSTG, FVC in product(CSTGs,FVC_O[2]):\n",
    "        FVCset, CSTGset = set(FVC), set(CSTG)\n",
    "        FVCstr, CSTGstr = ','.join(FVC), ','.join(CSTG)\n",
    "        inclusion = CSTGset.issubset(FVCset)\n",
    "        print 'CSTG in FVC=%i ; J=%.3f [%s <-> %s]' % (inclusion, jaccard(CSTGset,FVCset) , CSTGstr , FVCstr)\n",
    "    print"
   ]
  },
  {
   "cell_type": "code",
   "execution_count": null,
   "metadata": {
    "collapsed": true
   },
   "outputs": [],
   "source": []
  }
 ],
 "metadata": {
  "kernelspec": {
   "display_name": "Python 2",
   "language": "python",
   "name": "python2"
  },
  "language_info": {
   "codemirror_mode": {
    "name": "ipython",
    "version": 2
   },
   "file_extension": ".py",
   "mimetype": "text/x-python",
   "name": "python",
   "nbconvert_exporter": "python",
   "pygments_lexer": "ipython2",
   "version": "2.7.11"
  }
 },
 "nbformat": 4,
 "nbformat_minor": 2
}
