{
 "cells": [
  {
   "cell_type": "markdown",
   "metadata": {},
   "source": [
    "# Demo for generating complete LUTs from partial input\n",
    "\n"
   ]
  },
  {
   "cell_type": "code",
   "execution_count": 1,
   "metadata": {},
   "outputs": [],
   "source": [
    "from cana.drawing.schema_vis import plot_schemata\n",
    "from cana.drawing.plot_look_up_table import plot_look_up_table\n",
    "from cana.utils import fill_out_lut\n",
    "\n",
    "from cana.boolean_network import BooleanNetwork\n",
    "from cana.boolean_node import BooleanNode"
   ]
  },
  {
   "cell_type": "code",
   "execution_count": 2,
   "metadata": {},
   "outputs": [
    {
     "data": {
      "text/html": [
       "<div>\n",
       "<style scoped>\n",
       "    .dataframe tbody tr th:only-of-type {\n",
       "        vertical-align: middle;\n",
       "    }\n",
       "\n",
       "    .dataframe tbody tr th {\n",
       "        vertical-align: top;\n",
       "    }\n",
       "\n",
       "    .dataframe thead th {\n",
       "        text-align: right;\n",
       "    }\n",
       "</style>\n",
       "<table border=\"1\" class=\"dataframe\">\n",
       "  <thead>\n",
       "    <tr style=\"text-align: right;\">\n",
       "      <th></th>\n",
       "      <th>In:</th>\n",
       "      <th>Out:</th>\n",
       "    </tr>\n",
       "  </thead>\n",
       "  <tbody>\n",
       "    <tr>\n",
       "      <th>0</th>\n",
       "      <td>0000000</td>\n",
       "      <td>0</td>\n",
       "    </tr>\n",
       "    <tr>\n",
       "      <th>1</th>\n",
       "      <td>0000001</td>\n",
       "      <td>0</td>\n",
       "    </tr>\n",
       "    <tr>\n",
       "      <th>2</th>\n",
       "      <td>0000010</td>\n",
       "      <td>0</td>\n",
       "    </tr>\n",
       "    <tr>\n",
       "      <th>3</th>\n",
       "      <td>0000011</td>\n",
       "      <td>0</td>\n",
       "    </tr>\n",
       "    <tr>\n",
       "      <th>4</th>\n",
       "      <td>0000100</td>\n",
       "      <td>0</td>\n",
       "    </tr>\n",
       "    <tr>\n",
       "      <th>...</th>\n",
       "      <td>...</td>\n",
       "      <td>...</td>\n",
       "    </tr>\n",
       "    <tr>\n",
       "      <th>123</th>\n",
       "      <td>1111011</td>\n",
       "      <td>1</td>\n",
       "    </tr>\n",
       "    <tr>\n",
       "      <th>124</th>\n",
       "      <td>1111100</td>\n",
       "      <td>1</td>\n",
       "    </tr>\n",
       "    <tr>\n",
       "      <th>125</th>\n",
       "      <td>1111101</td>\n",
       "      <td>1</td>\n",
       "    </tr>\n",
       "    <tr>\n",
       "      <th>126</th>\n",
       "      <td>1111110</td>\n",
       "      <td>1</td>\n",
       "    </tr>\n",
       "    <tr>\n",
       "      <th>127</th>\n",
       "      <td>1111111</td>\n",
       "      <td>1</td>\n",
       "    </tr>\n",
       "  </tbody>\n",
       "</table>\n",
       "<p>128 rows × 2 columns</p>\n",
       "</div>"
      ],
      "text/plain": [
       "         In: Out:\n",
       "0    0000000    0\n",
       "1    0000001    0\n",
       "2    0000010    0\n",
       "3    0000011    0\n",
       "4    0000100    0\n",
       "..       ...  ...\n",
       "123  1111011    1\n",
       "124  1111100    1\n",
       "125  1111101    1\n",
       "126  1111110    1\n",
       "127  1111111    1\n",
       "\n",
       "[128 rows x 2 columns]"
      ]
     },
     "execution_count": 2,
     "metadata": {},
     "output_type": "execute_result"
    }
   ],
   "source": [
    "from cana.datasets.bio import THALIANA\n",
    "\n",
    "thaliana = THALIANA()\n",
    "\n",
    "thaliana.nodes[0].look_up_table()"
   ]
  },
  {
   "cell_type": "markdown",
   "metadata": {},
   "source": [
    "## Partial LUTs\n",
    "\n",
    "These are incomplete effective graphs with '-' signifying the wildcard symbol. Visually inspecting an effective graph doesn't allow us to infer its status of completeness or identify any inherent contradictions within the inputs.\n",
    "\n",
    "The fill_out_lut() function enables us to check for contradictory output data. The contradictory outputs are marked by '!'\n",
    "\n",
    "The fill_out_lut() function also checks for missing rules in the LUT, allowing us to correct out data infered from sources and explore state spaces yet to be understood.  These outputs are marked by '?'."
   ]
  },
  {
   "cell_type": "code",
   "execution_count": 3,
   "metadata": {},
   "outputs": [
    {
     "data": {
      "text/plain": [
       "[('0000', '?'),\n",
       " ('0001', '?'),\n",
       " ('0010', '?'),\n",
       " ('0011', '?'),\n",
       " ('0100', '?'),\n",
       " ('0101', '?'),\n",
       " ('0110', '?'),\n",
       " ('0111', '?'),\n",
       " ('1000', '0'),\n",
       " ('1001', '0'),\n",
       " ('1010', '0'),\n",
       " ('1011', '0'),\n",
       " ('1100', '0'),\n",
       " ('1101', '0'),\n",
       " ('1110', '0'),\n",
       " ('1111', '0')]"
      ]
     },
     "execution_count": 3,
     "metadata": {},
     "output_type": "execute_result"
    }
   ],
   "source": [
    "# Using the fill_out_lut function found in utils.py\n",
    "\n",
    "# example look up tables\n",
    "partial_luts = [\n",
    "    [(\"00--\", \"0\"), (\"1--1\", \"1\"), (\"11--\", \"1\")],\n",
    "    [(\"1--\", \"1\"), (\"101\", \"0\"), (\"011\", \"0\"), (\"01-\", \"1\")],\n",
    "    [(\"0--0\", \"0\"), (\"1--1\", \"0\"), (\"0111\", \"1\"), (\"0011\", \"1\")],\n",
    "    [(\"1---\", \"0\")],\n",
    "]\n",
    "generated_lut = fill_out_lut(partial_luts[3])\n",
    "generated_lut"
   ]
  },
  {
   "cell_type": "markdown",
   "metadata": {},
   "source": [
    "## Partial LUTs in BNS (.cnet) format\n",
    "\n",
    "BNS is a software tool for computing attractors in Boolean Networks with Synchronous update. Synchronous Boolean networks are used for the modeling of genetic regulatory networks.\n",
    "\n",
    "BNS reads in a Boolean network description represented in a .cnet format similar to the Berkeley Logic Interchange Format (BLIF) format commonly used in synthesis and verification tools and prints out the set of network's attractors.\n",
    "\n",
    "Check: <https://people.kth.se/~dubrova/bns.html>"
   ]
  },
  {
   "cell_type": "code",
   "execution_count": 4,
   "metadata": {},
   "outputs": [
    {
     "name": "stdout",
     "output_type": "stream",
     "text": [
      "<BNode(id=2, name='FUL', k=2, inputs=[4,12], state='0', outputs=[1,?,?,?] constant=False)>\n",
      "  In: Out:\n",
      "0  00    1\n",
      "1  01    ?\n",
      "2  10    ?\n",
      "3  11    ?\n"
     ]
    },
    {
     "data": {
      "image/png": "[encoded data removed]",
      "text/plain": [
       "<Figure size 311x403 with 1 Axes>"
      ]
     },
     "metadata": {},
     "output_type": "display_data"
    }
   ],
   "source": [
    "partial_luts_network = BooleanNetwork.from_file(\n",
    "    \"partial_LUT_demo_nodes.txt\",  # loading example network with partial LUTs in the nodes\n",
    "    name=\"Partial LUTs Demo\",\n",
    "    keep_constants=True,\n",
    "    partial_lut=True,  # specifying that the LUTs are partial, because the default assumes that all LUTs are complete\n",
    ")\n",
    "\n",
    "\n",
    "node = partial_luts_network.nodes[2]\n",
    "\n",
    "print(node)\n",
    "print(node.look_up_table())\n",
    "# print(node.schemata_look_up_table())  # This will throw an error as the presence of '?' makes it impossible to generate a schemata look up table.\n",
    "\n",
    "plot_look_up_table(node)\n",
    "# plot_schemata(node)  # This will throw an error as the presence of '?' makes it impossible to generate a schemata look up table."
   ]
  },
  {
   "cell_type": "markdown",
   "metadata": {},
   "source": [
    "## Instantiating a BooleanNode object using partial LUT\n",
    "\n",
    "Incorporating the fill_out_lut() function into the instantiation of a single boolean node object under the class BooleanNode, this object will now contain '?' for unspecified output values in the LUT entry. \n"
   ]
  },
  {
   "cell_type": "code",
   "execution_count": 5,
   "metadata": {},
   "outputs": [
    {
     "name": "stdout",
     "output_type": "stream",
     "text": [
      "['?', '?', '0', '0', '?', '?', '?', '?', '?', '1', '?', '1', '1', '1', '1', '1']\n",
      "['0', '0', '0', '0', '?', '?', '?', '?', '?', '1', '?', '1', '1', '1', '?', '1']\n",
      "Clashing output values for entry: 101\n",
      "Clashing output values for entry: 011\n",
      "['?', '?', '1', '!', '1', '!', '1', '1']\n",
      "['0', '?', '0', '1', '0', '?', '0', '1', '?', '0', '?', '0', '?', '0', '?', '0']\n",
      "['?', '?', '?', '?', '?', '1', '0', '1', '?', '1', '0', '0', '?', '1', '0', '0']\n",
      "['?', '?', '?', '?', '?', '?', '0', '?', '?', '1', '0', '0', '?', '1', '0', '0']\n",
      "['?', '?', '?', '?', '0', '0', '0', '0', '?', '?', '?', '?', '0', '0', '0', '0']\n",
      "['?', '?', '?', '?', '1', '1', '1', '1', '?', '?', '?', '?', '1', '1', '1', '1']\n",
      "['?', '?', '?', '?', '?', '?', '?', '?', '?', '?', '?', '?', '?', '?', '?', '?']\n"
     ]
    }
   ],
   "source": [
    "# example partial look up tables\n",
    "partial_luts = [\n",
    "    [(\"001-\", \"0\"), (\"1--1\", \"1\"), (\"11--\", \"1\")],\n",
    "    [(\"00--\", \"0\"), (\"1--1\", \"1\"), (\"110-\", \"1\")],\n",
    "    [(\"1--\", \"1\"), (\"101\", \"0\"), (\"011\", \"0\"), (\"01-\", \"1\")],  # will have clashes\n",
    "    [(\"0--0\", \"0\"), (\"1--1\", \"0\"), (\"0111\", \"1\"), (\"0011\", \"1\")],\n",
    "    [(\"1-01\", \"1\"), (\"1-1-\", \"0\"), (\"0110\", \"0\"), (\"01-1\", \"1\")],\n",
    "    [(\"1-01\", \"1\"), (\"1-1-\", \"0\"), (\"0110\", \"0\"), (\"01-1\", \"?\")],\n",
    "    [(\"-1--\", \"0\")],\n",
    "    [(\"-1--\", \"1\")],\n",
    "    [(\"-1--\", \"?\")],\n",
    "]\n",
    "\n",
    "# using the from_partial_lut function found in BooleanNode class\n",
    "for partial_lut in partial_luts:\n",
    "    generated_node = BooleanNode.from_partial_lut(partial_lut)\n",
    "    # print(generated_node)\n",
    "    print(generated_node.outputs)\n",
    "    # plot_look_up_table(generated_node)\n",
    "    # plot_schemata(generated_node)  # This will throw an error as the presence of '?' makes it impossible to generate a schemata look up table."
   ]
  },
  {
   "cell_type": "markdown",
   "metadata": {},
   "source": [
    "## Generating missing output values randomly"
   ]
  },
  {
   "cell_type": "code",
   "execution_count": 6,
   "metadata": {},
   "outputs": [
    {
     "name": "stdout",
     "output_type": "stream",
     "text": [
      "<BNode(id=0, name='x', k=4, inputs=[1,2,3,4], state='0', outputs=[0,1,1,0...1,1,0,0] constant=False)>\n",
      "['0', '1', '1', '0', '0', '0', '0', '0', '1', '1', '0', '0', '1', '1', '0', '0']\n"
     ]
    }
   ],
   "source": [
    "# filling missing output values randomly with 1 or 0 instead of '?'\n",
    "partial_lut = [(\"1-01\", \"1\"), (\"1-1-\", \"0\"), (\"01--\", \"0\")]\n",
    "generated_node = BooleanNode.from_partial_lut(\n",
    "    partial_lut, fill_missing_output_randomly=True\n",
    ")\n",
    "print(generated_node)\n",
    "print(generated_node.outputs)"
   ]
  },
  {
   "cell_type": "markdown",
   "metadata": {},
   "source": [
    "## Generating LUT with specified Node Bias\n",
    "\n",
    "The BooleanNode object calculates the node bias using the .bias() function. \n",
    "\n",
    "```python\n",
    "generated_node.bias()\n",
    "```\n"
   ]
  },
  {
   "cell_type": "code",
   "execution_count": 7,
   "metadata": {},
   "outputs": [
    {
     "name": "stdout",
     "output_type": "stream",
     "text": [
      "28 possible permutation(s) with a bias of 0.5. This is the closest bias less than or equal to the required bias of 0.5.\n",
      "35 possible permutation(s) with a bias of 0.5. This is the closest bias less than or equal to the required bias of 0.5.\n",
      "1 possible permutation(s) with a bias of 0.5. This is the closest bias less than or equal to the required bias of 0.5.\n",
      "35 possible permutation(s) with a bias of 0.5. This is the closest bias less than or equal to the required bias of 0.5.\n",
      "84 possible permutation(s) with a bias of 0.5. This is the closest bias less than or equal to the required bias of 0.5.\n",
      "1 possible permutation(s) with a bias of 0.5. This is the closest bias less than or equal to the required bias of 0.5.\n",
      "495 possible permutation(s) with a bias of 0.5. This is the closest bias less than or equal to the required bias of 0.5.\n",
      "70 possible permutation(s) with a bias of 0.5. This is the closest bias less than or equal to the required bias of 0.5.\n"
     ]
    }
   ],
   "source": [
    "partial_luts = [\n",
    "    [(\"001-\", \"0\"), (\"1--1\", \"1\"), (\"11--\", \"1\")],\n",
    "    [(\"00--\", \"0\"), (\"1--1\", \"1\"), (\"110-\", \"1\")],\n",
    "    # [(\"1--\", \"1\"), (\"101\", \"0\"), (\"011\", \"0\"), (\"01-\", \"1\")], # will have clashes\n",
    "    [(\"0--0\", \"0\"), (\"1--1\", \"0\"), (\"0111\", \"1\"), (\"0011\", \"1\")],\n",
    "    [(\"1-01\", \"1\"), (\"1-1-\", \"0\"), (\"0110\", \"0\"), (\"01-1\", \"1\")],\n",
    "    [(\"1-01\", \"1\"), (\"1-1-\", \"0\"), (\"0110\", \"0\"), (\"01-1\", \"?\")],\n",
    "    [(\"-1--\", \"0\")],\n",
    "    [(\"-10-\", \"1\")],\n",
    "    [(\"11-\", \"?\")],\n",
    "]\n",
    "\n",
    "\n",
    "for lut in partial_luts:\n",
    "    node = None\n",
    "    # generated_node_permutations = None\n",
    "    node = BooleanNode.from_partial_lut(lut)\n",
    "    # print(node.outputs)\n",
    "\n",
    "    generated_node_permutations = node.generate_with_required_bias(\n",
    "        required_node_bias=0.5, limit=50, verbose=True\n",
    "    )\n",
    "    # print(generated_node_permuations[0].outputs, \"\\n\")"
   ]
  },
  {
   "cell_type": "code",
   "execution_count": 8,
   "metadata": {},
   "outputs": [
    {
     "data": {
      "text/plain": [
       "['1', '1', '0', '0', '0', '0', '1', '1']"
      ]
     },
     "execution_count": 8,
     "metadata": {},
     "output_type": "execute_result"
    }
   ],
   "source": [
    "node = next(generated_node_permutations)\n",
    "node.outputs"
   ]
  },
  {
   "cell_type": "markdown",
   "metadata": {},
   "source": [
    "## Generating LUT with specified Effective connectivity\n",
    "\n",
    "The BooleanNode object calculates effective connectivity using the .effective_connectivity() function.\n",
    "\n",
    "```python\n",
    "\n",
    "generated_node.effective_connectivity()\n",
    "\n",
    "```\n",
    "        "
   ]
  },
  {
   "cell_type": "markdown",
   "metadata": {},
   "source": [
    "Generating a Look Up Table for a node with a specified effective connectivity. "
   ]
  },
  {
   "cell_type": "code",
   "execution_count": 9,
   "metadata": {},
   "outputs": [
    {
     "name": "stdout",
     "output_type": "stream",
     "text": [
      "Partial LUT: ['?', '?', '0', '0', '?', '?', '?', '?', '?', '1', '?', '1', '1', '1', '1', '1']\n",
      "Generated the node with the closest possible effective connectivity of 0.484375.\n",
      "['0', '0', '0', '0', '0', '1', '1', '0', '1', '1', '1', '1', '1', '1', '1', '1'] \n",
      "\n",
      "Partial LUT: ['0', '0', '0', '0', '?', '?', '?', '?', '?', '1', '?', '1', '1', '1', '?', '1']\n",
      "Generated the node with the closest possible effective connectivity of 0.484375.\n",
      "['0', '0', '0', '0', '0', '0', '0', '0', '0', '1', '1', '1', '1', '1', '0', '1'] \n",
      "\n",
      "Partial LUT: ['0', '?', '0', '1', '0', '?', '0', '1', '?', '0', '?', '0', '?', '0', '?', '0']\n",
      "Generated the node with the closest possible effective connectivity of 0.484375.\n",
      "['0', '0', '0', '1', '0', '0', '0', '1', '0', '0', '0', '0', '0', '0', '1', '0'] \n",
      "\n",
      "Partial LUT: ['?', '?', '?', '?', '?', '1', '0', '1', '?', '1', '0', '0', '?', '1', '0', '0']\n",
      "Generated the node with the closest possible effective connectivity of 0.484375.\n",
      "['1', '1', '1', '0', '1', '1', '0', '1', '1', '1', '0', '0', '1', '1', '0', '0'] \n",
      "\n",
      "Partial LUT: ['?', '?', '?', '?', '?', '?', '0', '?', '?', '1', '0', '0', '?', '1', '0', '0']\n",
      "Generated the node with the closest possible effective connectivity of 0.484375.\n",
      "['0', '0', '0', '0', '0', '0', '0', '1', '0', '1', '0', '0', '0', '1', '0', '0'] \n",
      "\n",
      "Partial LUT: ['?', '?', '?', '?', '0', '0', '0', '0', '?', '?', '?', '?', '0', '0', '0', '0']\n",
      "Generated the node with the closest possible effective connectivity of 0.484375.\n",
      "['0', '0', '0', '1', '0', '0', '0', '0', '1', '0', '0', '1', '0', '0', '0', '0'] \n",
      "\n",
      "Partial LUT: ['?', '?', '?', '?', '1', '1', '1', '1', '?', '?', '?', '?', '1', '1', '1', '1']\n",
      "Generated the node with the closest possible effective connectivity of 0.484375.\n",
      "['0', '0', '0', '0', '1', '1', '1', '1', '0', '1', '1', '0', '1', '1', '1', '1'] \n",
      "\n"
     ]
    }
   ],
   "source": [
    "partial_luts = [\n",
    "    [(\"001-\", \"0\"), (\"1--1\", \"1\"), (\"11--\", \"1\")],\n",
    "    [(\"00--\", \"0\"), (\"1--1\", \"1\"), (\"110-\", \"1\")],\n",
    "    # [(\"1--\", \"1\"), (\"101\", \"0\"), (\"011\", \"0\"), (\"01-\", \"1\")], # will have clashes\n",
    "    [(\"0--0\", \"0\"), (\"1--1\", \"0\"), (\"0111\", \"1\"), (\"0011\", \"1\")],\n",
    "    [(\"1-01\", \"1\"), (\"1-1-\", \"0\"), (\"0110\", \"0\"), (\"01-1\", \"1\")],\n",
    "    [(\"1-01\", \"1\"), (\"1-1-\", \"0\"), (\"0110\", \"0\"), (\"01-1\", \"?\")],\n",
    "    [(\"-1--\", \"0\")],\n",
    "    [(\"-1--\", \"1\")],\n",
    "    # [(\"-1--\",\"?\")]\n",
    "]\n",
    "partial_lut = partial_luts[0]\n",
    "\n",
    "for partial_lut in partial_luts:\n",
    "    generated_nodes = BooleanNode.from_partial_lut(partial_lut)\n",
    "    print(f\"Partial LUT: {generated_nodes.outputs}\")\n",
    "    generated_node_permuations = (\n",
    "        generated_nodes.generate_with_required_effective_connectivity(\n",
    "            required_effective_connectivity=0.49, verbose=True\n",
    "        )\n",
    "    )\n",
    "    print(generated_node_permuations.outputs, \"\\n\")\n",
    "\n",
    "\n",
    "# # Incorporating the above functions into the from_partial_lut() under BooleanNode class\n",
    "# generated_node = BooleanNode.from_partial_lut(\n",
    "#     partial_lut, required_effective_connectivity=0.45\n",
    "# )\n",
    "\n",
    "# plot_look_up_table(generated_node)\n",
    "# plot_schemata(generated_node)"
   ]
  },
  {
   "cell_type": "markdown",
   "metadata": {},
   "source": [
    "## Note: \n",
    "\n",
    "from_partial_lut() will throw an error if there are mutliple kwargs inputted. "
   ]
  },
  {
   "cell_type": "markdown",
   "metadata": {},
   "source": [
    "```python\n",
    "generated_node = BooleanNode.from_partial_lut(partial_lut, fill_missing_output_randomly= True, required_effective_connectivity=0.7, required_node_bias=0.5)\n",
    "\n",
    "ValueError: Only one of required_effective_connectvity, required_node_bias and fill_missing_output_randomly can be True. Please set the rest to False.\n",
    "```"
   ]
  }
 ],
 "metadata": {
  "kernelspec": {
   "display_name": ".venv",
   "language": "python",
   "name": "python3"
  },
  "language_info": {
   "codemirror_mode": {
    "name": "ipython",
    "version": 3
   },
   "file_extension": ".py",
   "mimetype": "text/x-python",
   "name": "python",
   "nbconvert_exporter": "python",
   "pygments_lexer": "ipython3",
   "version": "3.12.3"
  }
 },
 "nbformat": 4,
 "nbformat_minor": 2
}
