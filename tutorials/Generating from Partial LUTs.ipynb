{
 "cells": [
  {
   "cell_type": "markdown",
   "metadata": {},
   "source": [
    "# Demo for generating complete LUTs from partial input\n",
    "\n"
   ]
  },
  {
   "cell_type": "code",
   "execution_count": 23,
   "metadata": {},
   "outputs": [],
   "source": [
    "from cana.datasets.bio import PARTIAL_LUTS_DEMO\n",
    "from cana.drawing.schema_vis import plot_schemata\n",
    "from cana.drawing.plot_look_up_table import plot_look_up_table\n",
    "from cana.utils import fill_out_lut\n",
    "\n",
    "from cana.boolean_node import BooleanNode\n",
    "\n"
   ]
  },
  {
   "cell_type": "code",
   "execution_count": null,
   "metadata": {},
   "outputs": [],
   "source": []
  },
  {
   "cell_type": "markdown",
   "metadata": {},
   "source": [
    "## Partial LUTs\n",
    "\n",
    "These are incomplete effective graphs with '-' signifying the wildcard symbol. Visually inspecting an effective graph doesn't allow us to infer its status of completeness or identify any inherent contradictions within the inputs.\n",
    "\n",
    "The fill_out_lut() function enables us to check for contradictory output data. The contradictory outputs are marked by '!'\n",
    "\n",
    "The fill_out_lut() function also checks for missing rules in the LUT, allowing us to correct out data infered from sources and explore state spaces yet to be understood.  These outputs are marked by '?'."
   ]
  },
  {
   "cell_type": "code",
   "execution_count": 24,
   "metadata": {},
   "outputs": [
    {
     "data": {
      "text/plain": [
       "[('000', '?'),\n",
       " ('001', '?'),\n",
       " ('010', '1'),\n",
       " ('011', '!'),\n",
       " ('100', '1'),\n",
       " ('101', '!'),\n",
       " ('110', '1'),\n",
       " ('111', '1')]"
      ]
     },
     "execution_count": 24,
     "metadata": {},
     "output_type": "execute_result"
    }
   ],
   "source": [
    "# Using the fill_out_lut function found in utils.py\n",
    "\n",
    "partial_luts = [\n",
    "    [(\"00--\", \"0\"), (\"1--1\", \"1\"), (\"11--\", \"1\")],\n",
    "    [('1--','1'),('101','0'),('011','0'),('01-','1')],\n",
    "    [('0--0','0'),('1--1','0'),('0111','1'),('0011','1')],\n",
    "]\n",
    "generated_lut = fill_out_lut(partial_luts[1])\n",
    "generated_lut"
   ]
  },
  {
   "cell_type": "markdown",
   "metadata": {},
   "source": [
    "## Partial LUTs in BNS format\n",
    "\n",
    "BNS is a software tool for computing attractors in Boolean Networks with Synchronous update. Synchronous Boolean networks are used for the modeling of genetic regulatory networks.\n",
    "\n",
    "BNS reads in a Boolean network description represented in a .cnet format similar to the Berkeley Logic Interchange Format (BLIF) format commonly used in synthesis and verification tools and prints out the set of network's attractors.\n",
    "\n",
    "Check: <https://people.kth.se/~dubrova/bns.html>"
   ]
  },
  {
   "cell_type": "code",
   "execution_count": 25,
   "metadata": {},
   "outputs": [
    {
     "name": "stdout",
     "output_type": "stream",
     "text": [
      "Entry clash in node  5  for  {'000'}  i.e. State number:  0\n",
      "<BNode(id=5, name='Six', k=2, inputs=[0,1], state='0', outputs=[0,1,?,1] constant=False)>\n"
     ]
    },
    {
     "data": {
      "image/png": "[encoded data removed]",
      "text/plain": [
       "<Figure size 311x403 with 1 Axes>"
      ]
     },
     "metadata": {},
     "output_type": "display_data"
    },
    {
     "data": {
      "image/png": "[encoded data removed]",
      "text/plain": [
       "<Figure size 547x326 with 2 Axes>"
      ]
     },
     "metadata": {},
     "output_type": "display_data"
    }
   ],
   "source": [
    "partial_luts = PARTIAL_LUTS_DEMO() # Instantiating a sample partial_luts dataset from the dataset folder.\n",
    "\n",
    "node = partial_luts.nodes[5]\n",
    "\n",
    "print(node)\n",
    "# print(node.look_up_table())\n",
    "# print(node.schemata_look_up_table())\n",
    "\n",
    "plot_look_up_table(node)\n",
    "plot_schemata(node)"
   ]
  },
  {
   "cell_type": "code",
   "execution_count": 26,
   "metadata": {},
   "outputs": [],
   "source": [
    "# plot_schemata(node)\n",
    "# plot_look_up_table(node)"
   ]
  },
  {
   "cell_type": "markdown",
   "metadata": {},
   "source": [
    "## Instantiating a BooleanNode object using partial LUT\n",
    "\n"
   ]
  },
  {
   "cell_type": "code",
   "execution_count": 27,
   "metadata": {},
   "outputs": [
    {
     "name": "stdout",
     "output_type": "stream",
     "text": [
      "['?', '?', '1', '!', '1', '!', '1', '1']\n"
     ]
    },
    {
     "data": {
      "text/html": [
       "<div>\n",
       "<style scoped>\n",
       "    .dataframe tbody tr th:only-of-type {\n",
       "        vertical-align: middle;\n",
       "    }\n",
       "\n",
       "    .dataframe tbody tr th {\n",
       "        vertical-align: top;\n",
       "    }\n",
       "\n",
       "    .dataframe thead th {\n",
       "        text-align: right;\n",
       "    }\n",
       "</style>\n",
       "<table border=\"1\" class=\"dataframe\">\n",
       "  <thead>\n",
       "    <tr style=\"text-align: right;\">\n",
       "      <th></th>\n",
       "      <th>In:</th>\n",
       "      <th>Out:</th>\n",
       "    </tr>\n",
       "  </thead>\n",
       "  <tbody>\n",
       "    <tr>\n",
       "      <th>0</th>\n",
       "      <td>000</td>\n",
       "      <td>?</td>\n",
       "    </tr>\n",
       "    <tr>\n",
       "      <th>1</th>\n",
       "      <td>001</td>\n",
       "      <td>?</td>\n",
       "    </tr>\n",
       "    <tr>\n",
       "      <th>2</th>\n",
       "      <td>010</td>\n",
       "      <td>1</td>\n",
       "    </tr>\n",
       "    <tr>\n",
       "      <th>3</th>\n",
       "      <td>011</td>\n",
       "      <td>!</td>\n",
       "    </tr>\n",
       "    <tr>\n",
       "      <th>4</th>\n",
       "      <td>100</td>\n",
       "      <td>1</td>\n",
       "    </tr>\n",
       "    <tr>\n",
       "      <th>5</th>\n",
       "      <td>101</td>\n",
       "      <td>!</td>\n",
       "    </tr>\n",
       "    <tr>\n",
       "      <th>6</th>\n",
       "      <td>110</td>\n",
       "      <td>1</td>\n",
       "    </tr>\n",
       "    <tr>\n",
       "      <th>7</th>\n",
       "      <td>111</td>\n",
       "      <td>1</td>\n",
       "    </tr>\n",
       "  </tbody>\n",
       "</table>\n",
       "</div>"
      ],
      "text/plain": [
       "   In: Out:\n",
       "0  000    ?\n",
       "1  001    ?\n",
       "2  010    1\n",
       "3  011    !\n",
       "4  100    1\n",
       "5  101    !\n",
       "6  110    1\n",
       "7  111    1"
      ]
     },
     "execution_count": 27,
     "metadata": {},
     "output_type": "execute_result"
    }
   ],
   "source": [
    "\n",
    "\n",
    "partial_luts = [\n",
    "    [(\"00--\", \"0\"), (\"1--1\", \"1\"), (\"11--\", \"1\")],\n",
    "    [('1--','1'),('101','0'),('011','0'),('01-','1')],\n",
    "    [('0--0','0'),('1--1','0'),('0111','1'),('0011','1')],\n",
    "]\n",
    "partial_lut = partial_luts[1]\n",
    "\n",
    "\n",
    "generated_lut = fill_out_lut(partial_lut) # Using the fill_out_lut function found in utils.py\n",
    "output_list = [x[1] for x in generated_lut] # Extracting the output values from the generated_lut\n",
    "print(output_list)\n",
    "generated_node = BooleanNode.from_output_list(output_list) # Instantiating a BooleanNode object from the output_list\n",
    "generated_node.look_up_table() # Displaying the look-up table of the generated_node"
   ]
  },
  {
   "cell_type": "code",
   "execution_count": 32,
   "metadata": {},
   "outputs": [
    {
     "name": "stdout",
     "output_type": "stream",
     "text": [
      "<BNode(id=0, name='x', k=3, inputs=[1,2,3], state='0', outputs=[?,?,1,!,1,!,1,1] constant=False)>\n"
     ]
    },
    {
     "data": {
      "text/html": [
       "<div>\n",
       "<style scoped>\n",
       "    .dataframe tbody tr th:only-of-type {\n",
       "        vertical-align: middle;\n",
       "    }\n",
       "\n",
       "    .dataframe tbody tr th {\n",
       "        vertical-align: top;\n",
       "    }\n",
       "\n",
       "    .dataframe thead th {\n",
       "        text-align: right;\n",
       "    }\n",
       "</style>\n",
       "<table border=\"1\" class=\"dataframe\">\n",
       "  <thead>\n",
       "    <tr style=\"text-align: right;\">\n",
       "      <th></th>\n",
       "      <th>In:</th>\n",
       "      <th>Out:</th>\n",
       "    </tr>\n",
       "  </thead>\n",
       "  <tbody>\n",
       "    <tr>\n",
       "      <th>0</th>\n",
       "      <td>000</td>\n",
       "      <td>?</td>\n",
       "    </tr>\n",
       "    <tr>\n",
       "      <th>1</th>\n",
       "      <td>001</td>\n",
       "      <td>?</td>\n",
       "    </tr>\n",
       "    <tr>\n",
       "      <th>2</th>\n",
       "      <td>010</td>\n",
       "      <td>1</td>\n",
       "    </tr>\n",
       "    <tr>\n",
       "      <th>3</th>\n",
       "      <td>011</td>\n",
       "      <td>!</td>\n",
       "    </tr>\n",
       "    <tr>\n",
       "      <th>4</th>\n",
       "      <td>100</td>\n",
       "      <td>1</td>\n",
       "    </tr>\n",
       "    <tr>\n",
       "      <th>5</th>\n",
       "      <td>101</td>\n",
       "      <td>!</td>\n",
       "    </tr>\n",
       "    <tr>\n",
       "      <th>6</th>\n",
       "      <td>110</td>\n",
       "      <td>1</td>\n",
       "    </tr>\n",
       "    <tr>\n",
       "      <th>7</th>\n",
       "      <td>111</td>\n",
       "      <td>1</td>\n",
       "    </tr>\n",
       "  </tbody>\n",
       "</table>\n",
       "</div>"
      ],
      "text/plain": [
       "   In: Out:\n",
       "0  000    ?\n",
       "1  001    ?\n",
       "2  010    1\n",
       "3  011    !\n",
       "4  100    1\n",
       "5  101    !\n",
       "6  110    1\n",
       "7  111    1"
      ]
     },
     "execution_count": 32,
     "metadata": {},
     "output_type": "execute_result"
    }
   ],
   "source": [
    "# Combining the above functions into a single function under BooleanNode class\n",
    "\n",
    "generated_node = BooleanNode.from_partial_lut(partial_lut) \n",
    "print(generated_node)\n",
    "generated_node.look_up_table()\n"
   ]
  }
 ],
 "metadata": {
  "kernelspec": {
   "display_name": ".venv",
   "language": "python",
   "name": "python3"
  },
  "language_info": {
   "codemirror_mode": {
    "name": "ipython",
    "version": 3
   },
   "file_extension": ".py",
   "mimetype": "text/x-python",
   "name": "python",
   "nbconvert_exporter": "python",
   "pygments_lexer": "ipython3",
   "version": "3.12.3"
  }
 },
 "nbformat": 4,
 "nbformat_minor": 2
}
