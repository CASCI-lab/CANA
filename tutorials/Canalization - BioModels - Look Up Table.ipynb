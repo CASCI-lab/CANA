{
 "cells": [
  {
   "cell_type": "markdown",
   "metadata": {
    "collapsed": true
   },
   "source": [
    "# Tutorial - Plotting Look Up Table (LUT)\n",
    "This tutorial shows how to plot Prime Implicants (F') and Two-Symbol (F'') schematas"
   ]
  },
  {
   "cell_type": "code",
   "execution_count": 1,
   "metadata": {},
   "outputs": [],
   "source": [
    "%matplotlib inline"
   ]
  },
  {
   "cell_type": "code",
   "execution_count": 2,
   "metadata": {},
   "outputs": [],
   "source": [
    "import matplotlib.pyplot as plt\n",
    "from matplotlib.text import Text\n",
    "from matplotlib.patches import Circle, Rectangle, RegularPolygon\n",
    "from matplotlib.collections import PatchCollection"
   ]
  },
  {
   "cell_type": "code",
   "execution_count": 3,
   "metadata": {},
   "outputs": [],
   "source": [
    "from cana.datasets.bio import THALIANA #, DROSOPHILA, BUDDING_YEAST"
   ]
  },
  {
   "cell_type": "code",
   "execution_count": 4,
   "metadata": {},
   "outputs": [
    {
     "name": "stdout",
     "output_type": "stream",
     "text": [
      "<BNetwork(name='Arabidopsis Thaliana', N=15, Nodes=['AP3', 'UFO', 'FUL', 'FT', 'AP1', 'EMF1', 'LFY', 'AP2', 'WUS', 'AG', 'LUG', 'CLF', 'TFL1', 'PI', 'SEP'])>\n"
     ]
    }
   ],
   "source": [
    "N = THALIANA()\n",
    "#N = DROSOPHILA()\n",
    "#N = BUDDING_YEAST()\n",
    "print(N)"
   ]
  },
  {
   "cell_type": "code",
   "execution_count": 5,
   "metadata": {
    "scrolled": false
   },
   "outputs": [],
   "source": [
    "def plot_look_up_table(n):\n",
    "    # Init values from BooleanNode\n",
    "    k = n.k if n.k>=1 else 1\n",
    "    inputs = n.inputs if not n.constant else [n.name]\n",
    "    inputlabels = [n.network.get_node_name(i)[0] if n.network is not None else i for i in inputs]\n",
    "    LUT = n.look_up_table().sort_index(ascending=False)\n",
    "    # Count number of F in the LUT\n",
    "    n_fs = LUT.shape[0]\n",
    "    # Schemata Cell Width and spacing\n",
    "    cwidth = 60.\n",
    "    cxspace = 0\n",
    "    cyspace = 6\n",
    "    border = 1\n",
    "    sepcxspace = 21\n",
    "    sepcyspace = 15\n",
    "    dpi = 150.\n",
    "    # Margins\n",
    "    top, right, bottom, left, hs = 120, 25, 25, 60, 25\n",
    "    # Axes Width & Height\n",
    "    ax1width = ((k*(cwidth+cxspace))+sepcxspace+(cwidth))\n",
    "    ax1height = (n_fs*(cwidth+cyspace)-cyspace)\n",
    "    # Figure Width & Height\n",
    "    fwidth = (left + ax1width + hs + right)\n",
    "    fheight = (bottom + ax1height + top)\n",
    "    # Percentages for Axes location\n",
    "    _ax1w = ((ax1width*100) / fwidth) / 100\n",
    "    _ax1h = ((ax1height*100) / fheight) / 100\n",
    "    _bottom = ((bottom*100) / fheight) / 100\n",
    "    _left = ((left*100) / fwidth) / 100\n",
    "    _hs = ((hs*100) / fwidth) / 100\n",
    "    # Init Figure\n",
    "    fig = plt.figure(figsize=(fwidth/dpi,fheight/dpi), facecolor='w', dpi=dpi)\n",
    "    ax1 = fig.add_axes((_left,_bottom,_ax1w,_ax1h), aspect=1, label='LUT')\n",
    "\n",
    "    ### LUT Plot ###\n",
    "\n",
    "    yticks = []\n",
    "    patches = []\n",
    "    x,y = 0.,0.\n",
    "    #\n",
    "    for i,r in LUT.iterrows():\n",
    "        ins = str(r['In:'])\n",
    "        out = r['Out:']\n",
    "        x = 0.\n",
    "        xticks = []\n",
    "        for input in ins:\n",
    "            if input == '0':\n",
    "                facecolor = 'white'\n",
    "                textcolor = 'black'\n",
    "            elif input == '1':\n",
    "                facecolor = 'black'\n",
    "                textcolor = 'white'      \n",
    "            text = '{label:s}'.format(label=input)\n",
    "            ax1.add_artist(Text(x+cwidth/2,y+cwidth/10*4, text=text, color=textcolor, va='center', ha='center',fontsize=14,family='serif'))\n",
    "            r = Rectangle((x,y), width=cwidth, height=cwidth, facecolor=facecolor, edgecolor='black')\n",
    "            patches.append(r)\n",
    "            xticks.append(x+cwidth/2)\n",
    "            x += cwidth + cxspace\n",
    "\n",
    "        x += sepcxspace\n",
    "        r = Rectangle((x,y), width=cwidth, height=cwidth, facecolor='black' if (out==1) else 'white', edgecolor='black')\n",
    "        ax1.add_artist(Text(x-(sepcxspace/2)-(cxspace/2),y+cwidth/10*4, text=':', color='black', va='center', ha='center',fontsize=14,weight='bold',family='serif'))\n",
    "        ax1.add_artist(Text(x+(cwidth/2),y+cwidth/10*4, text=out, color='white' if (out==1) else 'black', va='center', ha='center',fontsize=14,family='serif'))\n",
    "        patches.append(r)\n",
    "        xticks.append(x+cwidth/2)\n",
    "        yticks.append(y+cwidth/2)\n",
    "        y += cwidth + cyspace\n",
    "\n",
    "        #y += sepcyspace\n",
    "\n",
    "    ax1.add_collection(PatchCollection(patches, match_original=True))\n",
    "    #\n",
    "    ax1.set_yticks(yticks)\n",
    "    ax1.set_yticklabels([r\"$f_{%d}$\"%(i+1) for i in range(n_fs)[::-1]], fontsize=14)\n",
    "    ax1.set_xticks(xticks)\n",
    "    ax1.set_xticklabels(inputlabels + ['%s'%(n.name)], rotation=90, fontsize=14)\n",
    "    #\n",
    "    ax1.xaxis.tick_top()\n",
    "    # Remove Tick\n",
    "    ax1.tick_params(which='major',pad=7)\n",
    "    for tic in ax1.xaxis.get_major_ticks():\n",
    "        tic.tick1On = tic.tick2On = False\n",
    "    for tic in ax1.yaxis.get_major_ticks():\n",
    "        tic.tick1On = tic.tick2On = False\n",
    "    # Remove Border\n",
    "    ax1.spines['top'].set_visible(False)\n",
    "    ax1.spines['right'].set_visible(False)\n",
    "    ax1.spines['bottom'].set_visible(False)\n",
    "    ax1.spines['left'].set_visible(False)\n",
    "    # Limits\n",
    "    ax1.set_xlim(-border,ax1width+border)\n",
    "    ax1.set_ylim(-border,ax1height+border)\n",
    "    #ax1.invert_yaxis() \n",
    "\n",
    "    # FileName\n",
    "    filename = n.name\n",
    "    filename = filename.replace('/','_')\n",
    "    filename = filename.replace(',','_')\n",
    "    \n",
    "    ## Display\n",
    "    display(fig)\n",
    "    \n",
    "    plt.close()"
   ]
  },
  {
   "cell_type": "code",
   "execution_count": 6,
   "metadata": {},
   "outputs": [
    {
     "data": {
      "image/png": "[encoded data removed]",
      "text/plain": [
       "<Figure size 311x403 with 1 Axes>"
      ]
     },
     "metadata": {},
     "output_type": "display_data"
    }
   ],
   "source": [
    "node = N.nodes[2]\n",
    "plot_look_up_table(node)"
   ]
  },
  {
   "cell_type": "code",
   "execution_count": null,
   "metadata": {},
   "outputs": [],
   "source": []
  }
 ],
 "metadata": {
  "kernelspec": {
   "display_name": "Python 3",
   "language": "python",
   "name": "python3"
  },
  "language_info": {
   "codemirror_mode": {
    "name": "ipython",
    "version": 3
   },
   "file_extension": ".py",
   "mimetype": "text/x-python",
   "name": "python",
   "nbconvert_exporter": "python",
   "pygments_lexer": "ipython3",
   "version": "3.7.7"
  }
 },
 "nbformat": 4,
 "nbformat_minor": 2
}
