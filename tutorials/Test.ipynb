{
 "cells": [
  {
   "cell_type": "markdown",
   "metadata": {
    "collapsed": true
   },
   "source": [
    "# Tutorial - Plotting LUT\n",
    "This tutorial shows how to plot Prime Implicants (F') and Two-Symbol (F'') schematas"
   ]
  },
  {
   "cell_type": "code",
   "execution_count": 77,
   "metadata": {
    "collapsed": false
   },
   "outputs": [],
   "source": [
    "%matplotlib inline\n",
    "import os\n",
    "import graphviz\n",
    "import math\n",
    "import numpy as np\n",
    "import matplotlib as mpl\n",
    "import matplotlib.style\n",
    "mpl.style.use('classic')\n",
    "import matplotlib.pyplot as plt\n",
    "from matplotlib.text import Text\n",
    "from matplotlib.patches import Circle, Rectangle, RegularPolygon\n",
    "from matplotlib.collections import PatchCollection\n",
    "from copy import copy\n",
    "from cana import BooleanNetwork\n",
    "from IPython.display import display, Image, Latex, SVG, HTML\n",
    "import subprocess"
   ]
  },
  {
   "cell_type": "code",
   "execution_count": 2,
   "metadata": {
    "collapsed": false
   },
   "outputs": [],
   "source": [
    "logic = {\n",
    "    0:{'name':'A', 'in':[0],   'out':[0,1]},\n",
    "    1:{'name':'B', 'in':[0,1], 'out':[0,1,1,1]},\n",
    "    2:{'name':'C', 'in':[0,1], 'out':[0,0,0,1]}\n",
    "}\n",
    "N = BooleanNetwork.from_dict(logic, name=\"AND\")"
   ]
  },
  {
   "cell_type": "code",
   "execution_count": 3,
   "metadata": {
    "collapsed": false
   },
   "outputs": [
    {
     "name": "stdout",
     "output_type": "stream",
     "text": [
      "<BNetwork(Name='AND', N=3, Nodes=['A', 'B', 'C'])>\n",
      "<BNode(name='A', k=1, inputs=[A], state=0, outputs='[0,1]' constant=False)>\n",
      "  In:  Out:\n",
      "0   0     0\n",
      "1   1     1\n"
     ]
    }
   ],
   "source": [
    "#N = THALIANA()\n",
    "#N = DROSOPHILA()\n",
    "#N = BUDDING_YEAST()\n",
    "print N\n",
    "n = N.nodes[0]\n",
    "print n\n",
    "print n.look_up_table()"
   ]
  },
  {
   "cell_type": "code",
   "execution_count": null,
   "metadata": {
    "collapsed": false
   },
   "outputs": [],
   "source": []
  },
  {
   "cell_type": "code",
   "execution_count": 22,
   "metadata": {
    "collapsed": false,
    "scrolled": false
   },
   "outputs": [],
   "source": [
    "def plot_look_up_table(nid, n):\n",
    "    # Init values from BooleanNode\n",
    "    k = n.k if n.k>=1 else 1\n",
    "    inputs = n.inputs if not n.constant else [n.name]\n",
    "    LUT = n.look_up_table().sort_index(ascending=False)\n",
    "    # Count number of F in the LUT\n",
    "    n_fs = LUT.shape[0]\n",
    "    # Schemata Cell Width and spacing\n",
    "    cwidth = 60.\n",
    "    cxspace = 0\n",
    "    cyspace = 6\n",
    "    border = 1\n",
    "    sepcxspace = 21\n",
    "    sepcyspace = 15\n",
    "    dpi = 150.\n",
    "    # Margins\n",
    "    top, right, bottom, left, hs = 120, 25, 25, 60, 25\n",
    "    # Axes Width & Height\n",
    "    ax1width = ((k*(cwidth+cxspace))+sepcxspace+(cwidth))\n",
    "    ax1height = (n_fs*(cwidth+cyspace)-cyspace)\n",
    "    # Figure Width & Height\n",
    "    fwidth = (left + ax1width + hs + right)\n",
    "    fheight = (bottom + ax1height + top)\n",
    "    # Percentages for Axes location\n",
    "    _ax1w = ((ax1width*100) / fwidth) / 100\n",
    "    _ax1h = ((ax1height*100) / fheight) / 100\n",
    "    _bottom = ((bottom*100) / fheight) / 100\n",
    "    _left = ((left*100) / fwidth) / 100\n",
    "    _hs = ((hs*100) / fwidth) / 100\n",
    "    # Init Figure\n",
    "    fig = plt.figure(figsize=(fwidth/dpi,fheight/dpi), dpi=dpi)\n",
    "    ax1 = fig.add_axes((_left,_bottom,_ax1w,_ax1h), aspect=1, label='LUT')\n",
    "\n",
    "    ### LUT Plot ###\n",
    "\n",
    "    yticks = []\n",
    "    patches = []\n",
    "    x,y = 0.,0.\n",
    "    #\n",
    "    for i,r in LUT.iterrows():\n",
    "        ins = str(r['In:'])\n",
    "        out = r['Out:']\n",
    "        x = 0.\n",
    "        xticks = []\n",
    "        for input in ins:\n",
    "            if input == '0':\n",
    "                facecolor = 'white'\n",
    "                textcolor = 'black'\n",
    "            elif input == '1':\n",
    "                facecolor = 'black'\n",
    "                textcolor = 'white'      \n",
    "            text = '%s'%(input)\n",
    "            ax1.add_artist(Text(x+cwidth/2,y+cwidth/10*4, text=text, color=textcolor, va='center', ha='center',fontsize=14,family='serif'))\n",
    "            r = Rectangle((x,y), width=cwidth, height=cwidth, facecolor=facecolor, edgecolor='black')\n",
    "            patches.append(r)\n",
    "            xticks.append(x+cwidth/2)\n",
    "            x += cwidth + cxspace\n",
    "\n",
    "        x += sepcxspace\n",
    "        r = Rectangle((x,y), width=cwidth, height=cwidth, facecolor='black' if (out==1) else 'white', edgecolor='black')\n",
    "        ax1.add_artist(Text(x-(sepcxspace/2)-(cxspace/2),y+cwidth/10*4, text=':', color='black', va='center', ha='center',fontsize=14,weight='bold',family='serif'))\n",
    "        ax1.add_artist(Text(x+(cwidth/2),y+cwidth/10*4, text=out, color='white' if (out==1) else 'black', va='center', ha='center',fontsize=14,family='serif'))\n",
    "        patches.append(r)\n",
    "        xticks.append(x+cwidth/2)\n",
    "        yticks.append(y+cwidth/2)\n",
    "        y += cwidth + cyspace\n",
    "\n",
    "        #y += sepcyspace\n",
    "\n",
    "    ax1.add_collection(PatchCollection(patches,match_original=True))\n",
    "    #\n",
    "    ax1.set_yticks(yticks)\n",
    "    ax1.set_yticklabels([r\"$f_{%d}$\"%(i+1) for i in range(n_fs)[::-1]], fontsize=14)\n",
    "    ax1.set_xticks(xticks)\n",
    "    ax1.set_xticklabels(inputs + ['%s'%(n.name)], rotation=90, fontsize=14)\n",
    "    #\n",
    "    ax1.xaxis.tick_top()\n",
    "    # Remove Tick\n",
    "    ax1.tick_params(which='major',pad=7)\n",
    "    for tic in ax1.xaxis.get_major_ticks():\n",
    "        tic.tick1On = tic.tick2On = False\n",
    "    for tic in ax1.yaxis.get_major_ticks():\n",
    "        tic.tick1On = tic.tick2On = False\n",
    "    # Remove Border\n",
    "    ax1.spines['top'].set_visible(False)\n",
    "    ax1.spines['right'].set_visible(False)\n",
    "    ax1.spines['bottom'].set_visible(False)\n",
    "    ax1.spines['left'].set_visible(False)\n",
    "    # Limits\n",
    "    ax1.set_xlim(-border,ax1width+border)\n",
    "    ax1.set_ylim(-border,ax1height+border)\n",
    "    #ax1.invert_yaxis() \n",
    "\n",
    "    # FileName\n",
    "    filename = n.name\n",
    "    filename = filename.replace('/','_')\n",
    "    filename = filename.replace(',','_')\n",
    "    ### SAVE to FILE ###\n",
    "    plt.savefig('%s/../experiments/2018 - Test/%s' % (os.getcwd(), nid), dpi=dpi)\n",
    "    #plt.show()\n",
    "    plt.close()"
   ]
  },
  {
   "cell_type": "code",
   "execution_count": 23,
   "metadata": {
    "collapsed": false,
    "scrolled": false
   },
   "outputs": [
    {
     "name": "stdout",
     "output_type": "stream",
     "text": [
      "Plotting: 0 - A\n",
      "  In:  Out:\n",
      "0   0     0\n",
      "1   1     1\n",
      "Plotting: 1 - B\n",
      "  In:  Out:\n",
      "0  00     0\n",
      "1  01     1\n",
      "2  10     1\n",
      "3  11     1\n",
      "Plotting: 2 - C\n",
      "  In:  Out:\n",
      "0  00     0\n",
      "1  01     0\n",
      "2  10     0\n",
      "3  11     1\n"
     ]
    }
   ],
   "source": [
    "for nid,n in enumerate(N.nodes):\n",
    "    print 'Plotting: %s - %s' % (nid,n.name)\n",
    "    print n.look_up_table()\n",
    "    # Plot\n",
    "    plot_look_up_table(nid,n)"
   ]
  },
  {
   "cell_type": "code",
   "execution_count": 139,
   "metadata": {
    "collapsed": false
   },
   "outputs": [],
   "source": [
    "# Node Position for each one of the models\n",
    "att = {}\n",
    "\n",
    "# Calculates Node position in a circle. Used to plot nodes always in the same position.\n",
    "for deg,name in zip(np.arange(90,360,3), ['A', 'B', 'C']):\n",
    "    r = 10\n",
    "    x, y = r*math.cos(math.radians(deg)), r*math.sin(math.radians(deg))\n",
    "    att[name] = {'x':x,'y':y}\n",
    "\n",
    "att['A'] = {'x':1,'y':1}\n",
    "att['B'] = {'x':0,'y':0}\n",
    "att['C'] = {'x':2,'y':0}"
   ]
  },
  {
   "cell_type": "code",
   "execution_count": 143,
   "metadata": {
    "collapsed": false
   },
   "outputs": [
    {
     "name": "stdout",
     "output_type": "stream",
     "text": [
      "0 {'label': 'A'} 0\n",
      "1,1!\n",
      "1 {'label': 'B'} 0\n",
      "0,0!\n",
      "2 {'label': 'C'} 0\n",
      "2,0!\n"
     ]
    },
    {
     "data": {
      "image/svg+xml": [
       "<svg height=\"116pt\" viewBox=\"0.00 0.00 188.00 116.00\" width=\"188pt\" xmlns=\"http://www.w3.org/2000/svg\" xmlns:xlink=\"http://www.w3.org/1999/xlink\">\n",
       "<g class=\"graph\" id=\"graph0\" transform=\"scale(1 1) rotate(0) translate(4 112)\">\n",
       "<title>Structural Graph</title>\n",
       "<polygon fill=\"white\" points=\"-4,4 -4,-112 184,-112 184,4 -4,4\" stroke=\"none\"/>\n",
       "<!-- 0 -->\n",
       "<g class=\"node\" id=\"node1\"><title>0</title>\n",
       "<ellipse cx=\"90\" cy=\"-90\" fill=\"white\" rx=\"18\" ry=\"18\" stroke=\"gray\" stroke-width=\"4\"/>\n",
       "<text font-family=\"Helvetica,sans-Serif\" font-size=\"14.00\" text-anchor=\"middle\" x=\"90\" y=\"-85.8\">A</text>\n",
       "</g>\n",
       "<!-- 0&#45;&gt;0 -->\n",
       "<g class=\"edge\" id=\"edge1\"><title>0-&gt;0</title>\n",
       "<path d=\"M107.037,-96.3792C116.858,-97.6811 126,-95.5547 126,-90 126,-85.4868 119.965,-83.2368 112.434,-83.2501\" fill=\"none\" stroke=\"#545454\" stroke-width=\"2\"/>\n",
       "<polygon fill=\"#545454\" points=\"111.906,-81.5322 107.037,-83.6208 112.146,-85.0239 111.906,-81.5322\" stroke=\"#545454\" stroke-width=\"2\"/>\n",
       "</g>\n",
       "<!-- 1 -->\n",
       "<g class=\"node\" id=\"node2\"><title>1</title>\n",
       "<ellipse cx=\"18\" cy=\"-18\" fill=\"white\" rx=\"18\" ry=\"18\" stroke=\"gray\" stroke-width=\"4\"/>\n",
       "<text font-family=\"Helvetica,sans-Serif\" font-size=\"14.00\" text-anchor=\"middle\" x=\"18\" y=\"-13.8\">B</text>\n",
       "</g>\n",
       "<!-- 0&#45;&gt;1 -->\n",
       "<g class=\"edge\" id=\"edge2\"><title>0-&gt;1</title>\n",
       "<path d=\"M77.1278,-77.1278C65.2511,-65.2511 47.5503,-47.5503 34.6116,-34.6116\" fill=\"none\" stroke=\"#545454\" stroke-width=\"2\"/>\n",
       "<polygon fill=\"#545454\" points=\"35.5337,-33.0588 30.7607,-30.7607 33.0588,-35.5337 35.5337,-33.0588\" stroke=\"#545454\" stroke-width=\"2\"/>\n",
       "</g>\n",
       "<!-- 2 -->\n",
       "<g class=\"node\" id=\"node3\"><title>2</title>\n",
       "<ellipse cx=\"162\" cy=\"-18\" fill=\"white\" rx=\"18\" ry=\"18\" stroke=\"gray\" stroke-width=\"4\"/>\n",
       "<text font-family=\"Helvetica,sans-Serif\" font-size=\"14.00\" text-anchor=\"middle\" x=\"162\" y=\"-13.8\">C</text>\n",
       "</g>\n",
       "<!-- 0&#45;&gt;2 -->\n",
       "<g class=\"edge\" id=\"edge3\"><title>0-&gt;2</title>\n",
       "<path d=\"M102.872,-77.1278C114.749,-65.2511 132.45,-47.5503 145.388,-34.6116\" fill=\"none\" stroke=\"#545454\" stroke-width=\"2\"/>\n",
       "<polygon fill=\"#545454\" points=\"146.941,-35.5337 149.239,-30.7607 144.466,-33.0588 146.941,-35.5337\" stroke=\"#545454\" stroke-width=\"2\"/>\n",
       "</g>\n",
       "<!-- 1&#45;&gt;1 -->\n",
       "<g class=\"edge\" id=\"edge4\"><title>1-&gt;1</title>\n",
       "<path d=\"M35.0373,-24.3792C44.8579,-25.6811 54,-23.5547 54,-18 54,-13.4868 47.9648,-11.2368 40.434,-11.2501\" fill=\"none\" stroke=\"#545454\" stroke-width=\"2\"/>\n",
       "<polygon fill=\"#545454\" points=\"39.9056,-9.53215 35.0373,-11.6208 40.1455,-13.0239 39.9056,-9.53215\" stroke=\"#545454\" stroke-width=\"2\"/>\n",
       "</g>\n",
       "<!-- 1&#45;&gt;2 -->\n",
       "<g class=\"edge\" id=\"edge5\"><title>1-&gt;2</title>\n",
       "<path d=\"M36.2377,-18C62.3137,-18 110.248,-18 138.812,-18\" fill=\"none\" stroke=\"#545454\" stroke-width=\"2\"/>\n",
       "<polygon fill=\"#545454\" points=\"138.91,-19.7501 143.91,-18 138.91,-16.2501 138.91,-19.7501\" stroke=\"#545454\" stroke-width=\"2\"/>\n",
       "</g>\n",
       "</g>\n",
       "</svg>"
      ],
      "text/plain": [
       "<IPython.core.display.SVG object>"
      ]
     },
     "metadata": {
      "isolated": true
     },
     "output_type": "display_data"
    },
    {
     "data": {
      "text/plain": [
       "0"
      ]
     },
     "execution_count": 143,
     "metadata": {},
     "output_type": "execute_result"
    }
   ],
   "source": [
    "# Draw a Specific Attractor Configuration\n",
    "Nsg = N.structural_graph()\n",
    "S = graphviz.Digraph(name='Structural Graph', engine='neato')\n",
    "S.attr('graph', concentrate='false', simplify='false', overlap='false',splines='true')\n",
    "S.attr('node', shape='circle', fixedsize='true', width='.5', style='filled', penwidth='4', fontname='Helvetica', fontsize='14')\n",
    "S.attr('edge', arrowhead='normal', arrowsize='.5', color='#545454')\n",
    "\n",
    "for state,(node,d) in zip(['0','0','0'], Nsg.nodes(data=True)):\n",
    "    print node,d,state\n",
    "    if d['label'] in att:\n",
    "        natt = att[d['label']]\n",
    "        if 'x' in natt or 'y' in natt:\n",
    "            x,y = natt['x'] , natt['y']\n",
    "            xy = '%s,%s!' % (x,y)\n",
    "    else:\n",
    "        xy = 'false'\n",
    "    color = 'gray'\n",
    "    if state=='1':\n",
    "        fontcolor ='white'\n",
    "        fillcolor = 'black'\n",
    "    else:\n",
    "        fontcolor ='black'\n",
    "        fillcolor = 'white'\n",
    "    print xy\n",
    "    S.node(name=str(node), label=d['label'], pos=xy, color=color, fillcolor=fillcolor, fontcolor=fontcolor)\n",
    "\n",
    "max_penwidth = 2.\n",
    "for s,t,d in Nsg.edges(data=True):\n",
    "    weight = '%d' % (d['weight']*100)\n",
    "    penwidth_scaled = '%.2f' % ( (d['weight']/1)*max_penwidth )\n",
    "    S.edge(str(s),str(t), weight=weight, penwidth=penwidth_scaled, )\n",
    "# Display\n",
    "display(SVG(S.pipe(format='svg')),metadata={'isolated':True})\n",
    "# Export\n",
    "S._format = 'svg'\n",
    "efile = u\"%s/../experiments/2018 - Test/network\" % (os.getcwd())\n",
    "S.render(efile, cleanup=True)\n",
    "subprocess.call(\"inkscape -z '%s.svg' -d 300 -e '%s.png'\" % (efile,efile) , shell=True)"
   ]
  },
  {
   "cell_type": "code",
   "execution_count": null,
   "metadata": {
    "collapsed": true
   },
   "outputs": [],
   "source": []
  },
  {
   "cell_type": "code",
   "execution_count": null,
   "metadata": {
    "collapsed": true
   },
   "outputs": [],
   "source": []
  }
 ],
 "metadata": {
  "kernelspec": {
   "display_name": "Python 2",
   "language": "python",
   "name": "python2"
  },
  "language_info": {
   "codemirror_mode": {
    "name": "ipython",
    "version": 2
   },
   "file_extension": ".py",
   "mimetype": "text/x-python",
   "name": "python",
   "nbconvert_exporter": "python",
   "pygments_lexer": "ipython2",
   "version": "2.7.11"
  }
 },
 "nbformat": 4,
 "nbformat_minor": 2
}
