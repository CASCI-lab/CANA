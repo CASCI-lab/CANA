{
 "cells": [
  {
   "cell_type": "markdown",
   "metadata": {},
   "source": [
    "# Network Control - Thaliana\n",
    "control measures for the Arabidobis Thaliana Boolean Model"
   ]
  },
  {
   "cell_type": "code",
   "execution_count": 6,
   "metadata": {},
   "outputs": [
    {
     "name": "stdout",
     "output_type": "stream",
     "text": [
      "The autoreload extension is already loaded. To reload it, use:\n",
      "  %reload_ext autoreload\n"
     ]
    }
   ],
   "source": [
    "%load_ext autoreload\n",
    "%autoreload 2\n",
    "%matplotlib inline"
   ]
  },
  {
   "cell_type": "code",
   "execution_count": 7,
   "metadata": {},
   "outputs": [],
   "source": [
    "from __future__ import division\n",
    "import numpy as np\n",
    "from itertools import product\n",
    "from cana.control import fvs, mds, sc\n",
    "from cana.datasets.bio import THALIANA\n",
    "from IPython.display import display\n",
    "from IPython.core.display import HTML"
   ]
  },
  {
   "cell_type": "code",
   "execution_count": 8,
   "metadata": {},
   "outputs": [],
   "source": [
    "N = THALIANA()"
   ]
  },
  {
   "cell_type": "markdown",
   "metadata": {},
   "source": [
    "## Discovering Driver Nodes / Control Nodes"
   ]
  },
  {
   "cell_type": "code",
   "execution_count": null,
   "metadata": {
    "scrolled": true
   },
   "outputs": [],
   "source": [
    "display(HTML('<h3>Control State Transition Graph (CSTG)</h3>'))\n",
    "# THIS MIGHT TAKE A LONG TIME, it is here for demo purposes.\n",
    "driver_nodes = N.attractor_driver_nodes(min_dvs=1, max_dvs=6, verbose=True)\n",
    "print(N.get_node_name(driver_nodes))\n",
    "#> ['AP2', 'EMF1', 'LFY', 'TFL1', 'UFO', 'WUS'], ['AG', 'EMF1', 'LFY', 'TFL1', 'UFO', 'WUS']"
   ]
  },
  {
   "cell_type": "code",
   "execution_count": 10,
   "metadata": {},
   "outputs": [
    {
     "data": {
      "text/html": [
       "<h3>Structural Controlability (SC)</h3>"
      ],
      "text/plain": [
       "<IPython.core.display.HTML object>"
      ]
     },
     "metadata": {},
     "output_type": "display_data"
    },
    {
     "name": "stdout",
     "output_type": "stream",
     "text": [
      "[['UFO', 'LUG', 'CLF', 'SEP'], ['UFO', 'EMF1', 'LUG', 'CLF']]\n"
     ]
    }
   ],
   "source": [
    "display(HTML('<h3>Structural Controlability (SC)</h3>'))\n",
    "SC = N.structural_controllability_driver_nodes(keep_self_loops=False)\n",
    "print(N.get_node_name(SC))"
   ]
  },
  {
   "cell_type": "code",
   "execution_count": 11,
   "metadata": {},
   "outputs": [
    {
     "data": {
      "text/html": [
       "<h3>Minimum Dominating Set (MDS)</h3>"
      ],
      "text/plain": [
       "<IPython.core.display.HTML object>"
      ]
     },
     "metadata": {},
     "output_type": "display_data"
    },
    {
     "name": "stdout",
     "output_type": "stream",
     "text": [
      "[['UFO', 'EMF1', 'LUG', 'CLF', 'TFL1', 'SEP']]\n"
     ]
    }
   ],
   "source": [
    "display(HTML('<h3>Minimum Dominating Set (MDS)</h3>'))\n",
    "MDS = N.minimum_dominating_set_driver_nodes(max_search=10)\n",
    "print(N.get_node_name(MDS))"
   ]
  },
  {
   "cell_type": "code",
   "execution_count": 13,
   "metadata": {},
   "outputs": [
    {
     "data": {
      "text/html": [
       "<h3>Feedback Vertex Control (FVS)</h3>"
      ],
      "text/plain": [
       "<IPython.core.display.HTML object>"
      ]
     },
     "metadata": {},
     "output_type": "display_data"
    },
    {
     "name": "stdout",
     "output_type": "stream",
     "text": [
      "[['AP3', 'UFO', 'LFY', 'WUS', 'AG', 'LUG', 'CLF', 'TFL1', 'PI']] (grasp)\n",
      "[['AP3', 'UFO', 'LFY', 'WUS', 'AG', 'LUG', 'CLF', 'TFL1', 'PI']] (bruteforce)\n"
     ]
    }
   ],
   "source": [
    "display(HTML('<h3>Feedback Vertex Control (FVS)</h3>'))\n",
    "FVS_g = N.feedback_vertex_set_driver_nodes(graph='structural', method='grasp', remove_constants=True)\n",
    "print(N.get_node_name(FVS_g) , '(grasp)')\n",
    "FVS_bf = N.feedback_vertex_set_driver_nodes(graph='structural', method='bruteforce', remove_constants=True)\n",
    "print(N.get_node_name(FVS_bf) , '(bruteforce)')"
   ]
  },
  {
   "cell_type": "code",
   "execution_count": 14,
   "metadata": {},
   "outputs": [],
   "source": [
    "#display(HTML('<h3>Pinning Control (PC)</h3>'))\n",
    "#under development"
   ]
  },
  {
   "cell_type": "markdown",
   "metadata": {},
   "source": [
    "## Differences between the Control Methods"
   ]
  },
  {
   "cell_type": "code",
   "execution_count": 15,
   "metadata": {},
   "outputs": [],
   "source": [
    "# Control via State Transition Graph (CSTG)\n",
    "CSTGs = [['AP2', 'EMF1', 'LFY', 'TFL1', 'UFO', 'WUS'],\n",
    "         ['AG', 'EMF1', 'LFY', 'TFL1', 'UFO', 'WUS']\n",
    "        ]\n",
    "\n",
    "# Pinning Control\n",
    "PCs = [['AP3', 'UFO', 'AP1', 'LFY', 'WUS', 'AG'],\n",
    "       ['AP3', 'UFO', 'EMF1', 'WUS', 'AG', 'TFL1'],\n",
    "       ['AP3', 'UFO', 'LFY', 'WUS', 'AG', 'TFL1']\n",
    "      ]\n",
    "\n",
    "# Feedback Vertex Control\n",
    "# (threshold,loops,[control sets])\n",
    "FVS_Objs = [\n",
    "    ('original',49, [['AP3','UFO','LFY','WUS','AG','TFL1','PI']]),\n",
    "    ('0',19, [['AP3','UFO','AP1','LFY','WUS' 'AG','PI'],['AP3','UFO','EMF1','WUS','AG','TFL1','PI'],['AP3','UFO','LFY','WUS','AG','TFL1','PI']]),\n",
    "    ('0.0078125',17,[['AP3', 'UFO', 'AP1', 'LFY', 'WUS', 'PI']]),\n",
    "    ('0.0234375',14,[['AP3', 'UFO', 'AP1', 'LFY', 'WUS', 'PI'],['AP3', 'UFO', 'EMF1', 'WUS', 'TFL1', 'PI'],['AP3', 'UFO', 'LFY', 'WUS', 'TFL1', 'PI']]),\n",
    "    ('0.03125',14,[['AP3', 'UFO', 'AP1', 'LFY', 'WUS', 'PI'],['AP3', 'UFO', 'EMF1', 'WUS', 'TFL1', 'PI'],['AP3', 'UFO', 'LFY', 'WUS', 'TFL1', 'PI']]),\n",
    "    ('0.046875',14,[['AP3', 'UFO', 'AP1', 'LFY', 'WUS', 'PI'],['AP3', 'UFO', 'EMF1', 'WUS', 'TFL1', 'PI'],['AP3', 'UFO', 'LFY', 'WUS', 'TFL1', 'PI']]),\n",
    "    ('0.09375',13,[['AP3', 'UFO', 'AP1', 'LFY', 'WUS'],['AP3', 'UFO', 'EMF1', 'WUS', 'TFL1'],['AP3', 'UFO', 'LFY', 'WUS', 'TFL1']]),\n",
    "    ('0.125',10,[['AP3', 'UFO', 'AP1', 'LFY', 'WUS'],['AP3', 'UFO', 'EMF1', 'WUS', 'TFL1'],['AP3', 'UFO', 'LFY', 'WUS', 'AG'],['AP3', 'UFO', 'LFY', 'WUS', 'TFL1']]),\n",
    "    ('0.140625',8,[['UFO', 'AP1', 'LFY', 'WUS'],['UFO', 'EMF1', 'WUS', 'TFL1'],['UFO', 'LFY', 'WUS', 'AG'],['UFO', 'LFY', 'WUS', 'TFL1']]),\n",
    "    ('0.25',3,[['UFO', 'EMF1', 'WUS', 'TFL1'],['UFO', 'LFY', 'WUS', 'TFL1']]),\n",
    "    ('0.2734375',3,[['UFO', 'EMF1', 'WUS', 'TFL1'],['UFO', 'LFY', 'WUS', 'TFL1']]),\n",
    "    ('0.28125',3,[['UFO', 'EMF1', 'WUS', 'TFL1'],['UFO', 'LFY', 'WUS', 'TFL1']]),\n",
    "    ('0.34375',3,[['UFO', 'EMF1', 'WUS', 'TFL1'],['UFO', 'LFY', 'WUS', 'TFL1']]),\n",
    "    ('0.453125',3,[['AP3', 'UFO', 'EMF1', 'WUS', 'TFL1'],['AP3', 'UFO', 'LFY', 'WUS', 'TFL1']]),\n",
    "    ('0.5',2,[['AP3', 'UFO', 'FUL', 'LFY', 'WUS', 'TFL1']]),\n",
    "    ('0.65625',2,[['AP3', 'UFO', 'FUL', 'LFY', 'WUS', 'TFL1', 'PI']]),\n",
    "    ('0.7265625',2,[['AP3', 'UFO', 'FUL', 'LFY', 'WUS', 'AG', 'TFL1', 'PI']]),\n",
    "    ('0.75',1,[['AP3', 'UFO', 'FUL', 'LFY', 'WUS', 'AG', 'TFL1', 'PI']]),\n",
    "    ('0.875',1,[['AP3', 'UFO', 'FUL', 'AP1', 'LFY', 'WUS', 'AG', 'TFL1', 'PI']])\n",
    "    ]\n",
    "\n",
    "# Sort sets by alphabetical order\n",
    "CSTGs = [sorted(x) for x in CSTGs]\n",
    "PCs = [sorted(x) for x in PCs]\n",
    "FVS_Objs = [(name,loops,[sorted(x) for x in sets]) for (name,loops,sets) in FVS_Objs]"
   ]
  },
  {
   "cell_type": "code",
   "execution_count": 16,
   "metadata": {},
   "outputs": [],
   "source": [
    "def jaccard(u,v):\n",
    "    return len(u.intersection(v)) / len(u.union(v))"
   ]
  },
  {
   "cell_type": "code",
   "execution_count": 17,
   "metadata": {
    "scrolled": true
   },
   "outputs": [
    {
     "data": {
      "text/html": [
       "<h2>PC vs FVS</h2>"
      ],
      "text/plain": [
       "<IPython.core.display.HTML object>"
      ]
     },
     "metadata": {},
     "output_type": "display_data"
    },
    {
     "name": "stdout",
     "output_type": "stream",
     "text": [
      "T: original\n",
      "PC in FVS=0 ; J=0.625 [AG,AP1,AP3,LFY,UFO,WUS <-> AG,AP3,LFY,PI,TFL1,UFO,WUS]\n",
      "PC in FVS=0 ; J=0.625 [AG,AP3,EMF1,TFL1,UFO,WUS <-> AG,AP3,LFY,PI,TFL1,UFO,WUS]\n",
      "PC in FVS=1 ; J=0.857 [AG,AP3,LFY,TFL1,UFO,WUS <-> AG,AP3,LFY,PI,TFL1,UFO,WUS]\n",
      "T: 0\n",
      "PC in FVS=0 ; J=0.500 [AG,AP1,AP3,LFY,UFO,WUS <-> AP1,AP3,LFY,PI,UFO,WUSAG]\n",
      "PC in FVS=0 ; J=0.444 [AG,AP1,AP3,LFY,UFO,WUS <-> AG,AP3,EMF1,PI,TFL1,UFO,WUS]\n",
      "PC in FVS=0 ; J=0.625 [AG,AP1,AP3,LFY,UFO,WUS <-> AG,AP3,LFY,PI,TFL1,UFO,WUS]\n",
      "PC in FVS=0 ; J=0.200 [AG,AP3,EMF1,TFL1,UFO,WUS <-> AP1,AP3,LFY,PI,UFO,WUSAG]\n",
      "PC in FVS=1 ; J=0.857 [AG,AP3,EMF1,TFL1,UFO,WUS <-> AG,AP3,EMF1,PI,TFL1,UFO,WUS]\n",
      "PC in FVS=0 ; J=0.625 [AG,AP3,EMF1,TFL1,UFO,WUS <-> AG,AP3,LFY,PI,TFL1,UFO,WUS]\n",
      "PC in FVS=0 ; J=0.333 [AG,AP3,LFY,TFL1,UFO,WUS <-> AP1,AP3,LFY,PI,UFO,WUSAG]\n",
      "PC in FVS=0 ; J=0.625 [AG,AP3,LFY,TFL1,UFO,WUS <-> AG,AP3,EMF1,PI,TFL1,UFO,WUS]\n",
      "PC in FVS=1 ; J=0.857 [AG,AP3,LFY,TFL1,UFO,WUS <-> AG,AP3,LFY,PI,TFL1,UFO,WUS]\n",
      "T: 0.0078125\n",
      "PC in FVS=0 ; J=0.714 [AG,AP1,AP3,LFY,UFO,WUS <-> AP1,AP3,LFY,PI,UFO,WUS]\n",
      "PC in FVS=0 ; J=0.333 [AG,AP3,EMF1,TFL1,UFO,WUS <-> AP1,AP3,LFY,PI,UFO,WUS]\n",
      "PC in FVS=0 ; J=0.500 [AG,AP3,LFY,TFL1,UFO,WUS <-> AP1,AP3,LFY,PI,UFO,WUS]\n",
      "T: 0.0234375\n",
      "PC in FVS=0 ; J=0.714 [AG,AP1,AP3,LFY,UFO,WUS <-> AP1,AP3,LFY,PI,UFO,WUS]\n",
      "PC in FVS=0 ; J=0.333 [AG,AP1,AP3,LFY,UFO,WUS <-> AP3,EMF1,PI,TFL1,UFO,WUS]\n",
      "PC in FVS=0 ; J=0.500 [AG,AP1,AP3,LFY,UFO,WUS <-> AP3,LFY,PI,TFL1,UFO,WUS]\n",
      "PC in FVS=0 ; J=0.333 [AG,AP3,EMF1,TFL1,UFO,WUS <-> AP1,AP3,LFY,PI,UFO,WUS]\n",
      "PC in FVS=0 ; J=0.714 [AG,AP3,EMF1,TFL1,UFO,WUS <-> AP3,EMF1,PI,TFL1,UFO,WUS]\n",
      "PC in FVS=0 ; J=0.500 [AG,AP3,EMF1,TFL1,UFO,WUS <-> AP3,LFY,PI,TFL1,UFO,WUS]\n",
      "PC in FVS=0 ; J=0.500 [AG,AP3,LFY,TFL1,UFO,WUS <-> AP1,AP3,LFY,PI,UFO,WUS]\n",
      "PC in FVS=0 ; J=0.500 [AG,AP3,LFY,TFL1,UFO,WUS <-> AP3,EMF1,PI,TFL1,UFO,WUS]\n",
      "PC in FVS=0 ; J=0.714 [AG,AP3,LFY,TFL1,UFO,WUS <-> AP3,LFY,PI,TFL1,UFO,WUS]\n",
      "T: 0.03125\n",
      "PC in FVS=0 ; J=0.714 [AG,AP1,AP3,LFY,UFO,WUS <-> AP1,AP3,LFY,PI,UFO,WUS]\n",
      "PC in FVS=0 ; J=0.333 [AG,AP1,AP3,LFY,UFO,WUS <-> AP3,EMF1,PI,TFL1,UFO,WUS]\n",
      "PC in FVS=0 ; J=0.500 [AG,AP1,AP3,LFY,UFO,WUS <-> AP3,LFY,PI,TFL1,UFO,WUS]\n",
      "PC in FVS=0 ; J=0.333 [AG,AP3,EMF1,TFL1,UFO,WUS <-> AP1,AP3,LFY,PI,UFO,WUS]\n",
      "PC in FVS=0 ; J=0.714 [AG,AP3,EMF1,TFL1,UFO,WUS <-> AP3,EMF1,PI,TFL1,UFO,WUS]\n",
      "PC in FVS=0 ; J=0.500 [AG,AP3,EMF1,TFL1,UFO,WUS <-> AP3,LFY,PI,TFL1,UFO,WUS]\n",
      "PC in FVS=0 ; J=0.500 [AG,AP3,LFY,TFL1,UFO,WUS <-> AP1,AP3,LFY,PI,UFO,WUS]\n",
      "PC in FVS=0 ; J=0.500 [AG,AP3,LFY,TFL1,UFO,WUS <-> AP3,EMF1,PI,TFL1,UFO,WUS]\n",
      "PC in FVS=0 ; J=0.714 [AG,AP3,LFY,TFL1,UFO,WUS <-> AP3,LFY,PI,TFL1,UFO,WUS]\n",
      "T: 0.046875\n",
      "PC in FVS=0 ; J=0.714 [AG,AP1,AP3,LFY,UFO,WUS <-> AP1,AP3,LFY,PI,UFO,WUS]\n",
      "PC in FVS=0 ; J=0.333 [AG,AP1,AP3,LFY,UFO,WUS <-> AP3,EMF1,PI,TFL1,UFO,WUS]\n",
      "PC in FVS=0 ; J=0.500 [AG,AP1,AP3,LFY,UFO,WUS <-> AP3,LFY,PI,TFL1,UFO,WUS]\n",
      "PC in FVS=0 ; J=0.333 [AG,AP3,EMF1,TFL1,UFO,WUS <-> AP1,AP3,LFY,PI,UFO,WUS]\n",
      "PC in FVS=0 ; J=0.714 [AG,AP3,EMF1,TFL1,UFO,WUS <-> AP3,EMF1,PI,TFL1,UFO,WUS]\n",
      "PC in FVS=0 ; J=0.500 [AG,AP3,EMF1,TFL1,UFO,WUS <-> AP3,LFY,PI,TFL1,UFO,WUS]\n",
      "PC in FVS=0 ; J=0.500 [AG,AP3,LFY,TFL1,UFO,WUS <-> AP1,AP3,LFY,PI,UFO,WUS]\n",
      "PC in FVS=0 ; J=0.500 [AG,AP3,LFY,TFL1,UFO,WUS <-> AP3,EMF1,PI,TFL1,UFO,WUS]\n",
      "PC in FVS=0 ; J=0.714 [AG,AP3,LFY,TFL1,UFO,WUS <-> AP3,LFY,PI,TFL1,UFO,WUS]\n",
      "T: 0.09375\n",
      "PC in FVS=0 ; J=0.833 [AG,AP1,AP3,LFY,UFO,WUS <-> AP1,AP3,LFY,UFO,WUS]\n",
      "PC in FVS=0 ; J=0.375 [AG,AP1,AP3,LFY,UFO,WUS <-> AP3,EMF1,TFL1,UFO,WUS]\n",
      "PC in FVS=0 ; J=0.571 [AG,AP1,AP3,LFY,UFO,WUS <-> AP3,LFY,TFL1,UFO,WUS]\n",
      "PC in FVS=0 ; J=0.375 [AG,AP3,EMF1,TFL1,UFO,WUS <-> AP1,AP3,LFY,UFO,WUS]\n",
      "PC in FVS=0 ; J=0.833 [AG,AP3,EMF1,TFL1,UFO,WUS <-> AP3,EMF1,TFL1,UFO,WUS]\n",
      "PC in FVS=0 ; J=0.571 [AG,AP3,EMF1,TFL1,UFO,WUS <-> AP3,LFY,TFL1,UFO,WUS]\n",
      "PC in FVS=0 ; J=0.571 [AG,AP3,LFY,TFL1,UFO,WUS <-> AP1,AP3,LFY,UFO,WUS]\n",
      "PC in FVS=0 ; J=0.571 [AG,AP3,LFY,TFL1,UFO,WUS <-> AP3,EMF1,TFL1,UFO,WUS]\n",
      "PC in FVS=0 ; J=0.833 [AG,AP3,LFY,TFL1,UFO,WUS <-> AP3,LFY,TFL1,UFO,WUS]\n",
      "T: 0.125\n",
      "PC in FVS=0 ; J=0.833 [AG,AP1,AP3,LFY,UFO,WUS <-> AP1,AP3,LFY,UFO,WUS]\n",
      "PC in FVS=0 ; J=0.375 [AG,AP1,AP3,LFY,UFO,WUS <-> AP3,EMF1,TFL1,UFO,WUS]\n",
      "PC in FVS=0 ; J=0.833 [AG,AP1,AP3,LFY,UFO,WUS <-> AG,AP3,LFY,UFO,WUS]\n",
      "PC in FVS=0 ; J=0.571 [AG,AP1,AP3,LFY,UFO,WUS <-> AP3,LFY,TFL1,UFO,WUS]\n",
      "PC in FVS=0 ; J=0.375 [AG,AP3,EMF1,TFL1,UFO,WUS <-> AP1,AP3,LFY,UFO,WUS]\n",
      "PC in FVS=0 ; J=0.833 [AG,AP3,EMF1,TFL1,UFO,WUS <-> AP3,EMF1,TFL1,UFO,WUS]\n",
      "PC in FVS=0 ; J=0.571 [AG,AP3,EMF1,TFL1,UFO,WUS <-> AG,AP3,LFY,UFO,WUS]\n",
      "PC in FVS=0 ; J=0.571 [AG,AP3,EMF1,TFL1,UFO,WUS <-> AP3,LFY,TFL1,UFO,WUS]\n",
      "PC in FVS=0 ; J=0.571 [AG,AP3,LFY,TFL1,UFO,WUS <-> AP1,AP3,LFY,UFO,WUS]\n",
      "PC in FVS=0 ; J=0.571 [AG,AP3,LFY,TFL1,UFO,WUS <-> AP3,EMF1,TFL1,UFO,WUS]\n",
      "PC in FVS=0 ; J=0.833 [AG,AP3,LFY,TFL1,UFO,WUS <-> AG,AP3,LFY,UFO,WUS]\n",
      "PC in FVS=0 ; J=0.833 [AG,AP3,LFY,TFL1,UFO,WUS <-> AP3,LFY,TFL1,UFO,WUS]\n",
      "T: 0.140625\n",
      "PC in FVS=0 ; J=0.667 [AG,AP1,AP3,LFY,UFO,WUS <-> AP1,LFY,UFO,WUS]\n",
      "PC in FVS=0 ; J=0.250 [AG,AP1,AP3,LFY,UFO,WUS <-> EMF1,TFL1,UFO,WUS]\n",
      "PC in FVS=0 ; J=0.667 [AG,AP1,AP3,LFY,UFO,WUS <-> AG,LFY,UFO,WUS]\n",
      "PC in FVS=0 ; J=0.429 [AG,AP1,AP3,LFY,UFO,WUS <-> LFY,TFL1,UFO,WUS]\n",
      "PC in FVS=0 ; J=0.250 [AG,AP3,EMF1,TFL1,UFO,WUS <-> AP1,LFY,UFO,WUS]\n",
      "PC in FVS=0 ; J=0.667 [AG,AP3,EMF1,TFL1,UFO,WUS <-> EMF1,TFL1,UFO,WUS]\n",
      "PC in FVS=0 ; J=0.429 [AG,AP3,EMF1,TFL1,UFO,WUS <-> AG,LFY,UFO,WUS]\n",
      "PC in FVS=0 ; J=0.429 [AG,AP3,EMF1,TFL1,UFO,WUS <-> LFY,TFL1,UFO,WUS]\n",
      "PC in FVS=0 ; J=0.429 [AG,AP3,LFY,TFL1,UFO,WUS <-> AP1,LFY,UFO,WUS]\n",
      "PC in FVS=0 ; J=0.429 [AG,AP3,LFY,TFL1,UFO,WUS <-> EMF1,TFL1,UFO,WUS]\n",
      "PC in FVS=0 ; J=0.667 [AG,AP3,LFY,TFL1,UFO,WUS <-> AG,LFY,UFO,WUS]\n",
      "PC in FVS=0 ; J=0.667 [AG,AP3,LFY,TFL1,UFO,WUS <-> LFY,TFL1,UFO,WUS]\n",
      "T: 0.25\n",
      "PC in FVS=0 ; J=0.250 [AG,AP1,AP3,LFY,UFO,WUS <-> EMF1,TFL1,UFO,WUS]\n",
      "PC in FVS=0 ; J=0.429 [AG,AP1,AP3,LFY,UFO,WUS <-> LFY,TFL1,UFO,WUS]\n",
      "PC in FVS=0 ; J=0.667 [AG,AP3,EMF1,TFL1,UFO,WUS <-> EMF1,TFL1,UFO,WUS]\n",
      "PC in FVS=0 ; J=0.429 [AG,AP3,EMF1,TFL1,UFO,WUS <-> LFY,TFL1,UFO,WUS]\n",
      "PC in FVS=0 ; J=0.429 [AG,AP3,LFY,TFL1,UFO,WUS <-> EMF1,TFL1,UFO,WUS]\n",
      "PC in FVS=0 ; J=0.667 [AG,AP3,LFY,TFL1,UFO,WUS <-> LFY,TFL1,UFO,WUS]\n",
      "T: 0.2734375\n",
      "PC in FVS=0 ; J=0.250 [AG,AP1,AP3,LFY,UFO,WUS <-> EMF1,TFL1,UFO,WUS]\n",
      "PC in FVS=0 ; J=0.429 [AG,AP1,AP3,LFY,UFO,WUS <-> LFY,TFL1,UFO,WUS]\n",
      "PC in FVS=0 ; J=0.667 [AG,AP3,EMF1,TFL1,UFO,WUS <-> EMF1,TFL1,UFO,WUS]\n",
      "PC in FVS=0 ; J=0.429 [AG,AP3,EMF1,TFL1,UFO,WUS <-> LFY,TFL1,UFO,WUS]\n",
      "PC in FVS=0 ; J=0.429 [AG,AP3,LFY,TFL1,UFO,WUS <-> EMF1,TFL1,UFO,WUS]\n",
      "PC in FVS=0 ; J=0.667 [AG,AP3,LFY,TFL1,UFO,WUS <-> LFY,TFL1,UFO,WUS]\n",
      "T: 0.28125\n",
      "PC in FVS=0 ; J=0.250 [AG,AP1,AP3,LFY,UFO,WUS <-> EMF1,TFL1,UFO,WUS]\n",
      "PC in FVS=0 ; J=0.429 [AG,AP1,AP3,LFY,UFO,WUS <-> LFY,TFL1,UFO,WUS]\n",
      "PC in FVS=0 ; J=0.667 [AG,AP3,EMF1,TFL1,UFO,WUS <-> EMF1,TFL1,UFO,WUS]\n",
      "PC in FVS=0 ; J=0.429 [AG,AP3,EMF1,TFL1,UFO,WUS <-> LFY,TFL1,UFO,WUS]\n",
      "PC in FVS=0 ; J=0.429 [AG,AP3,LFY,TFL1,UFO,WUS <-> EMF1,TFL1,UFO,WUS]\n",
      "PC in FVS=0 ; J=0.667 [AG,AP3,LFY,TFL1,UFO,WUS <-> LFY,TFL1,UFO,WUS]\n",
      "T: 0.34375\n",
      "PC in FVS=0 ; J=0.250 [AG,AP1,AP3,LFY,UFO,WUS <-> EMF1,TFL1,UFO,WUS]\n",
      "PC in FVS=0 ; J=0.429 [AG,AP1,AP3,LFY,UFO,WUS <-> LFY,TFL1,UFO,WUS]\n",
      "PC in FVS=0 ; J=0.667 [AG,AP3,EMF1,TFL1,UFO,WUS <-> EMF1,TFL1,UFO,WUS]\n",
      "PC in FVS=0 ; J=0.429 [AG,AP3,EMF1,TFL1,UFO,WUS <-> LFY,TFL1,UFO,WUS]\n",
      "PC in FVS=0 ; J=0.429 [AG,AP3,LFY,TFL1,UFO,WUS <-> EMF1,TFL1,UFO,WUS]\n",
      "PC in FVS=0 ; J=0.667 [AG,AP3,LFY,TFL1,UFO,WUS <-> LFY,TFL1,UFO,WUS]\n",
      "T: 0.453125\n",
      "PC in FVS=0 ; J=0.375 [AG,AP1,AP3,LFY,UFO,WUS <-> AP3,EMF1,TFL1,UFO,WUS]\n",
      "PC in FVS=0 ; J=0.571 [AG,AP1,AP3,LFY,UFO,WUS <-> AP3,LFY,TFL1,UFO,WUS]\n",
      "PC in FVS=0 ; J=0.833 [AG,AP3,EMF1,TFL1,UFO,WUS <-> AP3,EMF1,TFL1,UFO,WUS]\n",
      "PC in FVS=0 ; J=0.571 [AG,AP3,EMF1,TFL1,UFO,WUS <-> AP3,LFY,TFL1,UFO,WUS]\n",
      "PC in FVS=0 ; J=0.571 [AG,AP3,LFY,TFL1,UFO,WUS <-> AP3,EMF1,TFL1,UFO,WUS]\n",
      "PC in FVS=0 ; J=0.833 [AG,AP3,LFY,TFL1,UFO,WUS <-> AP3,LFY,TFL1,UFO,WUS]\n",
      "T: 0.5\n",
      "PC in FVS=0 ; J=0.500 [AG,AP1,AP3,LFY,UFO,WUS <-> AP3,FUL,LFY,TFL1,UFO,WUS]\n",
      "PC in FVS=0 ; J=0.500 [AG,AP3,EMF1,TFL1,UFO,WUS <-> AP3,FUL,LFY,TFL1,UFO,WUS]\n",
      "PC in FVS=0 ; J=0.714 [AG,AP3,LFY,TFL1,UFO,WUS <-> AP3,FUL,LFY,TFL1,UFO,WUS]\n",
      "T: 0.65625\n",
      "PC in FVS=0 ; J=0.444 [AG,AP1,AP3,LFY,UFO,WUS <-> AP3,FUL,LFY,PI,TFL1,UFO,WUS]\n",
      "PC in FVS=0 ; J=0.444 [AG,AP3,EMF1,TFL1,UFO,WUS <-> AP3,FUL,LFY,PI,TFL1,UFO,WUS]\n",
      "PC in FVS=0 ; J=0.625 [AG,AP3,LFY,TFL1,UFO,WUS <-> AP3,FUL,LFY,PI,TFL1,UFO,WUS]\n",
      "T: 0.7265625\n",
      "PC in FVS=0 ; J=0.556 [AG,AP1,AP3,LFY,UFO,WUS <-> AG,AP3,FUL,LFY,PI,TFL1,UFO,WUS]\n",
      "PC in FVS=0 ; J=0.556 [AG,AP3,EMF1,TFL1,UFO,WUS <-> AG,AP3,FUL,LFY,PI,TFL1,UFO,WUS]\n",
      "PC in FVS=1 ; J=0.750 [AG,AP3,LFY,TFL1,UFO,WUS <-> AG,AP3,FUL,LFY,PI,TFL1,UFO,WUS]\n",
      "T: 0.75\n",
      "PC in FVS=0 ; J=0.556 [AG,AP1,AP3,LFY,UFO,WUS <-> AG,AP3,FUL,LFY,PI,TFL1,UFO,WUS]\n",
      "PC in FVS=0 ; J=0.556 [AG,AP3,EMF1,TFL1,UFO,WUS <-> AG,AP3,FUL,LFY,PI,TFL1,UFO,WUS]\n",
      "PC in FVS=1 ; J=0.750 [AG,AP3,LFY,TFL1,UFO,WUS <-> AG,AP3,FUL,LFY,PI,TFL1,UFO,WUS]\n",
      "T: 0.875\n",
      "PC in FVS=1 ; J=0.667 [AG,AP1,AP3,LFY,UFO,WUS <-> AG,AP1,AP3,FUL,LFY,PI,TFL1,UFO,WUS]\n",
      "PC in FVS=0 ; J=0.500 [AG,AP3,EMF1,TFL1,UFO,WUS <-> AG,AP1,AP3,FUL,LFY,PI,TFL1,UFO,WUS]\n",
      "PC in FVS=1 ; J=0.667 [AG,AP3,LFY,TFL1,UFO,WUS <-> AG,AP1,AP3,FUL,LFY,PI,TFL1,UFO,WUS]\n"
     ]
    }
   ],
   "source": [
    "display(HTML(\"<h2>PC vs FVS</h2>\"))\n",
    "for FVS_O in FVS_Objs:\n",
    "    print('T: %s' % (FVS_O[0]))\n",
    "    for PC, FVS in product(PCs,FVS_O[2]):\n",
    "        FVSset, PCset = set(FVS), set(PC)\n",
    "        FVSstr, PCstr = ','.join(FVS), ','.join(PC)\n",
    "        inclusion = PCset.issubset(FVSset)\n",
    "        print('PC in FVS=%i ; J=%.3f [%s <-> %s]' % (inclusion, jaccard(PCset,FVSset) , PCstr , FVSstr))\n",
    "    print"
   ]
  },
  {
   "cell_type": "code",
   "execution_count": 18,
   "metadata": {
    "scrolled": true
   },
   "outputs": [
    {
     "data": {
      "text/html": [
       "<h2>CSTG vs FVS</h2>"
      ],
      "text/plain": [
       "<IPython.core.display.HTML object>"
      ]
     },
     "metadata": {},
     "output_type": "display_data"
    },
    {
     "name": "stdout",
     "output_type": "stream",
     "text": [
      "T: original\n",
      "CSTG in FVS=0 ; J=0.444 [AP2,EMF1,LFY,TFL1,UFO,WUS <-> AG,AP3,LFY,PI,TFL1,UFO,WUS]\n",
      "CSTG in FVS=0 ; J=0.625 [AG,EMF1,LFY,TFL1,UFO,WUS <-> AG,AP3,LFY,PI,TFL1,UFO,WUS]\n",
      "T: 0\n",
      "CSTG in FVS=0 ; J=0.200 [AP2,EMF1,LFY,TFL1,UFO,WUS <-> AP1,AP3,LFY,PI,UFO,WUSAG]\n",
      "CSTG in FVS=0 ; J=0.444 [AP2,EMF1,LFY,TFL1,UFO,WUS <-> AG,AP3,EMF1,PI,TFL1,UFO,WUS]\n",
      "CSTG in FVS=0 ; J=0.444 [AP2,EMF1,LFY,TFL1,UFO,WUS <-> AG,AP3,LFY,PI,TFL1,UFO,WUS]\n",
      "CSTG in FVS=0 ; J=0.200 [AG,EMF1,LFY,TFL1,UFO,WUS <-> AP1,AP3,LFY,PI,UFO,WUSAG]\n",
      "CSTG in FVS=0 ; J=0.625 [AG,EMF1,LFY,TFL1,UFO,WUS <-> AG,AP3,EMF1,PI,TFL1,UFO,WUS]\n",
      "CSTG in FVS=0 ; J=0.625 [AG,EMF1,LFY,TFL1,UFO,WUS <-> AG,AP3,LFY,PI,TFL1,UFO,WUS]\n",
      "T: 0.0078125\n",
      "CSTG in FVS=0 ; J=0.333 [AP2,EMF1,LFY,TFL1,UFO,WUS <-> AP1,AP3,LFY,PI,UFO,WUS]\n",
      "CSTG in FVS=0 ; J=0.333 [AG,EMF1,LFY,TFL1,UFO,WUS <-> AP1,AP3,LFY,PI,UFO,WUS]\n",
      "T: 0.0234375\n",
      "CSTG in FVS=0 ; J=0.333 [AP2,EMF1,LFY,TFL1,UFO,WUS <-> AP1,AP3,LFY,PI,UFO,WUS]\n",
      "CSTG in FVS=0 ; J=0.500 [AP2,EMF1,LFY,TFL1,UFO,WUS <-> AP3,EMF1,PI,TFL1,UFO,WUS]\n",
      "CSTG in FVS=0 ; J=0.500 [AP2,EMF1,LFY,TFL1,UFO,WUS <-> AP3,LFY,PI,TFL1,UFO,WUS]\n",
      "CSTG in FVS=0 ; J=0.333 [AG,EMF1,LFY,TFL1,UFO,WUS <-> AP1,AP3,LFY,PI,UFO,WUS]\n",
      "CSTG in FVS=0 ; J=0.500 [AG,EMF1,LFY,TFL1,UFO,WUS <-> AP3,EMF1,PI,TFL1,UFO,WUS]\n",
      "CSTG in FVS=0 ; J=0.500 [AG,EMF1,LFY,TFL1,UFO,WUS <-> AP3,LFY,PI,TFL1,UFO,WUS]\n",
      "T: 0.03125\n",
      "CSTG in FVS=0 ; J=0.333 [AP2,EMF1,LFY,TFL1,UFO,WUS <-> AP1,AP3,LFY,PI,UFO,WUS]\n",
      "CSTG in FVS=0 ; J=0.500 [AP2,EMF1,LFY,TFL1,UFO,WUS <-> AP3,EMF1,PI,TFL1,UFO,WUS]\n",
      "CSTG in FVS=0 ; J=0.500 [AP2,EMF1,LFY,TFL1,UFO,WUS <-> AP3,LFY,PI,TFL1,UFO,WUS]\n",
      "CSTG in FVS=0 ; J=0.333 [AG,EMF1,LFY,TFL1,UFO,WUS <-> AP1,AP3,LFY,PI,UFO,WUS]\n",
      "CSTG in FVS=0 ; J=0.500 [AG,EMF1,LFY,TFL1,UFO,WUS <-> AP3,EMF1,PI,TFL1,UFO,WUS]\n",
      "CSTG in FVS=0 ; J=0.500 [AG,EMF1,LFY,TFL1,UFO,WUS <-> AP3,LFY,PI,TFL1,UFO,WUS]\n",
      "T: 0.046875\n",
      "CSTG in FVS=0 ; J=0.333 [AP2,EMF1,LFY,TFL1,UFO,WUS <-> AP1,AP3,LFY,PI,UFO,WUS]\n",
      "CSTG in FVS=0 ; J=0.500 [AP2,EMF1,LFY,TFL1,UFO,WUS <-> AP3,EMF1,PI,TFL1,UFO,WUS]\n",
      "CSTG in FVS=0 ; J=0.500 [AP2,EMF1,LFY,TFL1,UFO,WUS <-> AP3,LFY,PI,TFL1,UFO,WUS]\n",
      "CSTG in FVS=0 ; J=0.333 [AG,EMF1,LFY,TFL1,UFO,WUS <-> AP1,AP3,LFY,PI,UFO,WUS]\n",
      "CSTG in FVS=0 ; J=0.500 [AG,EMF1,LFY,TFL1,UFO,WUS <-> AP3,EMF1,PI,TFL1,UFO,WUS]\n",
      "CSTG in FVS=0 ; J=0.500 [AG,EMF1,LFY,TFL1,UFO,WUS <-> AP3,LFY,PI,TFL1,UFO,WUS]\n",
      "T: 0.09375\n",
      "CSTG in FVS=0 ; J=0.375 [AP2,EMF1,LFY,TFL1,UFO,WUS <-> AP1,AP3,LFY,UFO,WUS]\n",
      "CSTG in FVS=0 ; J=0.571 [AP2,EMF1,LFY,TFL1,UFO,WUS <-> AP3,EMF1,TFL1,UFO,WUS]\n",
      "CSTG in FVS=0 ; J=0.571 [AP2,EMF1,LFY,TFL1,UFO,WUS <-> AP3,LFY,TFL1,UFO,WUS]\n",
      "CSTG in FVS=0 ; J=0.375 [AG,EMF1,LFY,TFL1,UFO,WUS <-> AP1,AP3,LFY,UFO,WUS]\n",
      "CSTG in FVS=0 ; J=0.571 [AG,EMF1,LFY,TFL1,UFO,WUS <-> AP3,EMF1,TFL1,UFO,WUS]\n",
      "CSTG in FVS=0 ; J=0.571 [AG,EMF1,LFY,TFL1,UFO,WUS <-> AP3,LFY,TFL1,UFO,WUS]\n",
      "T: 0.125\n",
      "CSTG in FVS=0 ; J=0.375 [AP2,EMF1,LFY,TFL1,UFO,WUS <-> AP1,AP3,LFY,UFO,WUS]\n",
      "CSTG in FVS=0 ; J=0.571 [AP2,EMF1,LFY,TFL1,UFO,WUS <-> AP3,EMF1,TFL1,UFO,WUS]\n",
      "CSTG in FVS=0 ; J=0.375 [AP2,EMF1,LFY,TFL1,UFO,WUS <-> AG,AP3,LFY,UFO,WUS]\n",
      "CSTG in FVS=0 ; J=0.571 [AP2,EMF1,LFY,TFL1,UFO,WUS <-> AP3,LFY,TFL1,UFO,WUS]\n",
      "CSTG in FVS=0 ; J=0.375 [AG,EMF1,LFY,TFL1,UFO,WUS <-> AP1,AP3,LFY,UFO,WUS]\n",
      "CSTG in FVS=0 ; J=0.571 [AG,EMF1,LFY,TFL1,UFO,WUS <-> AP3,EMF1,TFL1,UFO,WUS]\n",
      "CSTG in FVS=0 ; J=0.571 [AG,EMF1,LFY,TFL1,UFO,WUS <-> AG,AP3,LFY,UFO,WUS]\n",
      "CSTG in FVS=0 ; J=0.571 [AG,EMF1,LFY,TFL1,UFO,WUS <-> AP3,LFY,TFL1,UFO,WUS]\n",
      "T: 0.140625\n",
      "CSTG in FVS=0 ; J=0.429 [AP2,EMF1,LFY,TFL1,UFO,WUS <-> AP1,LFY,UFO,WUS]\n",
      "CSTG in FVS=0 ; J=0.667 [AP2,EMF1,LFY,TFL1,UFO,WUS <-> EMF1,TFL1,UFO,WUS]\n",
      "CSTG in FVS=0 ; J=0.429 [AP2,EMF1,LFY,TFL1,UFO,WUS <-> AG,LFY,UFO,WUS]\n",
      "CSTG in FVS=0 ; J=0.667 [AP2,EMF1,LFY,TFL1,UFO,WUS <-> LFY,TFL1,UFO,WUS]\n",
      "CSTG in FVS=0 ; J=0.429 [AG,EMF1,LFY,TFL1,UFO,WUS <-> AP1,LFY,UFO,WUS]\n",
      "CSTG in FVS=0 ; J=0.667 [AG,EMF1,LFY,TFL1,UFO,WUS <-> EMF1,TFL1,UFO,WUS]\n",
      "CSTG in FVS=0 ; J=0.667 [AG,EMF1,LFY,TFL1,UFO,WUS <-> AG,LFY,UFO,WUS]\n",
      "CSTG in FVS=0 ; J=0.667 [AG,EMF1,LFY,TFL1,UFO,WUS <-> LFY,TFL1,UFO,WUS]\n",
      "T: 0.25\n",
      "CSTG in FVS=0 ; J=0.667 [AP2,EMF1,LFY,TFL1,UFO,WUS <-> EMF1,TFL1,UFO,WUS]\n",
      "CSTG in FVS=0 ; J=0.667 [AP2,EMF1,LFY,TFL1,UFO,WUS <-> LFY,TFL1,UFO,WUS]\n",
      "CSTG in FVS=0 ; J=0.667 [AG,EMF1,LFY,TFL1,UFO,WUS <-> EMF1,TFL1,UFO,WUS]\n",
      "CSTG in FVS=0 ; J=0.667 [AG,EMF1,LFY,TFL1,UFO,WUS <-> LFY,TFL1,UFO,WUS]\n",
      "T: 0.2734375\n",
      "CSTG in FVS=0 ; J=0.667 [AP2,EMF1,LFY,TFL1,UFO,WUS <-> EMF1,TFL1,UFO,WUS]\n",
      "CSTG in FVS=0 ; J=0.667 [AP2,EMF1,LFY,TFL1,UFO,WUS <-> LFY,TFL1,UFO,WUS]\n",
      "CSTG in FVS=0 ; J=0.667 [AG,EMF1,LFY,TFL1,UFO,WUS <-> EMF1,TFL1,UFO,WUS]\n",
      "CSTG in FVS=0 ; J=0.667 [AG,EMF1,LFY,TFL1,UFO,WUS <-> LFY,TFL1,UFO,WUS]\n",
      "T: 0.28125\n",
      "CSTG in FVS=0 ; J=0.667 [AP2,EMF1,LFY,TFL1,UFO,WUS <-> EMF1,TFL1,UFO,WUS]\n",
      "CSTG in FVS=0 ; J=0.667 [AP2,EMF1,LFY,TFL1,UFO,WUS <-> LFY,TFL1,UFO,WUS]\n",
      "CSTG in FVS=0 ; J=0.667 [AG,EMF1,LFY,TFL1,UFO,WUS <-> EMF1,TFL1,UFO,WUS]\n",
      "CSTG in FVS=0 ; J=0.667 [AG,EMF1,LFY,TFL1,UFO,WUS <-> LFY,TFL1,UFO,WUS]\n",
      "T: 0.34375\n",
      "CSTG in FVS=0 ; J=0.667 [AP2,EMF1,LFY,TFL1,UFO,WUS <-> EMF1,TFL1,UFO,WUS]\n",
      "CSTG in FVS=0 ; J=0.667 [AP2,EMF1,LFY,TFL1,UFO,WUS <-> LFY,TFL1,UFO,WUS]\n",
      "CSTG in FVS=0 ; J=0.667 [AG,EMF1,LFY,TFL1,UFO,WUS <-> EMF1,TFL1,UFO,WUS]\n",
      "CSTG in FVS=0 ; J=0.667 [AG,EMF1,LFY,TFL1,UFO,WUS <-> LFY,TFL1,UFO,WUS]\n",
      "T: 0.453125\n",
      "CSTG in FVS=0 ; J=0.571 [AP2,EMF1,LFY,TFL1,UFO,WUS <-> AP3,EMF1,TFL1,UFO,WUS]\n",
      "CSTG in FVS=0 ; J=0.571 [AP2,EMF1,LFY,TFL1,UFO,WUS <-> AP3,LFY,TFL1,UFO,WUS]\n",
      "CSTG in FVS=0 ; J=0.571 [AG,EMF1,LFY,TFL1,UFO,WUS <-> AP3,EMF1,TFL1,UFO,WUS]\n",
      "CSTG in FVS=0 ; J=0.571 [AG,EMF1,LFY,TFL1,UFO,WUS <-> AP3,LFY,TFL1,UFO,WUS]\n",
      "T: 0.5\n",
      "CSTG in FVS=0 ; J=0.500 [AP2,EMF1,LFY,TFL1,UFO,WUS <-> AP3,FUL,LFY,TFL1,UFO,WUS]\n",
      "CSTG in FVS=0 ; J=0.500 [AG,EMF1,LFY,TFL1,UFO,WUS <-> AP3,FUL,LFY,TFL1,UFO,WUS]\n",
      "T: 0.65625\n",
      "CSTG in FVS=0 ; J=0.444 [AP2,EMF1,LFY,TFL1,UFO,WUS <-> AP3,FUL,LFY,PI,TFL1,UFO,WUS]\n",
      "CSTG in FVS=0 ; J=0.444 [AG,EMF1,LFY,TFL1,UFO,WUS <-> AP3,FUL,LFY,PI,TFL1,UFO,WUS]\n",
      "T: 0.7265625\n",
      "CSTG in FVS=0 ; J=0.400 [AP2,EMF1,LFY,TFL1,UFO,WUS <-> AG,AP3,FUL,LFY,PI,TFL1,UFO,WUS]\n",
      "CSTG in FVS=0 ; J=0.556 [AG,EMF1,LFY,TFL1,UFO,WUS <-> AG,AP3,FUL,LFY,PI,TFL1,UFO,WUS]\n",
      "T: 0.75\n",
      "CSTG in FVS=0 ; J=0.400 [AP2,EMF1,LFY,TFL1,UFO,WUS <-> AG,AP3,FUL,LFY,PI,TFL1,UFO,WUS]\n",
      "CSTG in FVS=0 ; J=0.556 [AG,EMF1,LFY,TFL1,UFO,WUS <-> AG,AP3,FUL,LFY,PI,TFL1,UFO,WUS]\n",
      "T: 0.875\n",
      "CSTG in FVS=0 ; J=0.364 [AP2,EMF1,LFY,TFL1,UFO,WUS <-> AG,AP1,AP3,FUL,LFY,PI,TFL1,UFO,WUS]\n",
      "CSTG in FVS=0 ; J=0.500 [AG,EMF1,LFY,TFL1,UFO,WUS <-> AG,AP1,AP3,FUL,LFY,PI,TFL1,UFO,WUS]\n"
     ]
    }
   ],
   "source": [
    "display(HTML(\"<h2>CSTG vs FVS</h2>\"))\n",
    "for FVS_O in FVS_Objs:\n",
    "    print('T: %s' % (FVS_O[0]))\n",
    "    for CSTG, FVS in product(CSTGs,FVS_O[2]):\n",
    "        FVSset, CSTGset = set(FVS), set(CSTG)\n",
    "        FVSstr, CSTGstr = ','.join(FVS), ','.join(CSTG)\n",
    "        inclusion = CSTGset.issubset(FVSset)\n",
    "        print('CSTG in FVS=%i ; J=%.3f [%s <-> %s]' % (inclusion, jaccard(CSTGset,FVSset) , CSTGstr , FVSstr))\n",
    "    print"
   ]
  },
  {
   "cell_type": "code",
   "execution_count": null,
   "metadata": {
    "collapsed": true
   },
   "outputs": [],
   "source": []
  }
 ],
 "metadata": {
  "kernelspec": {
   "display_name": "Python 3",
   "language": "python",
   "name": "python3"
  },
  "language_info": {
   "codemirror_mode": {
    "name": "ipython",
    "version": 3
   },
   "file_extension": ".py",
   "mimetype": "text/x-python",
   "name": "python",
   "nbconvert_exporter": "python",
   "pygments_lexer": "ipython3",
   "version": "3.7.7"
  }
 },
 "nbformat": 4,
 "nbformat_minor": 2
}
