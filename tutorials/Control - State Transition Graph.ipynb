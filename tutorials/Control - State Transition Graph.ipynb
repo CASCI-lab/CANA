{
 "cells": [
  {
   "cell_type": "markdown",
   "metadata": {},
   "source": [
    "# Plots the State Transition Graph"
   ]
  },
  {
   "cell_type": "markdown",
   "metadata": {},
   "source": [
    "Plots STG for a couple of boolean networks. Note that for large networks the STG can be very large."
   ]
  },
  {
   "cell_type": "code",
   "execution_count": 7,
   "metadata": {},
   "outputs": [],
   "source": [
    "%matplotlib inline"
   ]
  },
  {
   "cell_type": "code",
   "execution_count": 8,
   "metadata": {},
   "outputs": [],
   "source": [
    "import networkx as nx\n",
    "import graphviz\n",
    "import matplotlib.pyplot as plt\n",
    "import sys\n",
    "sys.path.append('..')\n",
    "#\n",
    "import cana\n",
    "from cana.datasets.bio import MARQUESPITA"
   ]
  },
  {
   "cell_type": "code",
   "execution_count": 9,
   "metadata": {},
   "outputs": [
    {
     "name": "stdout",
     "output_type": "stream",
     "text": [
      "<BNetwork(name='Marques-Pita & Rocha', N=7, Nodes=['One', 'Two', 'Three', 'Four', 'Five', 'Six', 'Seven'])>\n",
      "<BNode(id=0, name='One', k=0, inputs=[], state='1', outputs=[1] constant=True)>\n",
      "<BNode(id=1, name='Two', k=0, inputs=[], state='1', outputs=[1] constant=True)>\n",
      "<BNode(id=2, name='Three', k=0, inputs=[], state='1', outputs=[1] constant=True)>\n",
      "<BNode(id=3, name='Four', k=0, inputs=[], state='1', outputs=[1] constant=True)>\n",
      "<BNode(id=4, name='Five', k=0, inputs=[], state='1', outputs=[1] constant=True)>\n",
      "<BNode(id=5, name='Six', k=0, inputs=[], state='1', outputs=[1] constant=True)>\n",
      "<BNode(id=6, name='Seven', k=6, inputs=[0,1,2,3,4,5], state='0', outputs=[0,0,0,0...0,0,0,0] constant=False)>\n"
     ]
    }
   ],
   "source": [
    "N = MARQUESPITA()\n",
    "print(N)\n",
    "for node in N.nodes:\n",
    "    print(node)"
   ]
  },
  {
   "cell_type": "code",
   "execution_count": 10,
   "metadata": {
    "scrolled": true
   },
   "outputs": [
    {
     "name": "stdout",
     "output_type": "stream",
     "text": [
      "[(0, {'label': '1111110'}), (1, {'label': '1111111'})]\n",
      "STG: [[0]]\n"
     ]
    },
    {
     "ename": "PermissionError",
     "evalue": "[Errno 13] Permission denied: 'C:\\\\Users\\\\Srikanth\\\\AppData\\\\Local\\\\Temp\\\\tmp0fz77noa'",
     "output_type": "error",
     "traceback": [
      "\u001b[1;31m---------------------------------------------------------------------------\u001b[0m",
      "\u001b[1;31mPermissionError\u001b[0m                           Traceback (most recent call last)",
      "Cell \u001b[1;32mIn[10], line 5\u001b[0m\n\u001b[0;32m      3\u001b[0m attractors \u001b[38;5;241m=\u001b[39m N\u001b[38;5;241m.\u001b[39mattractors(mode\u001b[38;5;241m=\u001b[39m\u001b[38;5;124m'\u001b[39m\u001b[38;5;124mstg\u001b[39m\u001b[38;5;124m'\u001b[39m)\n\u001b[0;32m      4\u001b[0m \u001b[38;5;28mprint\u001b[39m(\u001b[38;5;124m'\u001b[39m\u001b[38;5;124mSTG: \u001b[39m\u001b[38;5;132;01m%s\u001b[39;00m\u001b[38;5;124m'\u001b[39m \u001b[38;5;241m%\u001b[39m (attractors))\n\u001b[1;32m----> 5\u001b[0m attractors_ \u001b[38;5;241m=\u001b[39m \u001b[43mN\u001b[49m\u001b[38;5;241;43m.\u001b[39;49m\u001b[43mattractors\u001b[49m\u001b[43m(\u001b[49m\u001b[43mmode\u001b[49m\u001b[38;5;241;43m=\u001b[39;49m\u001b[38;5;124;43m'\u001b[39;49m\u001b[38;5;124;43mbns\u001b[39;49m\u001b[38;5;124;43m'\u001b[39;49m\u001b[43m)\u001b[49m\n\u001b[0;32m      6\u001b[0m \u001b[38;5;28mprint\u001b[39m(\u001b[38;5;124m'\u001b[39m\u001b[38;5;124mBNS: \u001b[39m\u001b[38;5;132;01m%s\u001b[39;00m\u001b[38;5;124m'\u001b[39m \u001b[38;5;241m%\u001b[39m (attractors_))\n",
      "File \u001b[1;32mc:\\Users\\Srikanth\\OneDrive\\Documents\\GitHub\\CANA CLONE\\CANA\\tutorials\\..\\cana\\boolean_network.py:894\u001b[0m, in \u001b[0;36mBooleanNetwork.attractors\u001b[1;34m(self, mode)\u001b[0m\n\u001b[0;32m    891\u001b[0m     \u001b[38;5;28mself\u001b[39m\u001b[38;5;241m.\u001b[39m_attractors \u001b[38;5;241m=\u001b[39m [\u001b[38;5;28mlist\u001b[39m(a) \u001b[38;5;28;01mfor\u001b[39;00m a \u001b[38;5;129;01min\u001b[39;00m nx\u001b[38;5;241m.\u001b[39mattracting_components(\u001b[38;5;28mself\u001b[39m\u001b[38;5;241m.\u001b[39m_stg)]\n\u001b[0;32m    893\u001b[0m \u001b[38;5;28;01melif\u001b[39;00m mode \u001b[38;5;241m==\u001b[39m \u001b[38;5;124m\"\u001b[39m\u001b[38;5;124mbns\u001b[39m\u001b[38;5;124m\"\u001b[39m:\n\u001b[1;32m--> 894\u001b[0m     \u001b[38;5;28mself\u001b[39m\u001b[38;5;241m.\u001b[39m_attractors \u001b[38;5;241m=\u001b[39m \u001b[43mbns\u001b[49m\u001b[38;5;241;43m.\u001b[39;49m\u001b[43mattractors\u001b[49m\u001b[43m(\u001b[49m\n\u001b[0;32m    895\u001b[0m \u001b[43m        \u001b[49m\u001b[38;5;28;43mself\u001b[39;49m\u001b[38;5;241;43m.\u001b[39;49m\u001b[43mto_cnet\u001b[49m\u001b[43m(\u001b[49m\u001b[43mfile\u001b[49m\u001b[38;5;241;43m=\u001b[39;49m\u001b[38;5;28;43;01mNone\u001b[39;49;00m\u001b[43m,\u001b[49m\u001b[43m \u001b[49m\u001b[43madjust_no_input\u001b[49m\u001b[38;5;241;43m=\u001b[39;49m\u001b[38;5;28;43;01mFalse\u001b[39;49;00m\u001b[43m)\u001b[49m\n\u001b[0;32m    896\u001b[0m \u001b[43m    \u001b[49m\u001b[43m)\u001b[49m\n\u001b[0;32m    897\u001b[0m \u001b[38;5;28;01melse\u001b[39;00m:\n\u001b[0;32m    898\u001b[0m     \u001b[38;5;28;01mraise\u001b[39;00m \u001b[38;5;167;01mAttributeError\u001b[39;00m(\n\u001b[0;32m    899\u001b[0m         \u001b[38;5;124m\"\u001b[39m\u001b[38;5;124mCould not find the specified mode. Try \u001b[39m\u001b[38;5;124m'\u001b[39m\u001b[38;5;124mstg\u001b[39m\u001b[38;5;124m'\u001b[39m\u001b[38;5;124m or \u001b[39m\u001b[38;5;124m'\u001b[39m\u001b[38;5;124mbns\u001b[39m\u001b[38;5;124m'\u001b[39m\u001b[38;5;124m.\u001b[39m\u001b[38;5;124m\"\u001b[39m\n\u001b[0;32m    900\u001b[0m     )\n",
      "File \u001b[1;32mc:\\Users\\Srikanth\\OneDrive\\Documents\\GitHub\\CANA CLONE\\CANA\\tutorials\\..\\cana\\bns\\__init__.py:57\u001b[0m, in \u001b[0;36mattractors\u001b[1;34m(cnet, bnspath, cleanup)\u001b[0m\n\u001b[0;32m     55\u001b[0m \u001b[38;5;28;01melif\u001b[39;00m \u001b[38;5;28misinstance\u001b[39m(cnet, \u001b[38;5;28mstr\u001b[39m):\n\u001b[0;32m     56\u001b[0m     tmp \u001b[38;5;241m=\u001b[39m tempfile\u001b[38;5;241m.\u001b[39mNamedTemporaryFile(delete\u001b[38;5;241m=\u001b[39mcleanup)\n\u001b[1;32m---> 57\u001b[0m     \u001b[38;5;28;01mwith\u001b[39;00m \u001b[38;5;28;43mopen\u001b[39;49m\u001b[43m(\u001b[49m\u001b[43mtmp\u001b[49m\u001b[38;5;241;43m.\u001b[39;49m\u001b[43mname\u001b[49m\u001b[43m,\u001b[49m\u001b[43m \u001b[49m\u001b[38;5;124;43m\"\u001b[39;49m\u001b[38;5;124;43mw\u001b[39;49m\u001b[38;5;124;43m\"\u001b[39;49m\u001b[43m)\u001b[49m \u001b[38;5;28;01mas\u001b[39;00m openfile:\n\u001b[0;32m     58\u001b[0m         openfile\u001b[38;5;241m.\u001b[39mwrite(cnet)\n\u001b[0;32m     59\u001b[0m     tmp\u001b[38;5;241m.\u001b[39mfile\u001b[38;5;241m.\u001b[39mclose()\n",
      "\u001b[1;31mPermissionError\u001b[0m: [Errno 13] Permission denied: 'C:\\\\Users\\\\Srikanth\\\\AppData\\\\Local\\\\Temp\\\\tmp0fz77noa'"
     ]
    }
   ],
   "source": [
    "STG = N.state_transition_graph()\n",
    "print(STG.nodes(data=True))\n",
    "attractors = N.attractors(mode='stg')\n",
    "print('STG: %s' % (attractors))\n",
    "attractors_ = N.attractors(mode='bns')\n",
    "print('BNS: %s' % (attractors_))"
   ]
  },
  {
   "cell_type": "code",
   "execution_count": 11,
   "metadata": {
    "scrolled": false
   },
   "outputs": [
    {
     "name": "stdout",
     "output_type": "stream",
     "text": [
      "Nodes: 2 | Edges: 2\n"
     ]
    },
    {
     "data": {
      "image/svg+xml": [
       "<?xml version=\"1.0\" encoding=\"UTF-8\" standalone=\"no\"?>\n",
       "<!DOCTYPE svg PUBLIC \"-//W3C//DTD SVG 1.1//EN\"\n",
       " \"http://www.w3.org/Graphics/SVG/1.1/DTD/svg11.dtd\">\n",
       "<!-- Generated by graphviz version 11.0.0 (20240428.1522)\n",
       " -->\n",
       "<!-- Title: State Transition Graph Pages: 1 -->\n",
       "<svg width=\"78pt\" height=\"90pt\"\n",
       " viewBox=\"0.00 0.00 77.60 89.88\" xmlns=\"http://www.w3.org/2000/svg\" xmlns:xlink=\"http://www.w3.org/1999/xlink\">\n",
       "<g id=\"graph0\" class=\"graph\" transform=\"scale(1 1) rotate(0) translate(4 85.88)\">\n",
       "<title>State Transition Graph</title>\n",
       "<polygon fill=\"white\" stroke=\"none\" points=\"-4,4 -4,-85.88 73.6,-85.88 73.6,4 -4,4\"/>\n",
       "<!-- 0 -->\n",
       "<g id=\"node1\" class=\"node\">\n",
       "<title>0</title>\n",
       "<ellipse fill=\"#24442b\" stroke=\"#488957\" stroke-width=\"3\" cx=\"21.6\" cy=\"-21.6\" rx=\"21.6\" ry=\"21.6\"/>\n",
       "<text text-anchor=\"middle\" x=\"21.6\" y=\"-18.67\" font-family=\"Helvetica,sans-Serif\" font-size=\"9.00\" fill=\"white\">1111110</text>\n",
       "</g>\n",
       "<!-- 0&#45;&gt;0 -->\n",
       "<g id=\"edge1\" class=\"edge\">\n",
       "<title>0&#45;&gt;0</title>\n",
       "<path fill=\"none\" stroke=\"#545454\" d=\"M43.59,-28.27C53.08,-28.82 61.2,-26.59 61.2,-21.6 61.2,-17 54.3,-14.75 45.79,-14.85\"/>\n",
       "<polygon fill=\"#545454\" stroke=\"#545454\" points=\"46.09,-14.49 45.1,-14.88 46.11,-15.19 46.09,-14.49\"/>\n",
       "</g>\n",
       "<!-- 1 -->\n",
       "<g id=\"node2\" class=\"node\">\n",
       "<title>1</title>\n",
       "<ellipse fill=\"#24442b\" stroke=\"#488957\" cx=\"66\" cy=\"-78.28\" rx=\"3.6\" ry=\"3.6\"/>\n",
       "</g>\n",
       "<!-- 1&#45;&gt;0 -->\n",
       "<g id=\"edge2\" class=\"edge\">\n",
       "<title>1&#45;&gt;0</title>\n",
       "<path fill=\"none\" stroke=\"#545454\" d=\"M63.61,-75.23C58.67,-68.92 46.95,-53.96 37.14,-41.44\"/>\n",
       "<polygon fill=\"#545454\" stroke=\"#545454\" points=\"37.54,-41.37 36.64,-40.8 36.98,-41.81 37.54,-41.37\"/>\n",
       "</g>\n",
       "</g>\n",
       "</svg>\n"
      ],
      "text/plain": [
       "<graphviz.graphs.Digraph at 0x125a5b33190>"
      ]
     },
     "metadata": {},
     "output_type": "display_data"
    }
   ],
   "source": [
    "# Draw the State Transition Graph\n",
    "G = graphviz.Digraph(name='State Transition Graph', engine='neato')\n",
    "G.attr('graph', concentrate='true', simplify='true', overlap='true')\n",
    "G.attr('node', shape='circle', fixedsize='true', width='.4', color='#488957', style='filled', fillcolor='#24442b', penwidth='3', fontname='Helvetica', fontcolor='white',fontsize='9')\n",
    "G.attr('edge', arrowhead='normal', arrowsize='.1', color='#545454')\n",
    "\n",
    "for node,d in STG.nodes(data=True):\n",
    "    if any(node in attractor for attractor in attractors): #node in attractors:\n",
    "        label = d['label']\n",
    "        width = '0.6'\n",
    "        penwidth = '3'\n",
    "    else:\n",
    "        label = ''\n",
    "        width = '0.1'\n",
    "        penwidth = '1'\n",
    "    G.node(name=str(node), label=label, width=width, penwidth=penwidth)\n",
    "for s, t, d in STG.edges(data=True):\n",
    "    G.edge(str(s),str(t))\n",
    "print('Nodes: %d | Edges: %d' % (len(STG.nodes()) , len(STG.edges()) ))\n",
    "display(G)"
   ]
  },
  {
   "cell_type": "code",
   "execution_count": null,
   "metadata": {},
   "outputs": [],
   "source": []
  }
 ],
 "metadata": {
  "kernelspec": {
   "display_name": "Python 3",
   "language": "python",
   "name": "python3"
  },
  "language_info": {
   "codemirror_mode": {
    "name": "ipython",
    "version": 3
   },
   "file_extension": ".py",
   "mimetype": "text/x-python",
   "name": "python",
   "nbconvert_exporter": "python",
   "pygments_lexer": "ipython3",
   "version": "3.11.8"
  }
 },
 "nbformat": 4,
 "nbformat_minor": 1
}
