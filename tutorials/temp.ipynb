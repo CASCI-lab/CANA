{
 "cells": [
  {
   "cell_type": "code",
   "execution_count": 1,
   "metadata": {},
   "outputs": [],
   "source": [
    "import sys\n",
    "# sys.path.insert(0,r'C:\\Users\\Srikanth\\OneDrive\\Documents\\GitHub\\CANA_CLONE\\CANA')\n",
    "# sys.path.append(r' ')\n",
    "# sys.path.insert(0,r'C:\\\\Users\\\\Srikanth\\\\OneDrive\\\\Documents\\\\GitHub\\\\CANA_CLONE\\\\CANA')\n",
    "\n",
    "import numpy as np\n",
    "import matplotlib.pyplot as plt\n",
    "from matplotlib.text import Text\n",
    "from matplotlib.patches import Circle, Rectangle, RegularPolygon\n",
    "from matplotlib.collections import PatchCollection\n",
    "from copy import copy\n",
    "import sys\n",
    "import schematodes\n",
    "import pandas as pd\n",
    "\n",
    "# sys.path.insert(0, '')\n",
    "# sys.path.append('')R'C:\\Users\\Srikanth\\OneDrive\\Documents\\GitHub\\CANA_CLONE\\CANA')\n",
    "# sys.path.insert(0, r' ')"
   ]
  },
  {
   "cell_type": "code",
   "execution_count": 2,
   "metadata": {},
   "outputs": [
    {
     "name": "stdout",
     "output_type": "stream",
     "text": [
      "c:\\Users\\Srikanth\\OneDrive\\Documents\\GitHub\\CANA_CLONE\\CANA\n"
     ]
    }
   ],
   "source": [
    "import os\n",
    "\n",
    "current_directory = os.getcwd()\n",
    "parent_directory = os.path.dirname(current_directory)\n",
    "os.chdir(parent_directory)\n",
    "\n",
    "print(os.getcwd())"
   ]
  },
  {
   "cell_type": "code",
   "execution_count": 4,
   "metadata": {},
   "outputs": [
    {
     "ename": "ModuleNotFoundError",
     "evalue": "No module named 'cana.cutils'",
     "output_type": "error",
     "traceback": [
      "\u001b[1;31m---------------------------------------------------------------------------\u001b[0m",
      "\u001b[1;31mModuleNotFoundError\u001b[0m                       Traceback (most recent call last)",
      "Cell \u001b[1;32mIn[4], line 3\u001b[0m\n\u001b[0;32m      1\u001b[0m \u001b[38;5;66;03m# from cana.cutils import binstate_to_statenum, flip_binstate_bit, statenum_to_binstate\u001b[39;00m\n\u001b[0;32m      2\u001b[0m \u001b[38;5;66;03m# from cana.datasets.bio import TEMPY\u001b[39;00m\n\u001b[1;32m----> 3\u001b[0m \u001b[38;5;28;01mfrom\u001b[39;00m \u001b[38;5;21;01mcana\u001b[39;00m\u001b[38;5;21;01m.\u001b[39;00m\u001b[38;5;21;01mdatasets\u001b[39;00m\u001b[38;5;21;01m.\u001b[39;00m\u001b[38;5;21;01mbio\u001b[39;00m \u001b[38;5;28;01mimport\u001b[39;00m THALIANA, DROSOPHILA, BUDDING_YEAST, MARQUESPITA, LEUKEMIA, BREAST_CANCER\n\u001b[0;32m      5\u001b[0m \u001b[38;5;28;01mfrom\u001b[39;00m \u001b[38;5;21;01mcana\u001b[39;00m\u001b[38;5;21;01m.\u001b[39;00m\u001b[38;5;21;01mboolean_network\u001b[39;00m \u001b[38;5;28;01mimport\u001b[39;00m BooleanNetwork\n\u001b[0;32m      6\u001b[0m \u001b[38;5;28;01mfrom\u001b[39;00m \u001b[38;5;21;01mcana\u001b[39;00m\u001b[38;5;21;01m.\u001b[39;00m\u001b[38;5;21;01mboolean_node\u001b[39;00m \u001b[38;5;28;01mimport\u001b[39;00m BooleanNode\n",
      "File \u001b[1;32mc:\\Users\\Srikanth\\OneDrive\\Documents\\GitHub\\CANA_CLONE\\CANA\\cana\\datasets\\bio.py:19\u001b[0m\n\u001b[0;32m     10\u001b[0m \u001b[38;5;66;03m#   Copyright (C) 2021 by\u001b[39;00m\n\u001b[0;32m     11\u001b[0m \u001b[38;5;66;03m#   Alex Gates <ajgates42@gmail.com>\u001b[39;00m\n\u001b[0;32m     12\u001b[0m \u001b[38;5;66;03m#   Rion Brattig Correia <rionbr@gmail.com>\u001b[39;00m\n\u001b[1;32m   (...)\u001b[0m\n\u001b[0;32m     15\u001b[0m \u001b[38;5;66;03m#   All rights reserved.\u001b[39;00m\n\u001b[0;32m     16\u001b[0m \u001b[38;5;66;03m#   MIT license.\u001b[39;00m\n\u001b[0;32m     17\u001b[0m \u001b[38;5;28;01mimport\u001b[39;00m \u001b[38;5;21;01mos\u001b[39;00m\n\u001b[1;32m---> 19\u001b[0m \u001b[38;5;28;01mfrom\u001b[39;00m \u001b[38;5;21;01m.\u001b[39;00m\u001b[38;5;21;01m.\u001b[39;00m\u001b[38;5;21;01mboolean_network\u001b[39;00m \u001b[38;5;28;01mimport\u001b[39;00m BooleanNetwork\n\u001b[0;32m     21\u001b[0m _path \u001b[38;5;241m=\u001b[39m os\u001b[38;5;241m.\u001b[39mpath\u001b[38;5;241m.\u001b[39mdirname(os\u001b[38;5;241m.\u001b[39mpath\u001b[38;5;241m.\u001b[39mrealpath(\u001b[38;5;18m__file__\u001b[39m))\n\u001b[0;32m     22\u001b[0m \u001b[38;5;124;03m\"\"\" Make sure we know what the current directory is \"\"\"\u001b[39;00m\n",
      "File \u001b[1;32mc:\\Users\\Srikanth\\OneDrive\\Documents\\GitHub\\CANA_CLONE\\CANA\\cana\\boolean_network.py:32\u001b[0m\n\u001b[0;32m     29\u001b[0m \u001b[38;5;28;01mimport\u001b[39;00m \u001b[38;5;21;01mnetworkx\u001b[39;00m \u001b[38;5;28;01mas\u001b[39;00m \u001b[38;5;21;01mnx\u001b[39;00m\n\u001b[0;32m     30\u001b[0m \u001b[38;5;28;01mimport\u001b[39;00m \u001b[38;5;21;01mnumpy\u001b[39;00m \u001b[38;5;28;01mas\u001b[39;00m \u001b[38;5;21;01mnp\u001b[39;00m\n\u001b[1;32m---> 32\u001b[0m \u001b[38;5;28;01mimport\u001b[39;00m \u001b[38;5;21;01mcana\u001b[39;00m\u001b[38;5;21;01m.\u001b[39;00m\u001b[38;5;21;01mbns\u001b[39;00m \u001b[38;5;28;01mas\u001b[39;00m \u001b[38;5;21;01mbns\u001b[39;00m\n\u001b[0;32m     33\u001b[0m \u001b[38;5;28;01mfrom\u001b[39;00m \u001b[38;5;21;01mcana\u001b[39;00m\u001b[38;5;21;01m.\u001b[39;00m\u001b[38;5;21;01mboolean_node\u001b[39;00m \u001b[38;5;28;01mimport\u001b[39;00m BooleanNode\n\u001b[0;32m     34\u001b[0m \u001b[38;5;28;01mfrom\u001b[39;00m \u001b[38;5;21;01mcana\u001b[39;00m\u001b[38;5;21;01m.\u001b[39;00m\u001b[38;5;21;01mcontrol\u001b[39;00m \u001b[38;5;28;01mimport\u001b[39;00m fvs, mds, sc\n",
      "File \u001b[1;32mc:\\Users\\Srikanth\\OneDrive\\Documents\\GitHub\\CANA_CLONE\\CANA\\cana\\bns\\__init__.py:32\u001b[0m\n\u001b[0;32m     29\u001b[0m \u001b[38;5;28;01mimport\u001b[39;00m \u001b[38;5;21;01msubprocess\u001b[39;00m\n\u001b[0;32m     30\u001b[0m \u001b[38;5;28;01mimport\u001b[39;00m \u001b[38;5;21;01mtempfile\u001b[39;00m\n\u001b[1;32m---> 32\u001b[0m \u001b[38;5;28;01mfrom\u001b[39;00m \u001b[38;5;21;01mcana\u001b[39;00m\u001b[38;5;21;01m.\u001b[39;00m\u001b[38;5;21;01mutils\u001b[39;00m \u001b[38;5;28;01mimport\u001b[39;00m binstate_to_statenum\n\u001b[0;32m     34\u001b[0m _path \u001b[38;5;241m=\u001b[39m os\u001b[38;5;241m.\u001b[39mpath\u001b[38;5;241m.\u001b[39mdirname(os\u001b[38;5;241m.\u001b[39mpath\u001b[38;5;241m.\u001b[39mrealpath(\u001b[38;5;18m__file__\u001b[39m))\n\u001b[0;32m     35\u001b[0m \u001b[38;5;124;03m\"\"\" Make sure we know what the current directory is \"\"\"\u001b[39;00m\n",
      "File \u001b[1;32mc:\\Users\\Srikanth\\OneDrive\\Documents\\GitHub\\CANA_CLONE\\CANA\\cana\\utils.py:10\u001b[0m\n\u001b[0;32m      7\u001b[0m \u001b[38;5;28;01mimport\u001b[39;00m \u001b[38;5;21;01mnetworkx\u001b[39;00m \u001b[38;5;28;01mas\u001b[39;00m \u001b[38;5;21;01mnx\u001b[39;00m\n\u001b[0;32m      8\u001b[0m \u001b[38;5;28;01mimport\u001b[39;00m \u001b[38;5;21;01mnumpy\u001b[39;00m \u001b[38;5;28;01mas\u001b[39;00m \u001b[38;5;21;01mnp\u001b[39;00m\n\u001b[1;32m---> 10\u001b[0m \u001b[38;5;28;01mfrom\u001b[39;00m \u001b[38;5;21;01mcana\u001b[39;00m\u001b[38;5;21;01m.\u001b[39;00m\u001b[38;5;21;01mcutils\u001b[39;00m \u001b[38;5;28;01mimport\u001b[39;00m binstate_to_statenum, flip_binstate_bit, statenum_to_binstate\n\u001b[0;32m     13\u001b[0m \u001b[38;5;28;01mdef\u001b[39;00m \u001b[38;5;21mflip_bitset_in_strstates\u001b[39m(strstates, idxs):\n\u001b[0;32m     14\u001b[0m \u001b[38;5;250m    \u001b[39m\u001b[38;5;124;03m\"\"\"Flips the binary value for a set of bits in a binary state.\u001b[39;00m\n\u001b[0;32m     15\u001b[0m \n\u001b[0;32m     16\u001b[0m \u001b[38;5;124;03m    Args:\u001b[39;00m\n\u001b[1;32m   (...)\u001b[0m\n\u001b[0;32m     25\u001b[0m \u001b[38;5;124;03m        ['100','001']\u001b[39;00m\n\u001b[0;32m     26\u001b[0m \u001b[38;5;124;03m    \"\"\"\u001b[39;00m\n",
      "\u001b[1;31mModuleNotFoundError\u001b[0m: No module named 'cana.cutils'"
     ]
    }
   ],
   "source": [
    "# from cana.cutils import binstate_to_statenum, flip_binstate_bit, statenum_to_binstate\n",
    "# from cana.datasets.bio import TEMPY\n",
    "from cana.datasets.bio import THALIANA, DROSOPHILA, BUDDING_YEAST, MARQUESPITA, LEUKEMIA, BREAST_CANCER\n",
    "\n",
    "from cana.boolean_network import BooleanNetwork\n",
    "from cana.boolean_node import BooleanNode\n",
    "from cana.drawing.schema_vis import plot_schemata\n",
    "from cana.drawing.plot_look_up_table import plot_look_up_table\n",
    "from cana.utils import fill_out_lut"
   ]
  },
  {
   "cell_type": "code",
   "execution_count": null,
   "metadata": {},
   "outputs": [],
   "source": [
    "# modified the BooleanNetwork.from_string_cnet function that is called in the BooleanNetwork.from_file function to check for duplicate values in the inputs and outputs of the nodes. \n",
    "# this will print a warning message if there are duplicate values in the inputs and outputs of the nodes.\n",
    "# This also generates a lookup table data for nodes with k>1\n",
    "\n",
    "# plot_schemata(tempy.nodes[4])\n",
    "# plot_look_up_table(tempy.nodes[4])"
   ]
  },
  {
   "cell_type": "code",
   "execution_count": null,
   "metadata": {},
   "outputs": [],
   "source": [
    "thaliana = THALIANA()\n",
    "drosophila = DROSOPHILA()\n",
    "budding_yeast = BUDDING_YEAST()\n",
    "marquespita = MARQUESPITA()\n",
    "leukemia = LEUKEMIA()\n",
    "breast_cancer = BREAST_CANCER()\n",
    "tempy = TEMPY()"
   ]
  },
  {
   "cell_type": "code",
   "execution_count": null,
   "metadata": {},
   "outputs": [],
   "source": [
    "# print(thaliana.nodes[0].outputs)\n",
    "node = tempy.nodes[4]\n",
    "plot_look_up_table(node)\n",
    "plot_schemata(node)\n",
    "print(node.schemata_look_up_table(type ='pi'))"
   ]
  },
  {
   "cell_type": "markdown",
   "metadata": {},
   "source": [
    "generating permutations of output lists for incomplete data"
   ]
  },
  {
   "cell_type": "code",
   "execution_count": null,
   "metadata": {},
   "outputs": [],
   "source": [
    "# # need to modify the output list from data function to include the this following function\n",
    "# def from_output_list_with_missing_data(outputs=list(), *args, **kwargs):\n",
    "#     \"\"\"\n",
    "#     Instanciate a Boolean Node from a output transition list.\n",
    "    \n",
    "#     For missing data labeled as '#', '-', None, or 'x': In this case, we replace the missing data with a placeholder value, such as '-'. This allows us to maintain the structure of the outputs list while indicating that the data is missing.\n",
    "\n",
    "#     Complete line missing: If a complete line is missing from the outputs list, we can generate the missing rows as incomplete data. This can be done by extending the outputs list with the placeholder value '-' until it reaches the expected length of 2^k, where k is the number of inputs.\n",
    "\n",
    "#     Args:\n",
    "#         outputs (list) : The transition outputs of the node.\n",
    "\n",
    "#     Returns:\n",
    "#         (BooleanNode) : the instanciated object.\n",
    "\n",
    "#     Example:\n",
    "#         >>> BooleanNode.from_output_list_with_missing_data(outputs=[0,0,0,'-',1], name=\"AND\")\n",
    "#     \"\"\"\n",
    "#     id = kwargs.pop(\"id\") if \"id\" in kwargs else 0\n",
    "#     name = kwargs.pop(\"name\") if \"name\" in kwargs else \"x\"\n",
    "#     k = int(np.ceil(np.log2(len(outputs))))\n",
    "#     inputs = (\n",
    "#         kwargs.pop(\"inputs\") if \"inputs\" in kwargs else [(x + 1) for x in range(k)]\n",
    "#     )\n",
    "#     state = kwargs.pop(\"state\") if \"state\" in kwargs else False\n",
    "\n",
    "\n",
    "#     # Replace 'None', '-', '#', or 'x' with '-'. \n",
    "#     for i in range(len(outputs)):\n",
    "#         if outputs[i] in [None, '-', '#', 'x']:\n",
    "#             outputs[i] = '-'  # Placeholder value for missing data\n",
    "#             print(\"Some of the lines contain data in the form of 'x', '#', None or '-'. These have been replaced with the placeholder value '-'. for internal consistency.\")\n",
    "    \n",
    "#     # Generate extra lines in the table to account for missing lines\n",
    "#     if len(outputs) < 2**k:\n",
    "#         print(f\"Some of the lines in the data are missing and have been replaced with the placeholder value '-' for upto 2^k lines. i.e. the total lines inputted are {len(outputs)}, then the function will generate the missing rows for upto 2^{k} = {2**k} lines.\") \n",
    "#         outputs.extend(['-'] * (2**k - len(outputs)))\n",
    "\n",
    "#     return BooleanNode(\n",
    "#         id=id,\n",
    "#         name=name,\n",
    "#         k=k,\n",
    "#         inputs=inputs,\n",
    "#         state=state,\n",
    "#         outputs=outputs,\n",
    "#         *args,\n",
    "#         **kwargs\n",
    "#         )\n",
    "\n",
    "\n",
    "# def generate_output_list_permutations(incomplete_boolean_node):\n",
    "#     # generating all possible output_list permutations for the incomplete boolean node.\n",
    "\n",
    "#     outputs = incomplete_boolean_node.outputs\n",
    "#     print(outputs)\n",
    "#     missing_data_indices = [i for i, x in enumerate(outputs) if x == '-']\n",
    "#     # output_list_permutations = [outputs.copy() for _ in range(2 ** len(missing_data_indices))]\n",
    "\n",
    "#     #generating binarytable for size: no. of missing values\n",
    "#     table=[]\n",
    "#     output_list_permutations=[]\n",
    "#     for i in range(2 ** len(missing_data_indices)):\n",
    "#             row = [int(x) for x in bin(i)[2:].zfill(len(missing_data_indices))]\n",
    "#             table.append(row)\n",
    "#             output_list_permutations.append(outputs.copy())\n",
    "#             for j in range(len(missing_data_indices)):\n",
    "#                 output_list_permutations[i][missing_data_indices[j]] = table[i][j]\n",
    "#     return output_list_permutations"
   ]
  },
  {
   "cell_type": "code",
   "execution_count": null,
   "metadata": {},
   "outputs": [],
   "source": [
    "incomplete_output = [0,0, None, 1,1,0]\n",
    "# incomplete_output = tempy.nodes[5].outputs.copy()\n",
    "incomplete_output\n",
    "\n",
    "\n",
    "#creating a boolean node for incomplete data\n",
    "incomplete_boolean_node = from_output_list_with_missing_data(incomplete_output)\n",
    "print(incomplete_boolean_node)\n",
    "# output_list_permutations = generate_output_list_permutations(incomplete_boolean_node)\n",
    "# print(f'Following are the pemutations of the incomplete output list of length:{len(output_list_permutations)}')\n",
    "# output_list_permutations\n",
    "\n"
   ]
  },
  {
   "cell_type": "code",
   "execution_count": null,
   "metadata": {},
   "outputs": [],
   "source": [
    "incomplete_boolean_node.look_up_table()"
   ]
  },
  {
   "cell_type": "markdown",
   "metadata": {},
   "source": [
    "Added missing data code to the from_output_list funciton in boolean_node.py. "
   ]
  },
  {
   "cell_type": "code",
   "execution_count": null,
   "metadata": {},
   "outputs": [],
   "source": [
    "# # testing modified from_output_list function\n",
    "# incomplete_output = [0,0, None, 1,1,0]\n",
    "# incomplete_boolean_node = BooleanNode.from_output_list(incomplete_output)\n",
    "# print(incomplete_boolean_node.outputs)\n",
    "# incomplete_boolean_node.look_up_table()\n",
    "AND = BooleanNode.from_output_list([0,1,0,1])\n",
    "print(AND.schemata_look_up_table(type='pi'))\n",
    "plot_look_up_table(AND)\n",
    "print(AND.look_up_table())"
   ]
  },
  {
   "cell_type": "code",
   "execution_count": null,
   "metadata": {},
   "outputs": [],
   "source": [
    "\n",
    "# # partial_lut = [('1--','1'),('101','0'),('011','0'),('01-','1')]\n",
    "# # partial_lut = [('0--0','0'),('1--1','0'),('0111','1'),('0011','1')]\n",
    "partial_lut = [('00--','0'),('1--1','1'),('11--','0')]\n",
    "generated_lut= fill_out_lut(partial_lut)  \n",
    "generated_lut\n"
   ]
  },
  {
   "cell_type": "code",
   "execution_count": null,
   "metadata": {},
   "outputs": [],
   "source": [
    "# write a function that converts  datya in the example form 00-- 0\\n1--1 1\\n11-- 0 to this example form: ('00--','0'),('1--1','1'),('11--','0')\n",
    "def from_example_form_to_list(example_form):\n",
    "    example_form = example_form.split('\\n')\n",
    "    example_form = [tuple(x.split(' ')) for x in example_form]\n",
    "    return example_form\n",
    "print(from_example_form_to_list('###1 0\\n#1## 0\\n1### 0\\n##1# 0\\n0000 1'))\n",
    "\n",
    "# write a function that converts data in the example form ('00--','0'),('1--1','1'),('11--','0') to this example form: 00-- 0\\n1--1 1\\n11-- 0\n",
    "def from_list_to_example_form(example_form):\n",
    "    example_form = [x[0]+' '+x[1] for x in example_form]\n",
    "    example_form = '\\n'.join(example_form)\n",
    "    return example_form\n",
    "# print(from_list_to_example_form(partial_lut))"
   ]
  },
  {
   "cell_type": "code",
   "execution_count": null,
   "metadata": {
    "vscode": {
     "languageId": "shellscript"
    }
   },
   "outputs": [],
   "source": [
    "\n"
   ]
  }
 ],
 "metadata": {
  "kernelspec": {
   "display_name": "SoftComputing",
   "language": "python",
   "name": "python3"
  },
  "language_info": {
   "codemirror_mode": {
    "name": "ipython",
    "version": 3
   },
   "file_extension": ".py",
   "mimetype": "text/x-python",
   "name": "python",
   "nbconvert_exporter": "python",
   "pygments_lexer": "ipython3",
   "version": "3.12.3"
  }
 },
 "nbformat": 4,
 "nbformat_minor": 2
}
