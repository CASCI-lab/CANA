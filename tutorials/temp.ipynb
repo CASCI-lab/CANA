{
 "cells": [
  {
   "cell_type": "code",
   "execution_count": 1,
   "metadata": {},
   "outputs": [],
   "source": [
    "import numpy as np\n",
    "from matplotlib.text import Text\n",
    "from matplotlib import pyplot as plt\n",
    "from matplotlib.collections import PatchCollection\n",
    "from matplotlib.patches import Rectangle\n",
    "from IPython.display import display"
   ]
  },
  {
   "cell_type": "code",
   "execution_count": 2,
   "metadata": {},
   "outputs": [],
   "source": [
    "from cana.datasets.bio import TEMPY\n",
    "from cana.datasets.bio import (\n",
    "    THALIANA,\n",
    "    DROSOPHILA,\n",
    "    BUDDING_YEAST,\n",
    "    MARQUESPITA,\n",
    "    LEUKEMIA,\n",
    "    BREAST_CANCER,\n",
    ")\n",
    "from cana.boolean_node import BooleanNode\n",
    "from cana.drawing.schema_vis import plot_schemata\n",
    "from cana.drawing.plot_look_up_table import plot_look_up_table\n",
    "from cana.utils import fill_out_lut\n",
    "\n",
    "from cana.boolean_node import BooleanNode\n",
    "from cana.boolean_network import BooleanNetwork"
   ]
  },
  {
   "cell_type": "code",
   "execution_count": 3,
   "metadata": {},
   "outputs": [],
   "source": [
    "# modified the BooleanNetwork.from_string_cnet function that is called in the BooleanNetwork.from_file function to check for duplicate values in the inputs and outputs of the nodes.\n",
    "# this will print a warning message if there are duplicate values in the inputs and outputs of the nodes.\n",
    "# This also generates a lookup table data for nodes with k>1\n",
    "\n",
    "# plot_schemata(tempy.nodes[4])\n",
    "# plot_look_up_table(tempy.nodes[4])"
   ]
  },
  {
   "cell_type": "code",
   "execution_count": 4,
   "metadata": {},
   "outputs": [
    {
     "name": "stdout",
     "output_type": "stream",
     "text": [
      "Entry clash in node  5  for  {'000'}  i.e. State number:  0\n"
     ]
    }
   ],
   "source": [
    "thaliana = THALIANA()\n",
    "drosophila = DROSOPHILA()\n",
    "budding_yeast = BUDDING_YEAST()\n",
    "marquespita = MARQUESPITA()\n",
    "leukemia = LEUKEMIA()\n",
    "breast_cancer = BREAST_CANCER()\n",
    "tempy = TEMPY()"
   ]
  },
  {
   "cell_type": "code",
   "execution_count": 5,
   "metadata": {},
   "outputs": [],
   "source": [
    "# plot_schemata(node)\n",
    "# print(node.schemata_look_up_table(type=\"pi\"))"
   ]
  },
  {
   "cell_type": "code",
   "execution_count": 6,
   "metadata": {},
   "outputs": [
    {
     "name": "stdout",
     "output_type": "stream",
     "text": [
      "       In: Out:\n",
      "0   000000    0\n",
      "1   000001    0\n",
      "2   000010    0\n",
      "3   000011    0\n",
      "4   000100    0\n",
      "..     ...  ...\n",
      "59  111011    0\n",
      "60  111100    0\n",
      "61  111101    0\n",
      "62  111110    0\n",
      "63  111111    0\n",
      "\n",
      "[64 rows x 2 columns]\n",
      "     Input  Output\n",
      "0   0##000       0\n",
      "1   #1####       0\n",
      "2   1##111       0\n",
      "3   ##0###       0\n",
      "4   1010##       1\n",
      "5   #01#10       1\n",
      "6   0011##       1\n",
      "7   #0101#       1\n",
      "8   001#1#       1\n",
      "9   #011#0       1\n",
      "10  001##1       1\n",
      "11  101##0       1\n",
      "12  #01#01       1\n",
      "13  #010#1       1\n",
      "14  #0110#       1\n",
      "15  101#0#       1\n",
      "<BNode(id=6, name='Seven', k=6, inputs=[0,1,2,3,4,5], state='0', outputs=[0,0,0,0...0,0,0,0] constant=False)>\n"
     ]
    }
   ],
   "source": [
    "\n",
    "node = tempy.nodes[6]\n",
    "# plot_look_up_table(node)\n",
    "# plot_schemata(node)\n",
    "print(node.look_up_table())\n",
    "print(node.schemata_look_up_table(type=\"pi\"))\n",
    "print(node)\n"
   ]
  },
  {
   "cell_type": "code",
   "execution_count": 7,
   "metadata": {},
   "outputs": [
    {
     "name": "stdout",
     "output_type": "stream",
     "text": [
      "0.21875\n"
     ]
    }
   ],
   "source": [
    "# find bias of the lut of node\n",
    "node.look_up_table()\n",
    "print(node.bias())\n"
   ]
  },
  {
   "cell_type": "markdown",
   "metadata": {},
   "source": [
    "generating permutations of output lists for incomplete data"
   ]
  },
  {
   "cell_type": "code",
   "execution_count": 8,
   "metadata": {},
   "outputs": [],
   "source": [
    "# # need to modify the output list from data function to include the this following function\n",
    "# def from_output_list_with_missing_data(outputs=list(), *args, **kwargs):\n",
    "#     \"\"\"\n",
    "#     Instanciate a Boolean Node from a output transition list.\n",
    "\n",
    "#     For missing data labeled as '#', '-', None, or 'x': In this case, we replace the missing data with a placeholder value, such as '-'. This allows us to maintain the structure of the outputs list while indicating that the data is missing.\n",
    "\n",
    "#     Complete line missing: If a complete line is missing from the outputs list, we can generate the missing rows as incomplete data. This can be done by extending the outputs list with the placeholder value '-' until it reaches the expected length of 2^k, where k is the number of inputs.\n",
    "\n",
    "#     Args:\n",
    "#         outputs (list) : The transition outputs of the node.\n",
    "\n",
    "#     Returns:\n",
    "#         (BooleanNode) : the instanciated object.\n",
    "\n",
    "#     Example:\n",
    "#         >>> BooleanNode.from_output_list_with_missing_data(outputs=[0,0,0,'-',1], name=\"AND\")\n",
    "#     \"\"\"\n",
    "#     id = kwargs.pop(\"id\") if \"id\" in kwargs else 0\n",
    "#     name = kwargs.pop(\"name\") if \"name\" in kwargs else \"x\"\n",
    "#     k = int(np.ceil(np.log2(len(outputs))))\n",
    "#     inputs = kwargs.pop(\"inputs\") if \"inputs\" in kwargs else [(x + 1) for x in range(k)]\n",
    "#     state = kwargs.pop(\"state\") if \"state\" in kwargs else False\n",
    "\n",
    "#     # Replace 'None', '-', '#', or 'x' with '-'.\n",
    "#     for i in range(len(outputs)):\n",
    "#         if outputs[i] in [None, \"-\", \"#\", \"x\"]:\n",
    "#             outputs[i] = \"-\"  # Placeholder value for missing data\n",
    "#             print(\n",
    "#                 \"Some of the lines contain data in the form of 'x', '#', None or '-'. These have been replaced with the placeholder value '-'. for internal consistency.\"\n",
    "#             )\n",
    "\n",
    "#     # Generate extra lines in the table to account for missing lines\n",
    "#     if len(outputs) < 2**k:\n",
    "#         print(\n",
    "#             f\"Some of the lines in the data are missing and have been replaced with the placeholder value '-' for upto 2^k lines. i.e. the total lines inputted are {len(outputs)}, then the function will generate the missing rows for upto 2^{k} = {2**k} lines.\"\n",
    "#         )\n",
    "#         outputs.extend([\"-\"] * (2**k - len(outputs)))\n",
    "\n",
    "#     return BooleanNode(\n",
    "#         id=id,\n",
    "#         name=name,\n",
    "#         k=k,\n",
    "#         inputs=inputs,\n",
    "#         state=state,\n",
    "#         outputs=outputs,\n",
    "#         *args,\n",
    "#         **kwargs,\n",
    "#     )\n",
    "\n",
    "\n",
    "# def generate_output_list_permutations(incomplete_boolean_node):\n",
    "#     # generating all possible output_list permutations for the incomplete boolean node.\n",
    "\n",
    "#     outputs = incomplete_boolean_node.outputs\n",
    "#     print(outputs)\n",
    "#     missing_data_indices = [i for i, x in enumerate(outputs) if x == '-']\n",
    "#     # output_list_permutations = [outputs.copy() for _ in range(2 ** len(missing_data_indices))]\n",
    "\n",
    "#     #generating binarytable for size: no. of missing values\n",
    "#     table=[]\n",
    "#     output_list_permutations=[]\n",
    "#     for i in range(2 ** len(missing_data_indices)):\n",
    "#             row = [int(x) for x in bin(i)[2:].zfill(len(missing_data_indices))]\n",
    "#             table.append(row)\n",
    "#             output_list_permutations.append(outputs.copy())\n",
    "#             for j in range(len(missing_data_indices)):\n",
    "#                 output_list_permutations[i][missing_data_indices[j]] = table[i][j]\n",
    "#     return output_list_permutations"
   ]
  },
  {
   "cell_type": "code",
   "execution_count": 9,
   "metadata": {},
   "outputs": [
    {
     "data": {
      "text/plain": [
       "[0, 0, None, 1, 1, 0]"
      ]
     },
     "execution_count": 9,
     "metadata": {},
     "output_type": "execute_result"
    }
   ],
   "source": [
    "incomplete_output = [0, 0, None, 1, 1, 0]\n",
    "# incomplete_output = tempy.nodes[5].outputs.copy()\n",
    "incomplete_output\n",
    "\n",
    "\n",
    "# creating a boolean node for incomplete data\n",
    "# incomplete_boolean_node = from_output_list_with_missing_data(incomplete_output)\n",
    "# print(incomplete_boolean_node)\n",
    "# output_list_permutations = generate_output_list_permutations(incomplete_boolean_node)\n",
    "# print(f'Following are the pemutations of the incomplete output list of length:{len(output_list_permutations)}')\n",
    "# output_list_permutations"
   ]
  },
  {
   "cell_type": "code",
   "execution_count": 10,
   "metadata": {},
   "outputs": [],
   "source": [
    "# incomplete_boolean_node.look_up_table()"
   ]
  },
  {
   "cell_type": "markdown",
   "metadata": {},
   "source": [
    "Added missing data code to the from_output_list funciton in boolean_node.py. "
   ]
  },
  {
   "cell_type": "code",
   "execution_count": 11,
   "metadata": {},
   "outputs": [
    {
     "name": "stdout",
     "output_type": "stream",
     "text": [
      "  Input  Output\n",
      "0    #0       0\n",
      "1    #1       1\n"
     ]
    },
    {
     "data": {
      "image/png": "[encoded data removed]",
      "text/plain": [
       "<Figure size 311x403 with 1 Axes>"
      ]
     },
     "metadata": {},
     "output_type": "display_data"
    },
    {
     "name": "stdout",
     "output_type": "stream",
     "text": [
      "  In: Out:\n",
      "0  00    0\n",
      "1  01    1\n",
      "2  10    0\n",
      "3  11    1\n"
     ]
    }
   ],
   "source": [
    "# # testing modified from_output_list function\n",
    "# incomplete_output = [0,0, None, 1,1,0]\n",
    "# incomplete_boolean_node = BooleanNode.from_output_list(incomplete_output)\n",
    "# print(incomplete_boolean_node.outputs)\n",
    "# incomplete_boolean_node.look_up_table()\n",
    "AND = BooleanNode.from_output_list([0, 1, 0, 1])\n",
    "print(AND.schemata_look_up_table(type=\"pi\"))\n",
    "plot_look_up_table(AND)\n",
    "print(AND.look_up_table())"
   ]
  },
  {
   "cell_type": "code",
   "execution_count": 12,
   "metadata": {},
   "outputs": [
    {
     "name": "stdout",
     "output_type": "stream",
     "text": [
      "[('00--', '0'), ('1--1', '1'), ('11--', '0')]\n",
      "Clashing output values for entry: 1101\n",
      "Clashing output values for entry: 1111\n",
      "[('0000', '0'), ('0001', '0'), ('0010', '0'), ('0011', '0'), ('0100', '?'), ('0101', '?'), ('0110', '?'), ('0111', '?'), ('1000', '?'), ('1001', '1'), ('1010', '?'), ('1011', '1'), ('1100', '0'), ('1101', '!'), ('1110', '0'), ('1111', '!')]\n"
     ]
    }
   ],
   "source": [
    "# # partial_lut = [('1--','1'),('101','0'),('011','0'),('01-','1')]\n",
    "# # partial_lut = [('0--0','0'),('1--1','0'),('0111','1'),('0011','1')]\n",
    "partial_lut = [('00--', '0'), ('1--1', '1'), ('11--', '0')]\n",
    "# partial_lut = [('00--', '0'), ('01--', '1'), ('10--', '1'), ('11--', '0')]\n",
    "print(partial_lut)\n",
    "generated_lut = fill_out_lut(partial_lut)\n",
    "print(generated_lut)"
   ]
  },
  {
   "cell_type": "code",
   "execution_count": 13,
   "metadata": {},
   "outputs": [
    {
     "name": "stdout",
     "output_type": "stream",
     "text": [
      "[('---1', '0'), ('-1--', '0'), ('1---', '0'), ('--1-', '0'), ('0000', '1')]\n",
      "0000 0\n",
      "0001 0\n",
      "0010 0\n",
      "0011 0\n",
      "0100 ?\n",
      "0101 ?\n",
      "0110 ?\n",
      "0111 ?\n",
      "1000 ?\n",
      "1001 1\n",
      "1010 ?\n",
      "1011 1\n",
      "1100 0\n",
      "1101 !\n",
      "1110 0\n",
      "1111 !\n"
     ]
    }
   ],
   "source": [
    "# write a function that converts  datya in the example form 00-- 0\\n1--1 1\\n11-- 0 to this example form: ('00--','0'),('1--1','1'),('11--','0')\n",
    "def from_example_form_to_list(example_form):\n",
    "    example_form = example_form.split(\"\\n\")\n",
    "    example_form = [tuple(x.split(\" \")) for x in example_form]\n",
    "    return example_form\n",
    "\n",
    "\n",
    "print(from_example_form_to_list(\"---1 0\\n-1-- 0\\n1--- 0\\n--1- 0\\n0000 1\"))\n",
    "\n",
    "\n",
    "# write a function that converts data in the example form ('00--','0'),('1--1','1'),('11--','0') to this example form: 00-- 0\\n1--1 1\\n11-- 0\n",
    "def from_list_to_example_form(example_form):\n",
    "    example_form = [x[0] + \" \" + x[1] for x in example_form]\n",
    "    example_form = \"\\n\".join(example_form)\n",
    "    return example_form\n",
    "\n",
    "\n",
    "print(from_list_to_example_form(generated_lut))"
   ]
  },
  {
   "cell_type": "code",
   "execution_count": 14,
   "metadata": {},
   "outputs": [
    {
     "name": "stdout",
     "output_type": "stream",
     "text": [
      "16\n"
     ]
    },
    {
     "data": {
      "text/plain": [
       "['0',\n",
       " '0',\n",
       " '0',\n",
       " '0',\n",
       " '?',\n",
       " '?',\n",
       " '?',\n",
       " '?',\n",
       " '?',\n",
       " '1',\n",
       " '?',\n",
       " '1',\n",
       " '0',\n",
       " '!',\n",
       " '0',\n",
       " '!']"
      ]
     },
     "execution_count": 14,
     "metadata": {},
     "output_type": "execute_result"
    }
   ],
   "source": [
    "print(len(generated_lut))\n",
    "output = []\n",
    "output = [generated_lut[i][1] for i in range(len(generated_lut))]\n",
    "output\n"
   ]
  },
  {
   "cell_type": "code",
   "execution_count": 15,
   "metadata": {
    "vscode": {
     "languageId": "shellscript"
    }
   },
   "outputs": [
    {
     "name": "stdout",
     "output_type": "stream",
     "text": [
      "Clashing output values for entry: 1101\n",
      "Clashing output values for entry: 1111\n",
      "['0', '0', '0', '0', '?', '?', '?', '?', '?', '1', '?', '1', '0', '!', '0', '!']\n"
     ]
    },
    {
     "data": {
      "text/html": [
       "<div>\n",
       "<style scoped>\n",
       "    .dataframe tbody tr th:only-of-type {\n",
       "        vertical-align: middle;\n",
       "    }\n",
       "\n",
       "    .dataframe tbody tr th {\n",
       "        vertical-align: top;\n",
       "    }\n",
       "\n",
       "    .dataframe thead th {\n",
       "        text-align: right;\n",
       "    }\n",
       "</style>\n",
       "<table border=\"1\" class=\"dataframe\">\n",
       "  <thead>\n",
       "    <tr style=\"text-align: right;\">\n",
       "      <th></th>\n",
       "      <th>In:</th>\n",
       "      <th>Out:</th>\n",
       "    </tr>\n",
       "  </thead>\n",
       "  <tbody>\n",
       "    <tr>\n",
       "      <th>0</th>\n",
       "      <td>0000</td>\n",
       "      <td>0</td>\n",
       "    </tr>\n",
       "    <tr>\n",
       "      <th>1</th>\n",
       "      <td>0001</td>\n",
       "      <td>0</td>\n",
       "    </tr>\n",
       "    <tr>\n",
       "      <th>2</th>\n",
       "      <td>0010</td>\n",
       "      <td>0</td>\n",
       "    </tr>\n",
       "    <tr>\n",
       "      <th>3</th>\n",
       "      <td>0011</td>\n",
       "      <td>0</td>\n",
       "    </tr>\n",
       "    <tr>\n",
       "      <th>4</th>\n",
       "      <td>0100</td>\n",
       "      <td>?</td>\n",
       "    </tr>\n",
       "    <tr>\n",
       "      <th>5</th>\n",
       "      <td>0101</td>\n",
       "      <td>?</td>\n",
       "    </tr>\n",
       "    <tr>\n",
       "      <th>6</th>\n",
       "      <td>0110</td>\n",
       "      <td>?</td>\n",
       "    </tr>\n",
       "    <tr>\n",
       "      <th>7</th>\n",
       "      <td>0111</td>\n",
       "      <td>?</td>\n",
       "    </tr>\n",
       "    <tr>\n",
       "      <th>8</th>\n",
       "      <td>1000</td>\n",
       "      <td>?</td>\n",
       "    </tr>\n",
       "    <tr>\n",
       "      <th>9</th>\n",
       "      <td>1001</td>\n",
       "      <td>1</td>\n",
       "    </tr>\n",
       "    <tr>\n",
       "      <th>10</th>\n",
       "      <td>1010</td>\n",
       "      <td>?</td>\n",
       "    </tr>\n",
       "    <tr>\n",
       "      <th>11</th>\n",
       "      <td>1011</td>\n",
       "      <td>1</td>\n",
       "    </tr>\n",
       "    <tr>\n",
       "      <th>12</th>\n",
       "      <td>1100</td>\n",
       "      <td>0</td>\n",
       "    </tr>\n",
       "    <tr>\n",
       "      <th>13</th>\n",
       "      <td>1101</td>\n",
       "      <td>!</td>\n",
       "    </tr>\n",
       "    <tr>\n",
       "      <th>14</th>\n",
       "      <td>1110</td>\n",
       "      <td>0</td>\n",
       "    </tr>\n",
       "    <tr>\n",
       "      <th>15</th>\n",
       "      <td>1111</td>\n",
       "      <td>!</td>\n",
       "    </tr>\n",
       "  </tbody>\n",
       "</table>\n",
       "</div>"
      ],
      "text/plain": [
       "     In: Out:\n",
       "0   0000    0\n",
       "1   0001    0\n",
       "2   0010    0\n",
       "3   0011    0\n",
       "4   0100    ?\n",
       "5   0101    ?\n",
       "6   0110    ?\n",
       "7   0111    ?\n",
       "8   1000    ?\n",
       "9   1001    1\n",
       "10  1010    ?\n",
       "11  1011    1\n",
       "12  1100    0\n",
       "13  1101    !\n",
       "14  1110    0\n",
       "15  1111    !"
      ]
     },
     "execution_count": 15,
     "metadata": {},
     "output_type": "execute_result"
    }
   ],
   "source": [
    "generated_lut = fill_out_lut(partial_lut)\n",
    "output_list = [x[1] for x in generated_lut]\n",
    "print(output_list)\n",
    "generated_node = BooleanNode.from_output_list(output_list)\n",
    "generated_node.look_up_table()\n"
   ]
  },
  {
   "cell_type": "code",
   "execution_count": 16,
   "metadata": {
    "vscode": {
     "languageId": "shellscript"
    }
   },
   "outputs": [
    {
     "name": "stdout",
     "output_type": "stream",
     "text": [
      "Clashing output values for entry: 1101\n",
      "Clashing output values for entry: 1111\n",
      "The LUT is incomplete. Missing values are represented by '?'\n",
      "['0', '0', '0', '0', '?', '?', '?', '?', '?', '1', '?', '1', '0', '!', '0', '!']\n",
      "     In: Out:\n",
      "0   0000    0\n",
      "1   0001    0\n",
      "2   0010    0\n",
      "3   0011    0\n",
      "4   0100    ?\n",
      "5   0101    ?\n",
      "6   0110    ?\n",
      "7   0111    ?\n",
      "8   1000    ?\n",
      "9   1001    1\n",
      "10  1010    ?\n",
      "11  1011    1\n",
      "12  1100    0\n",
      "13  1101    !\n",
      "14  1110    0\n",
      "15  1111    !\n"
     ]
    }
   ],
   "source": [
    "generated_node = BooleanNode.from_partial_lut(partial_lut)\n",
    "print(generated_node.outputs)\n",
    "print(generated_node.look_up_table())"
   ]
  },
  {
   "cell_type": "code",
   "execution_count": 17,
   "metadata": {
    "vscode": {
     "languageId": "shellscript"
    }
   },
   "outputs": [
    {
     "data": {
      "text/plain": [
       "['0', '1', '0', '1']"
      ]
     },
     "execution_count": 17,
     "metadata": {},
     "output_type": "execute_result"
    }
   ],
   "source": [
    "logic = {\n",
    "    0: {'name': 'A', 'in': [1,0], 'out': [0, 1, 0,1]},\n",
    "    1: {'name': 'B', 'in': [0,2], 'out': [0, 1, 0, 1]},\n",
    "    2: {'name': 'C', 'in': [0,1,2], 'out': [0, 1, 1, 0, 0, 1, 1, 0]}\n",
    "}\n",
    "# Instanciate the BooleanNetwork\n",
    "bn = BooleanNetwork.from_dict(logic)\n",
    "bn.nodes[0].outputs"
   ]
  },
  {
   "cell_type": "code",
   "execution_count": 18,
   "metadata": {
    "vscode": {
     "languageId": "shellscript"
    }
   },
   "outputs": [
    {
     "name": "stdout",
     "output_type": "stream",
     "text": [
      "The LUT is incomplete. Missing values are represented by '?'\n",
      "<BNode(id=0, name='EG', k=2, inputs=[1,2], state='0', outputs=[0,1,?,1] constant=False)>\n"
     ]
    }
   ],
   "source": [
    "bn = BooleanNode.from_partial_lut(partial_lut=[('00', 0), ('01', 1), ('11', 1)], name=\"EG\")\n",
    "print(bn)"
   ]
  }
 ],
 "metadata": {
  "kernelspec": {
   "display_name": "SoftComputing",
   "language": "python",
   "name": "python3"
  },
  "language_info": {
   "codemirror_mode": {
    "name": "ipython",
    "version": 3
   },
   "file_extension": ".py",
   "mimetype": "text/x-python",
   "name": "python",
   "nbconvert_exporter": "python",
   "pygments_lexer": "ipython3",
   "version": "3.12.3"
  }
 },
 "nbformat": 4,
 "nbformat_minor": 2
}
