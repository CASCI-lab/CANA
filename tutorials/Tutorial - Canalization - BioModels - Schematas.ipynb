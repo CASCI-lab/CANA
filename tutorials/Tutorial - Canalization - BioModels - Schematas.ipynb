{
 "cells": [
  {
   "cell_type": "markdown",
   "metadata": {
    "collapsed": true
   },
   "source": [
    "# Tutorial - Plotting F' and F'' Schematas\n",
    "This tutorial shows how to plot Prime Implicants (F') and Two-Symbol (F'') schematas"
   ]
  },
  {
   "cell_type": "code",
   "execution_count": 1,
   "metadata": {
    "collapsed": false
   },
   "outputs": [],
   "source": [
    "%matplotlib inline\n",
    "import os\n",
    "import numpy as np\n",
    "import matplotlib as mpl\n",
    "import matplotlib.pyplot as plt\n",
    "from matplotlib.text import Text\n",
    "from matplotlib.patches import Circle, Rectangle, RegularPolygon\n",
    "from matplotlib.collections import PatchCollection\n",
    "from copy import copy"
   ]
  },
  {
   "cell_type": "code",
   "execution_count": 2,
   "metadata": {
    "collapsed": true
   },
   "outputs": [],
   "source": [
    "from cana.datasets.bio import THALIANA, DROSOPHILA, BUDDING_YEAST"
   ]
  },
  {
   "cell_type": "code",
   "execution_count": 3,
   "metadata": {
    "collapsed": false
   },
   "outputs": [
    {
     "name": "stdout",
     "output_type": "stream",
     "text": [
      "<BNetwork(Name='Budding Yeast Cell Cycle', N=12, Nodes=['CellSize', 'Cln3', 'SBF', 'MBF', 'Cln1,2', 'Sic1', 'Clb5,6', 'Cdh1', 'Clb1,2', 'Mcm1/SFF', 'Cdc20/14', 'Swi5'])>\n"
     ]
    }
   ],
   "source": [
    "#N = THALIANA()\n",
    "#N = DROSOPHILA()\n",
    "N = BUDDING_YEAST()\n",
    "print N"
   ]
  },
  {
   "cell_type": "code",
   "execution_count": 4,
   "metadata": {
    "collapsed": false
   },
   "outputs": [],
   "source": [
    "if N.name == 'Arabidopsis Thaliana':\n",
    "    foldername = 'thaliana'\n",
    "elif N.name == 'Drosophila Melanogaster':\n",
    "    foldername = 'drosophila'\n",
    "elif N.name == 'Budding Yeast Cell Cycle':\n",
    "    foldername = 'yeast'"
   ]
  },
  {
   "cell_type": "code",
   "execution_count": 14,
   "metadata": {
    "collapsed": false
   },
   "outputs": [],
   "source": [
    "def plot_schemata(nid, n):\n",
    "    # Init values from BooleanNode\n",
    "    k = n.k if n.k>=1 else 1\n",
    "    inputs = n.inputs if not n.constant else [n.name]\n",
    "    pi0s,pi1s = n._prime_implicants\n",
    "    ts0s,ts1s = n._two_symbols\n",
    "    # Count number of PI and TS\n",
    "    n_pi = sum(len(pis) for pis in [pi0s,pi1s])\n",
    "    n_ts = sum(len(tss) for tss in [ts0s,ts1s])\n",
    "    # Schemata Cell Width and spacing\n",
    "    cwidth = 60.\n",
    "    cxspace = 0\n",
    "    cyspace = 6\n",
    "    border = 1\n",
    "    sepcxspace = 21\n",
    "    sepcyspace = 15\n",
    "    dpi = 150.\n",
    "    # Margins\n",
    "    top, right, bottom, left, hs = 160, 25, 25, 60, 60\n",
    "    # Axes Width & Height\n",
    "    ax1width = ((k*(cwidth+cxspace))+sepcxspace+(cwidth))\n",
    "    ax1height = (n_pi*(cwidth+cyspace)+sepcyspace-cyspace)\n",
    "    ax2width = ((k*(cwidth+cxspace))+sepcxspace+(cwidth))\n",
    "    ax2height = (n_ts*(cwidth+cyspace)+sepcyspace-cyspace)\n",
    "    # Figure Width & Height\n",
    "    fwidth = (left + ax1width + hs + ax2width + right)\n",
    "    fheight = (bottom + max(ax1height,ax2height) + top)\n",
    "    # Percentages for Axes location\n",
    "    _ax1w = ((ax1width*100) / fwidth) / 100\n",
    "    _ax2w = ((ax2width*100) / fwidth) / 100\n",
    "    _ax1h = ((ax1height*100) / fheight) / 100\n",
    "    _ax2h = ((ax2height*100) / fheight) / 100\n",
    "    _bottom = ((bottom*100) / fheight) / 100\n",
    "    _left = ((left*100) / fwidth) / 100\n",
    "    _hs = ((hs*100) / fwidth) / 100\n",
    "    # Init Figure\n",
    "    fig = plt.figure(figsize=(fwidth/dpi,fheight/dpi), dpi=dpi)\n",
    "    ax1 = fig.add_axes((_left,_bottom,_ax1w,_ax1h), aspect=1, label='PI')\n",
    "    ax2 = fig.add_axes((_left+_ax1w+_hs,_bottom,_ax2w,_ax1h), aspect=1, label='TS')\n",
    "\n",
    "    ### PI Plot ###\n",
    "\n",
    "    yticks = []\n",
    "    patches = []\n",
    "    x,y = 0.,0.\n",
    "    #\n",
    "    for out,pis in zip([1,0],[pi1s,pi0s]):\n",
    "        for pi in pis:\n",
    "            x = 0.\n",
    "            xticks = []\n",
    "            for input in pi:\n",
    "                if input == '0':\n",
    "                    facecolor = 'white'\n",
    "                    textcolor = 'black'\n",
    "                elif input == '1':\n",
    "                    facecolor = 'black'\n",
    "                    textcolor = 'white'\n",
    "                elif input == '2':\n",
    "                    facecolor = '#cccccc'\n",
    "                    textcolor = 'black'            \n",
    "                text = '%s'%(input) if (input!='2') else '#'\n",
    "                ax1.add_artist(Text(x+cwidth/2,y+cwidth/10*4, text=text, color=textcolor, va='center', ha='center',fontsize=14,family='serif'))\n",
    "                r = Rectangle((x,y), width=cwidth, height=cwidth, facecolor=facecolor, edgecolor='black')\n",
    "                patches.append(r)\n",
    "                xticks.append(x+cwidth/2)\n",
    "                x += cwidth + cxspace\n",
    "\n",
    "            x += sepcxspace\n",
    "            r = Rectangle((x,y), width=cwidth, height=cwidth, facecolor='black' if (out==1) else 'white', edgecolor='black')\n",
    "            ax1.add_artist(Text(x-(sepcxspace/2)-(cxspace/2),y+cwidth/10*4, text=':', color='black', va='center', ha='center',fontsize=14,weight='bold',family='serif'))\n",
    "            ax1.add_artist(Text(x+(cwidth/2),y+cwidth/10*4, text=out, color='white' if (out==1) else 'black', va='center', ha='center',fontsize=14,family='serif'))\n",
    "            patches.append(r)\n",
    "            xticks.append(x+cwidth/2)\n",
    "            yticks.append(y+cwidth/2)\n",
    "            y += cwidth + cyspace\n",
    "        y += sepcyspace\n",
    "\n",
    "    ax1.add_collection(PatchCollection(patches,match_original=True))\n",
    "    #\n",
    "    ax1.set_yticks(yticks)\n",
    "    ax1.set_yticklabels([r\"$f^{'}_{%d}$\"%(i+1) for i in range(n_pi)[::-1]], fontsize=14)\n",
    "    ax1.set_xticks(xticks)\n",
    "    ax1.set_xticklabels(inputs + ['%s'%(n.name)], rotation=90, fontsize=14)\n",
    "    #\n",
    "    ax1.xaxis.tick_top()\n",
    "    # Remove Tick\n",
    "    ax1.tick_params(which='major',pad=7)\n",
    "    for tic in ax1.xaxis.get_major_ticks():\n",
    "        tic.tick1On = tic.tick2On = False\n",
    "    for tic in ax1.yaxis.get_major_ticks():\n",
    "        tic.tick1On = tic.tick2On = False\n",
    "    # Remove Border\n",
    "    ax1.spines['top'].set_visible(False)\n",
    "    ax1.spines['right'].set_visible(False)\n",
    "    ax1.spines['bottom'].set_visible(False)\n",
    "    ax1.spines['left'].set_visible(False)\n",
    "    # Limits\n",
    "    ax1.set_xlim(-border,ax1width+border)\n",
    "    ax1.set_ylim(-border,ax1height+border)\n",
    "    #ax1.invert_yaxis() \n",
    "\n",
    "    ## TS ##\n",
    "\n",
    "    t = 0\n",
    "    x,y = 0.,0.\n",
    "    yticks = []\n",
    "    boxes,symbols = [], []\n",
    "    #\n",
    "    tssymbols = [\n",
    "        Circle((None,None), radius=5, facecolor='white', edgecolor='black'),\n",
    "        RegularPolygon((None,None),numVertices=3, radius=5, orientation=0, facecolor='white', edgecolor='black'),\n",
    "    ]\n",
    "    #\n",
    "    for out,tss in zip([1,0],[ts1s,ts0s]):\n",
    "        for ts,pss,sss in tss:\n",
    "            x = 0.\n",
    "            xticks = []\n",
    "            for i,input in enumerate(ts):\n",
    "                if input == '0':\n",
    "                    facecolor = 'white'\n",
    "                    textcolor = 'black'\n",
    "                elif input == '1':\n",
    "                    facecolor = 'black'\n",
    "                    textcolor = 'white'\n",
    "                elif input == '2':\n",
    "                    facecolor = '#cccccc'\n",
    "                    textcolor = 'black'\n",
    "\n",
    "                if len(pss):\n",
    "                    # TODO: If there are several symbols in the same input position, place them side-by-side\n",
    "                    iinpss = [j for j,ps in enumerate(pss) if i in ps]\n",
    "                    xpos = np.linspace(x,x+cwidth, len(iinpss)+2)\n",
    "                    for z,j in enumerate(iinpss,start=1):\n",
    "                        s = copy(tssymbols[j])\n",
    "                        s.xy = (xpos[z],y+cwidth*0.8)\n",
    "                        s.center = xpos[z],y+cwidth*0.8 # A hack for circles only\n",
    "                        s.set_edgecolor('#a6a6a6' if (input=='1') else 'black')\n",
    "                        symbols.append(s)\n",
    "                        ax2.add_patch(s)\n",
    "\n",
    "                text = '%s'%(input) if (input!='2') else '#'\n",
    "                ax2.add_artist(Text(x+cwidth/2,y+cwidth/10*4, text=text, color=textcolor, va='center', ha='center',fontsize=14,family='serif'))\n",
    "                r = Rectangle((x,y), width=cwidth, height=cwidth, facecolor=facecolor, edgecolor='#4c4c4c',zorder=2)\n",
    "                boxes.append(r)\n",
    "                xticks.append(x+cwidth/2)\n",
    "                x += cwidth + cxspace\n",
    "\n",
    "            x += sepcxspace\n",
    "            r = Rectangle((x,y), width=cwidth, height=cwidth, facecolor='black' if (out==1) else 'white', edgecolor='#4c4c4c')\n",
    "            ax2.add_artist(Text(x-(sepcxspace/2)-(cxspace/2),y+cwidth/2, text=':', color='black', va='center', ha='center',fontsize=14,weight='bold',family='serif'))\n",
    "            ax2.add_artist(Text(x+(cwidth/2),y+cwidth/10*4, text=out, color='white' if (out==1) else 'black', va='center', ha='center',fontsize=14,family='serif'))\n",
    "            boxes.append(r)\n",
    "            xticks.append(x+cwidth/2)\n",
    "            yticks.append(y+cwidth/2)\n",
    "            y += cwidth + cyspace\n",
    "            t += 1\n",
    "        y += sepcyspace\n",
    "\n",
    "    if len(boxes):\n",
    "        ax2.add_collection(PatchCollection(boxes,match_original=True))\n",
    "    if len(symbols):\n",
    "        ax2.add_collection(PatchCollection(symbols,match_original=True))\n",
    "    #\n",
    "    ax2.set_yticks(yticks)\n",
    "    ax2.set_yticklabels([r\"$f^{''}_{%d}$\"%(i+1) for i in range(n_ts)[::-1]], fontsize=14)\n",
    "    ax2.set_xticks(xticks)\n",
    "    ax2.set_xticklabels(inputs + ['%s'%(n.name)], rotation=90, fontsize=14)\n",
    "    #\n",
    "    ax2.xaxis.tick_top()\n",
    "    # Remove Tick\n",
    "    ax2.tick_params(which='major',pad=7)\n",
    "    for tic in ax2.xaxis.get_major_ticks():\n",
    "        tic.tick1On = tic.tick2On = False\n",
    "    for tic in ax2.yaxis.get_major_ticks():\n",
    "        tic.tick1On = tic.tick2On = False\n",
    "    # Remove Border\n",
    "    ax2.spines['top'].set_visible(False)\n",
    "    ax2.spines['right'].set_visible(False)\n",
    "    ax2.spines['bottom'].set_visible(False)\n",
    "    ax2.spines['left'].set_visible(False)\n",
    "    # Limits\n",
    "    ax2.set_xlim(-border,ax2width+border)\n",
    "    ax2.set_ylim(-border,ax2height+border)\n",
    "\n",
    "    # FileName\n",
    "    filename = n.name\n",
    "    filename = filename.replace('/','_')\n",
    "    filename = filename.replace(',','_')\n",
    "    ### SAVE to FILE ###\n",
    "    plt.savefig('%s/../experiments/2017 - BioModels/%s/schematas/%s-%s' % (os.getcwd(), foldername, nid, filename), dpi=dpi)\n",
    "    plt.close()"
   ]
  },
  {
   "cell_type": "code",
   "execution_count": 15,
   "metadata": {
    "collapsed": false,
    "scrolled": false
   },
   "outputs": [
    {
     "name": "stdout",
     "output_type": "stream",
     "text": [
      "Plotting: 0 - CellSize\n",
      "Plotting: 1 - Cln3\n",
      "Plotting: 2 - SBF\n",
      "Plotting: 3 - MBF\n",
      "Plotting: 4 - Cln1,2\n",
      "Plotting: 5 - Sic1\n",
      "Plotting: 6 - Clb5,6\n",
      "Plotting: 7 - Cdh1\n",
      "Plotting: 8 - Clb1,2\n",
      "Plotting: 9 - Mcm1/SFF\n",
      "Plotting: 10 - Cdc20/14\n",
      "Plotting: 11 - Swi5\n"
     ]
    }
   ],
   "source": [
    "for nid,n in enumerate(N.nodes):\n",
    "    print 'Plotting: %s - %s' % (nid,n.name)\n",
    "    # Compute Prime Implicants & Two-Symbol schematas\n",
    "    n._check_compute_canalization_variables(prime_implicants=True)\n",
    "    n._check_compute_canalization_variables(two_symbols=True)\n",
    "    # Plot\n",
    "    plot_schemata(nid,n)"
   ]
  },
  {
   "cell_type": "code",
   "execution_count": null,
   "metadata": {
    "collapsed": false
   },
   "outputs": [],
   "source": []
  },
  {
   "cell_type": "code",
   "execution_count": null,
   "metadata": {
    "collapsed": true
   },
   "outputs": [],
   "source": []
  }
 ],
 "metadata": {
  "kernelspec": {
   "display_name": "Python 2",
   "language": "python",
   "name": "python2"
  },
  "language_info": {
   "codemirror_mode": {
    "name": "ipython",
    "version": 2
   },
   "file_extension": ".py",
   "mimetype": "text/x-python",
   "name": "python",
   "nbconvert_exporter": "python",
   "pygments_lexer": "ipython2",
   "version": "2.7.11"
  }
 },
 "nbformat": 4,
 "nbformat_minor": 2
}
