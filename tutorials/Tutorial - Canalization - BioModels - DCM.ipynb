{
 "cells": [
  {
   "cell_type": "markdown",
   "metadata": {},
   "source": [
    "# Tutorial - Dynamics Canalization Map (DCM)\n"
   ]
  },
  {
   "cell_type": "code",
   "execution_count": 1,
   "metadata": {},
   "outputs": [],
   "source": [
    "%load_ext autoreload\n",
    "%autoreload 2\n",
    "%matplotlib inline"
   ]
  },
  {
   "cell_type": "code",
   "execution_count": 5,
   "metadata": {},
   "outputs": [],
   "source": [
    "import os\n",
    "from cana.datasets.bio import THALIANA, DROSOPHILA, BUDDING_YEAST\n",
    "import cana\n",
    "from cana.drawing.canalizing_map import draw_canalizing_map_graphviz\n",
    "from IPython.display import display\n",
    "import subprocess"
   ]
  },
  {
   "cell_type": "code",
   "execution_count": 10,
   "metadata": {},
   "outputs": [
    {
     "name": "stdout",
     "output_type": "stream",
     "text": [
      "<BNetwork(Name='Arabidopsis Thaliana', N=15, Nodes=['AP3', 'UFO', 'FUL', 'FT', 'AP1', 'EMF1', 'LFY', 'AP2', 'WUS', 'AG', 'LUG', 'CLF', 'TFL1', 'PI', 'SEP'])>\n"
     ]
    }
   ],
   "source": [
    "N = THALIANA()\n",
    "#N = DROSOPHILA()\n",
    "#N = BUDDING_YEAST()\n",
    "print(N)"
   ]
  },
  {
   "cell_type": "code",
   "execution_count": 11,
   "metadata": {},
   "outputs": [],
   "source": [
    "if N.name == 'Arabidopsis Thaliana':\n",
    "    foldername = 'thaliana'\n",
    "elif N.name == 'Drosophila Melanogaster':\n",
    "    foldername = 'drosophila'\n",
    "elif N.name == 'Budding Yeast Cell Cycle':\n",
    "    foldername = 'yeast'"
   ]
  },
  {
   "cell_type": "code",
   "execution_count": 19,
   "metadata": {
    "scrolled": false
   },
   "outputs": [
    {
     "ename": "AttributeError",
     "evalue": "Node type could not be found. Must be either 'out', 'literal', 'fusing' or 'fused'.  Got simplified.",
     "output_type": "error",
     "traceback": [
      "\u001b[0;31m---------------------------------------------------------------------------\u001b[0m",
      "\u001b[0;31mAttributeError\u001b[0m                            Traceback (most recent call last)",
      "\u001b[0;32m<ipython-input-19-2651d9b01d16>\u001b[0m in \u001b[0;36m<module>\u001b[0;34m()\u001b[0m\n\u001b[1;32m      2\u001b[0m \u001b[0mDCM\u001b[0m \u001b[0;34m=\u001b[0m \u001b[0mN\u001b[0m\u001b[0;34m.\u001b[0m\u001b[0mdynamics_canalization_map\u001b[0m\u001b[0;34m(\u001b[0m\u001b[0moutput\u001b[0m\u001b[0;34m=\u001b[0m\u001b[0;32mNone\u001b[0m\u001b[0;34m)\u001b[0m\u001b[0;34m\u001b[0m\u001b[0m\n\u001b[1;32m      3\u001b[0m \u001b[0;31m# Draws using the graphviz interface.\u001b[0m\u001b[0;34m\u001b[0m\u001b[0;34m\u001b[0m\u001b[0m\n\u001b[0;32m----> 4\u001b[0;31m \u001b[0mD\u001b[0m \u001b[0;34m=\u001b[0m \u001b[0mdraw_canalizing_map_graphviz\u001b[0m\u001b[0;34m(\u001b[0m\u001b[0mDCM\u001b[0m\u001b[0;34m)\u001b[0m\u001b[0;34m\u001b[0m\u001b[0m\n\u001b[0m\u001b[1;32m      5\u001b[0m \u001b[0;34m\u001b[0m\u001b[0m\n\u001b[1;32m      6\u001b[0m \u001b[0;31m## Display\u001b[0m\u001b[0;34m\u001b[0m\u001b[0;34m\u001b[0m\u001b[0m\n",
      "\u001b[0;32m~/Documents/GitHub/CANA/cana/drawing/canalizing_map.py\u001b[0m in \u001b[0;36mdraw_canalizing_map_graphviz\u001b[0;34m(DG, on_node_fillcolor, on_node_fontcolor, off_node_fillcolor, off_node_fontcolor, input_node_bordercolor, output_node_bordercolor, controlled_node_bordercolor, constant_node_bordercolor, literal_edge_color, output_edge_color, fusing_edge_color, fused_edge_color, fusing_edge_arrowhead, fused_edge_arrowhead, literal_edge_arrowhead, out_edge_arrowhead, *args, **kwargs)\u001b[0m\n\u001b[1;32m    111\u001b[0m \u001b[0;34m\u001b[0m\u001b[0m\n\u001b[1;32m    112\u001b[0m                         \u001b[0;32melse\u001b[0m\u001b[0;34m:\u001b[0m\u001b[0;34m\u001b[0m\u001b[0m\n\u001b[0;32m--> 113\u001b[0;31m                                 \u001b[0;32mraise\u001b[0m \u001b[0mAttributeError\u001b[0m\u001b[0;34m(\u001b[0m\u001b[0;34m\"Node type could not be found. Must be either 'out', 'literal', 'fusing' or 'fused'.  Got %s.\"\u001b[0m \u001b[0;34m%\u001b[0m \u001b[0mstr\u001b[0m\u001b[0;34m(\u001b[0m\u001b[0md\u001b[0m\u001b[0;34m[\u001b[0m\u001b[0;34m'type'\u001b[0m\u001b[0;34m]\u001b[0m\u001b[0;34m)\u001b[0m\u001b[0;34m)\u001b[0m\u001b[0;34m\u001b[0m\u001b[0m\n\u001b[0m\u001b[1;32m    114\u001b[0m                 \u001b[0mG\u001b[0m\u001b[0;34m.\u001b[0m\u001b[0medge\u001b[0m\u001b[0;34m(\u001b[0m\u001b[0ms\u001b[0m\u001b[0;34m,\u001b[0m \u001b[0mt\u001b[0m\u001b[0;34m,\u001b[0m \u001b[0marrowhead\u001b[0m\u001b[0;34m=\u001b[0m\u001b[0marrowhead\u001b[0m\u001b[0;34m,\u001b[0m \u001b[0mcolor\u001b[0m\u001b[0;34m=\u001b[0m\u001b[0mcolor\u001b[0m\u001b[0;34m)\u001b[0m\u001b[0;34m\u001b[0m\u001b[0m\n\u001b[1;32m    115\u001b[0m \u001b[0;34m\u001b[0m\u001b[0m\n",
      "\u001b[0;31mAttributeError\u001b[0m: Node type could not be found. Must be either 'out', 'literal', 'fusing' or 'fused'.  Got simplified."
     ]
    }
   ],
   "source": [
    "# Request the DCM to the Network\n",
    "DCM = N.dynamics_canalization_map(output=None)\n",
    "# Draws using the graphviz interface.\n",
    "D = draw_canalizing_map_graphviz(DCM)\n",
    "\n",
    "## Display\n",
    "display(D)\n",
    "\n",
    "## Save to file\n",
    "D._format = 'svg'\n",
    "efile = u'%s/../experiments/2017 - BioModels/%s/DCM/DCM' % (os.getcwd(), foldername)\n",
    "#D.render(efile, cleanup=True)\n",
    "#subprocess.call(\"inkscape -z -d 150 '%s.svg' -e '%s.png'\" % (efile,efile) , shell=True)\n"
   ]
  },
  {
   "cell_type": "code",
   "execution_count": null,
   "metadata": {
    "collapsed": true
   },
   "outputs": [],
   "source": []
  }
 ],
 "metadata": {
  "kernelspec": {
   "display_name": "Python 3",
   "language": "python",
   "name": "python3"
  },
  "language_info": {
   "codemirror_mode": {
    "name": "ipython",
    "version": 3
   },
   "file_extension": ".py",
   "mimetype": "text/x-python",
   "name": "python",
   "nbconvert_exporter": "python",
   "pygments_lexer": "ipython3",
   "version": "3.6.5"
  }
 },
 "nbformat": 4,
 "nbformat_minor": 2
}
