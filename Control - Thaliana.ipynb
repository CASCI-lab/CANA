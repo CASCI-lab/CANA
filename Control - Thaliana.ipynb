{
 "cells": [
  {
   "cell_type": "markdown",
   "metadata": {},
   "source": [
    "# Network Control - Thaliana\n",
    "control measures for the Arabidobis Thaliana Boolean Model"
   ]
  },
  {
   "cell_type": "code",
   "execution_count": 1,
   "metadata": {
    "collapsed": true
   },
   "outputs": [],
   "source": [
    "%load_ext autoreload\n",
    "%autoreload 2\n",
    "%matplotlib inline"
   ]
  },
  {
   "cell_type": "code",
   "execution_count": 33,
   "metadata": {
    "collapsed": true
   },
   "outputs": [],
   "source": [
    "from __future__ import division\n",
    "import numpy as np\n",
    "from scipy.spatial.distance import jaccard\n",
    "from IPython.display import display\n",
    "from IPython.core.display import HTML"
   ]
  },
  {
   "cell_type": "code",
   "execution_count": 27,
   "metadata": {
    "collapsed": false
   },
   "outputs": [],
   "source": [
    "# Control via State Transition Graph\n",
    "CSTGs = [['AP2', 'EMF1', 'LFY', 'TFL1', 'UFO', 'WUS'], ['AG', 'EMF1', 'LFY', 'TFL1', 'UFO', 'WUS']]\n",
    "# Sort sets by alphabetical order\n",
    "CSTGs = [sorted(x) for x in CSTGs]"
   ]
  },
  {
   "cell_type": "code",
   "execution_count": 28,
   "metadata": {
    "collapsed": false
   },
   "outputs": [],
   "source": [
    "# Feedback Vertex Control\n",
    "# (threshold,loops,[control sets])\n",
    "FVC_Objs = [\n",
    "    ('original',49, [['AP3','UFO','LFY','WUS','AG','TFL1','PI']]),\n",
    "    ('0',19, [['AP3','UFO','AP1','LFY','WUS' 'AG','PI'],['AP3','UFO','EMF1','WUS','AG','TFL1','PI'],['AP3','UFO','LFY','WUS','AG','TFL1','PI']]),\n",
    "    ('0.0078125',17,[['AP3', 'UFO', 'AP1', 'LFY', 'WUS', 'PI']]),\n",
    "    ('0.0234375',14,[['AP3', 'UFO', 'AP1', 'LFY', 'WUS', 'PI'],['AP3', 'UFO', 'EMF1', 'WUS', 'TFL1', 'PI'],['AP3', 'UFO', 'LFY', 'WUS', 'TFL1', 'PI']]),\n",
    "    ('0.03125',14,[['AP3', 'UFO', 'AP1', 'LFY', 'WUS', 'PI'],['AP3', 'UFO', 'EMF1', 'WUS', 'TFL1', 'PI'],['AP3', 'UFO', 'LFY', 'WUS', 'TFL1', 'PI']]),\n",
    "    ('0.046875',14,[['AP3', 'UFO', 'AP1', 'LFY', 'WUS', 'PI'],['AP3', 'UFO', 'EMF1', 'WUS', 'TFL1', 'PI'],['AP3', 'UFO', 'LFY', 'WUS', 'TFL1', 'PI']]),\n",
    "    ('0.09375',13,[['AP3', 'UFO', 'AP1', 'LFY', 'WUS'],['AP3', 'UFO', 'EMF1', 'WUS', 'TFL1'],['AP3', 'UFO', 'LFY', 'WUS', 'TFL1']]),\n",
    "    ('0.125',10,[['AP3', 'UFO', 'AP1', 'LFY', 'WUS'],['AP3', 'UFO', 'EMF1', 'WUS', 'TFL1'],['AP3', 'UFO', 'LFY', 'WUS', 'AG'],['AP3', 'UFO', 'LFY', 'WUS', 'TFL1']]),\n",
    "    ('0.140625',8,[['UFO', 'AP1', 'LFY', 'WUS'],['UFO', 'EMF1', 'WUS', 'TFL1'],['UFO', 'LFY', 'WUS', 'AG'],['UFO', 'LFY', 'WUS', 'TFL1']]),\n",
    "    ('0.25',3,[['UFO', 'EMF1', 'WUS', 'TFL1'],['UFO', 'LFY', 'WUS', 'TFL1']]),\n",
    "    ('0.2734375',3,[['UFO', 'EMF1', 'WUS', 'TFL1'],['UFO', 'LFY', 'WUS', 'TFL1']]),\n",
    "    ('0.28125',3,[['UFO', 'EMF1', 'WUS', 'TFL1'],['UFO', 'LFY', 'WUS', 'TFL1']]),\n",
    "    ('0.34375',3,[['UFO', 'EMF1', 'WUS', 'TFL1'],['UFO', 'LFY', 'WUS', 'TFL1']]),\n",
    "    ('0.453125',3,[['AP3', 'UFO', 'EMF1', 'WUS', 'TFL1'],['AP3', 'UFO', 'LFY', 'WUS', 'TFL1']]),\n",
    "    ('0.5',2,[['AP3', 'UFO', 'FUL', 'LFY', 'WUS', 'TFL1']]),\n",
    "    ('0.65625',2,[['AP3', 'UFO', 'FUL', 'LFY', 'WUS', 'TFL1', 'PI']]),\n",
    "    ('0.7265625',2,[['AP3', 'UFO', 'FUL', 'LFY', 'WUS', 'AG', 'TFL1', 'PI']]),\n",
    "    ('0.75',1,[['AP3', 'UFO', 'FUL', 'LFY', 'WUS', 'AG', 'TFL1', 'PI']]),\n",
    "    ('0.875',1,[['AP3', 'UFO', 'FUL', 'AP1', 'LFY', 'WUS', 'AG', 'TFL1', 'PI']])\n",
    "    ]\n",
    "# Sort Sets by alphabetical order\n",
    "FVC_Objs = [(name,loops,[sorted(x) for x in sets]) for (name,loops,sets) in FVC_Objs]"
   ]
  },
  {
   "cell_type": "code",
   "execution_count": 35,
   "metadata": {
    "collapsed": false
   },
   "outputs": [],
   "source": [
    "def jaccard(u,v):\n",
    "    u, v = set(u), set(v)\n",
    "    return len(u.intersection(v)) / len(u.union(v))"
   ]
  },
  {
   "cell_type": "code",
   "execution_count": 44,
   "metadata": {
    "collapsed": false
   },
   "outputs": [
    {
     "name": "stdout",
     "output_type": "stream",
     "text": [
      "T: original\n",
      "J = 0.444 -> (1)AP2,EMF1,LFY,TFL1,UFO,WUS <-> (0)AG,AP3,LFY,PI,TFL1,UFO,WUS\n",
      "J = 0.625 -> (2)AG,EMF1,LFY,TFL1,UFO,WUS  <-> (0)AG,AP3,LFY,PI,TFL1,UFO,WUS\n",
      "\n",
      "T: 0\n",
      "J = 0.200 -> (1)AP2,EMF1,LFY,TFL1,UFO,WUS <-> (0)AP1,AP3,LFY,PI,UFO,WUSAG\n",
      "J = 0.200 -> (2)AG,EMF1,LFY,TFL1,UFO,WUS  <-> (0)AP1,AP3,LFY,PI,UFO,WUSAG\n",
      "J = 0.444 -> (1)AP2,EMF1,LFY,TFL1,UFO,WUS <-> (1)AG,AP3,EMF1,PI,TFL1,UFO,WUS\n",
      "J = 0.625 -> (2)AG,EMF1,LFY,TFL1,UFO,WUS  <-> (1)AG,AP3,EMF1,PI,TFL1,UFO,WUS\n",
      "J = 0.444 -> (1)AP2,EMF1,LFY,TFL1,UFO,WUS <-> (2)AG,AP3,LFY,PI,TFL1,UFO,WUS\n",
      "J = 0.625 -> (2)AG,EMF1,LFY,TFL1,UFO,WUS  <-> (2)AG,AP3,LFY,PI,TFL1,UFO,WUS\n",
      "\n",
      "T: 0.0078125\n",
      "J = 0.333 -> (1)AP2,EMF1,LFY,TFL1,UFO,WUS <-> (0)AP1,AP3,LFY,PI,UFO,WUS\n",
      "J = 0.333 -> (2)AG,EMF1,LFY,TFL1,UFO,WUS  <-> (0)AP1,AP3,LFY,PI,UFO,WUS\n",
      "\n",
      "T: 0.0234375\n",
      "J = 0.333 -> (1)AP2,EMF1,LFY,TFL1,UFO,WUS <-> (0)AP1,AP3,LFY,PI,UFO,WUS\n",
      "J = 0.333 -> (2)AG,EMF1,LFY,TFL1,UFO,WUS  <-> (0)AP1,AP3,LFY,PI,UFO,WUS\n",
      "J = 0.500 -> (1)AP2,EMF1,LFY,TFL1,UFO,WUS <-> (1)AP3,EMF1,PI,TFL1,UFO,WUS\n",
      "J = 0.500 -> (2)AG,EMF1,LFY,TFL1,UFO,WUS  <-> (1)AP3,EMF1,PI,TFL1,UFO,WUS\n",
      "J = 0.500 -> (1)AP2,EMF1,LFY,TFL1,UFO,WUS <-> (2)AP3,LFY,PI,TFL1,UFO,WUS\n",
      "J = 0.500 -> (2)AG,EMF1,LFY,TFL1,UFO,WUS  <-> (2)AP3,LFY,PI,TFL1,UFO,WUS\n",
      "\n",
      "T: 0.03125\n",
      "J = 0.333 -> (1)AP2,EMF1,LFY,TFL1,UFO,WUS <-> (0)AP1,AP3,LFY,PI,UFO,WUS\n",
      "J = 0.333 -> (2)AG,EMF1,LFY,TFL1,UFO,WUS  <-> (0)AP1,AP3,LFY,PI,UFO,WUS\n",
      "J = 0.500 -> (1)AP2,EMF1,LFY,TFL1,UFO,WUS <-> (1)AP3,EMF1,PI,TFL1,UFO,WUS\n",
      "J = 0.500 -> (2)AG,EMF1,LFY,TFL1,UFO,WUS  <-> (1)AP3,EMF1,PI,TFL1,UFO,WUS\n",
      "J = 0.500 -> (1)AP2,EMF1,LFY,TFL1,UFO,WUS <-> (2)AP3,LFY,PI,TFL1,UFO,WUS\n",
      "J = 0.500 -> (2)AG,EMF1,LFY,TFL1,UFO,WUS  <-> (2)AP3,LFY,PI,TFL1,UFO,WUS\n",
      "\n",
      "T: 0.046875\n",
      "J = 0.333 -> (1)AP2,EMF1,LFY,TFL1,UFO,WUS <-> (0)AP1,AP3,LFY,PI,UFO,WUS\n",
      "J = 0.333 -> (2)AG,EMF1,LFY,TFL1,UFO,WUS  <-> (0)AP1,AP3,LFY,PI,UFO,WUS\n",
      "J = 0.500 -> (1)AP2,EMF1,LFY,TFL1,UFO,WUS <-> (1)AP3,EMF1,PI,TFL1,UFO,WUS\n",
      "J = 0.500 -> (2)AG,EMF1,LFY,TFL1,UFO,WUS  <-> (1)AP3,EMF1,PI,TFL1,UFO,WUS\n",
      "J = 0.500 -> (1)AP2,EMF1,LFY,TFL1,UFO,WUS <-> (2)AP3,LFY,PI,TFL1,UFO,WUS\n",
      "J = 0.500 -> (2)AG,EMF1,LFY,TFL1,UFO,WUS  <-> (2)AP3,LFY,PI,TFL1,UFO,WUS\n",
      "\n",
      "T: 0.09375\n",
      "J = 0.375 -> (1)AP2,EMF1,LFY,TFL1,UFO,WUS <-> (0)AP1,AP3,LFY,UFO,WUS\n",
      "J = 0.375 -> (2)AG,EMF1,LFY,TFL1,UFO,WUS  <-> (0)AP1,AP3,LFY,UFO,WUS\n",
      "J = 0.571 -> (1)AP2,EMF1,LFY,TFL1,UFO,WUS <-> (1)AP3,EMF1,TFL1,UFO,WUS\n",
      "J = 0.571 -> (2)AG,EMF1,LFY,TFL1,UFO,WUS  <-> (1)AP3,EMF1,TFL1,UFO,WUS\n",
      "J = 0.571 -> (1)AP2,EMF1,LFY,TFL1,UFO,WUS <-> (2)AP3,LFY,TFL1,UFO,WUS\n",
      "J = 0.571 -> (2)AG,EMF1,LFY,TFL1,UFO,WUS  <-> (2)AP3,LFY,TFL1,UFO,WUS\n",
      "\n",
      "T: 0.125\n",
      "J = 0.375 -> (1)AP2,EMF1,LFY,TFL1,UFO,WUS <-> (0)AP1,AP3,LFY,UFO,WUS\n",
      "J = 0.375 -> (2)AG,EMF1,LFY,TFL1,UFO,WUS  <-> (0)AP1,AP3,LFY,UFO,WUS\n",
      "J = 0.571 -> (1)AP2,EMF1,LFY,TFL1,UFO,WUS <-> (1)AP3,EMF1,TFL1,UFO,WUS\n",
      "J = 0.571 -> (2)AG,EMF1,LFY,TFL1,UFO,WUS  <-> (1)AP3,EMF1,TFL1,UFO,WUS\n",
      "J = 0.375 -> (1)AP2,EMF1,LFY,TFL1,UFO,WUS <-> (2)AG,AP3,LFY,UFO,WUS\n",
      "J = 0.571 -> (2)AG,EMF1,LFY,TFL1,UFO,WUS  <-> (2)AG,AP3,LFY,UFO,WUS\n",
      "J = 0.571 -> (1)AP2,EMF1,LFY,TFL1,UFO,WUS <-> (3)AP3,LFY,TFL1,UFO,WUS\n",
      "J = 0.571 -> (2)AG,EMF1,LFY,TFL1,UFO,WUS  <-> (3)AP3,LFY,TFL1,UFO,WUS\n",
      "\n",
      "T: 0.140625\n",
      "J = 0.429 -> (1)AP2,EMF1,LFY,TFL1,UFO,WUS <-> (0)AP1,LFY,UFO,WUS\n",
      "J = 0.429 -> (2)AG,EMF1,LFY,TFL1,UFO,WUS  <-> (0)AP1,LFY,UFO,WUS\n",
      "J = 0.667 -> (1)AP2,EMF1,LFY,TFL1,UFO,WUS <-> (1)EMF1,TFL1,UFO,WUS\n",
      "J = 0.667 -> (2)AG,EMF1,LFY,TFL1,UFO,WUS  <-> (1)EMF1,TFL1,UFO,WUS\n",
      "J = 0.429 -> (1)AP2,EMF1,LFY,TFL1,UFO,WUS <-> (2)AG,LFY,UFO,WUS\n",
      "J = 0.667 -> (2)AG,EMF1,LFY,TFL1,UFO,WUS  <-> (2)AG,LFY,UFO,WUS\n",
      "J = 0.667 -> (1)AP2,EMF1,LFY,TFL1,UFO,WUS <-> (3)LFY,TFL1,UFO,WUS\n",
      "J = 0.667 -> (2)AG,EMF1,LFY,TFL1,UFO,WUS  <-> (3)LFY,TFL1,UFO,WUS\n",
      "\n",
      "T: 0.25\n",
      "J = 0.667 -> (1)AP2,EMF1,LFY,TFL1,UFO,WUS <-> (0)EMF1,TFL1,UFO,WUS\n",
      "J = 0.667 -> (2)AG,EMF1,LFY,TFL1,UFO,WUS  <-> (0)EMF1,TFL1,UFO,WUS\n",
      "J = 0.667 -> (1)AP2,EMF1,LFY,TFL1,UFO,WUS <-> (1)LFY,TFL1,UFO,WUS\n",
      "J = 0.667 -> (2)AG,EMF1,LFY,TFL1,UFO,WUS  <-> (1)LFY,TFL1,UFO,WUS\n",
      "\n",
      "T: 0.2734375\n",
      "J = 0.667 -> (1)AP2,EMF1,LFY,TFL1,UFO,WUS <-> (0)EMF1,TFL1,UFO,WUS\n",
      "J = 0.667 -> (2)AG,EMF1,LFY,TFL1,UFO,WUS  <-> (0)EMF1,TFL1,UFO,WUS\n",
      "J = 0.667 -> (1)AP2,EMF1,LFY,TFL1,UFO,WUS <-> (1)LFY,TFL1,UFO,WUS\n",
      "J = 0.667 -> (2)AG,EMF1,LFY,TFL1,UFO,WUS  <-> (1)LFY,TFL1,UFO,WUS\n",
      "\n",
      "T: 0.28125\n",
      "J = 0.667 -> (1)AP2,EMF1,LFY,TFL1,UFO,WUS <-> (0)EMF1,TFL1,UFO,WUS\n",
      "J = 0.667 -> (2)AG,EMF1,LFY,TFL1,UFO,WUS  <-> (0)EMF1,TFL1,UFO,WUS\n",
      "J = 0.667 -> (1)AP2,EMF1,LFY,TFL1,UFO,WUS <-> (1)LFY,TFL1,UFO,WUS\n",
      "J = 0.667 -> (2)AG,EMF1,LFY,TFL1,UFO,WUS  <-> (1)LFY,TFL1,UFO,WUS\n",
      "\n",
      "T: 0.34375\n",
      "J = 0.667 -> (1)AP2,EMF1,LFY,TFL1,UFO,WUS <-> (0)EMF1,TFL1,UFO,WUS\n",
      "J = 0.667 -> (2)AG,EMF1,LFY,TFL1,UFO,WUS  <-> (0)EMF1,TFL1,UFO,WUS\n",
      "J = 0.667 -> (1)AP2,EMF1,LFY,TFL1,UFO,WUS <-> (1)LFY,TFL1,UFO,WUS\n",
      "J = 0.667 -> (2)AG,EMF1,LFY,TFL1,UFO,WUS  <-> (1)LFY,TFL1,UFO,WUS\n",
      "\n",
      "T: 0.453125\n",
      "J = 0.571 -> (1)AP2,EMF1,LFY,TFL1,UFO,WUS <-> (0)AP3,EMF1,TFL1,UFO,WUS\n",
      "J = 0.571 -> (2)AG,EMF1,LFY,TFL1,UFO,WUS  <-> (0)AP3,EMF1,TFL1,UFO,WUS\n",
      "J = 0.571 -> (1)AP2,EMF1,LFY,TFL1,UFO,WUS <-> (1)AP3,LFY,TFL1,UFO,WUS\n",
      "J = 0.571 -> (2)AG,EMF1,LFY,TFL1,UFO,WUS  <-> (1)AP3,LFY,TFL1,UFO,WUS\n",
      "\n",
      "T: 0.5\n",
      "J = 0.500 -> (1)AP2,EMF1,LFY,TFL1,UFO,WUS <-> (0)AP3,FUL,LFY,TFL1,UFO,WUS\n",
      "J = 0.500 -> (2)AG,EMF1,LFY,TFL1,UFO,WUS  <-> (0)AP3,FUL,LFY,TFL1,UFO,WUS\n",
      "\n",
      "T: 0.65625\n",
      "J = 0.444 -> (1)AP2,EMF1,LFY,TFL1,UFO,WUS <-> (0)AP3,FUL,LFY,PI,TFL1,UFO,WUS\n",
      "J = 0.444 -> (2)AG,EMF1,LFY,TFL1,UFO,WUS  <-> (0)AP3,FUL,LFY,PI,TFL1,UFO,WUS\n",
      "\n",
      "T: 0.7265625\n",
      "J = 0.400 -> (1)AP2,EMF1,LFY,TFL1,UFO,WUS <-> (0)AG,AP3,FUL,LFY,PI,TFL1,UFO,WUS\n",
      "J = 0.556 -> (2)AG,EMF1,LFY,TFL1,UFO,WUS  <-> (0)AG,AP3,FUL,LFY,PI,TFL1,UFO,WUS\n",
      "\n",
      "T: 0.75\n",
      "J = 0.400 -> (1)AP2,EMF1,LFY,TFL1,UFO,WUS <-> (0)AG,AP3,FUL,LFY,PI,TFL1,UFO,WUS\n",
      "J = 0.556 -> (2)AG,EMF1,LFY,TFL1,UFO,WUS  <-> (0)AG,AP3,FUL,LFY,PI,TFL1,UFO,WUS\n",
      "\n",
      "T: 0.875\n",
      "J = 0.364 -> (1)AP2,EMF1,LFY,TFL1,UFO,WUS <-> (0)AG,AP1,AP3,FUL,LFY,PI,TFL1,UFO,WUS\n",
      "J = 0.500 -> (2)AG,EMF1,LFY,TFL1,UFO,WUS  <-> (0)AG,AP1,AP3,FUL,LFY,PI,TFL1,UFO,WUS\n",
      "\n"
     ]
    }
   ],
   "source": [
    "for FVC_O in FVC_Objs:\n",
    "    print 'T: %s' % (FVC_O[0])\n",
    "    for i,FVC in enumerate(FVC_O[2]):\n",
    "        strFVC = ','.join(FVC)\n",
    "        strCSTG_0 = ','.join(CSTGs[0])\n",
    "        strCSTG_1 = ','.join(CSTGs[1])\n",
    "        print 'J = %.3f -> (1)%s <-> (%d)%s' % (jaccard(CSTGs[0],FVC) , strCSTG_0 , i , strFVC)\n",
    "        print 'J = %.3f -> (2)%s  <-> (%d)%s' % (jaccard(CSTGs[1],FVC) , strCSTG_1 , i , strFVC)\n",
    "    print"
   ]
  },
  {
   "cell_type": "code",
   "execution_count": null,
   "metadata": {
    "collapsed": true
   },
   "outputs": [],
   "source": []
  }
 ],
 "metadata": {
  "kernelspec": {
   "display_name": "Python 2",
   "language": "python",
   "name": "python2"
  },
  "language_info": {
   "codemirror_mode": {
    "name": "ipython",
    "version": 2
   },
   "file_extension": ".py",
   "mimetype": "text/x-python",
   "name": "python",
   "nbconvert_exporter": "python",
   "pygments_lexer": "ipython2",
   "version": "2.7.11"
  }
 },
 "nbformat": 4,
 "nbformat_minor": 2
}
